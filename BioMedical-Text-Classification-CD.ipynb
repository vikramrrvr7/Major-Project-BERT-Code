{
 "cells": [
  {
   "cell_type": "code",
   "execution_count": 47,
   "id": "b114cc6a",
   "metadata": {},
   "outputs": [],
   "source": [
    "import os"
   ]
  },
  {
   "cell_type": "code",
   "execution_count": 48,
   "id": "e171d21b",
   "metadata": {},
   "outputs": [],
   "source": [
    "import pickle"
   ]
  },
  {
   "cell_type": "code",
   "execution_count": 49,
   "id": "8818746c",
   "metadata": {},
   "outputs": [],
   "source": [
    "from typing import Dict"
   ]
  },
  {
   "cell_type": "code",
   "execution_count": 50,
   "id": "dc30ddf4",
   "metadata": {},
   "outputs": [],
   "source": [
    "from ast import literal_eval"
   ]
  },
  {
   "cell_type": "code",
   "execution_count": 51,
   "id": "39b6c412",
   "metadata": {},
   "outputs": [],
   "source": [
    "import seaborn as sns"
   ]
  },
  {
   "cell_type": "code",
   "execution_count": 52,
   "id": "6115b875",
   "metadata": {},
   "outputs": [],
   "source": [
    "import matplotlib.pyplot as plt"
   ]
  },
  {
   "cell_type": "code",
   "execution_count": 53,
   "id": "43c2860d",
   "metadata": {},
   "outputs": [],
   "source": [
    "%matplotlib inline"
   ]
  },
  {
   "cell_type": "code",
   "execution_count": 54,
   "id": "17e9c4b6",
   "metadata": {},
   "outputs": [],
   "source": [
    "from tqdm import tqdm, trange"
   ]
  },
  {
   "cell_type": "code",
   "execution_count": 55,
   "id": "b76d719e",
   "metadata": {},
   "outputs": [],
   "source": [
    "import pandas as pd"
   ]
  },
  {
   "cell_type": "code",
   "execution_count": 56,
   "id": "2830d6fd",
   "metadata": {},
   "outputs": [],
   "source": [
    "import numpy as np"
   ]
  },
  {
   "cell_type": "code",
   "execution_count": 57,
   "id": "3eb05751",
   "metadata": {},
   "outputs": [],
   "source": [
    "import torch"
   ]
  },
  {
   "cell_type": "code",
   "execution_count": 58,
   "id": "7039e84b",
   "metadata": {},
   "outputs": [],
   "source": [
    "from torch.optim import AdamW"
   ]
  },
  {
   "cell_type": "code",
   "execution_count": 59,
   "id": "37e1998a",
   "metadata": {},
   "outputs": [],
   "source": [
    "from torch.nn import BCEWithLogitsLoss, BCELoss"
   ]
  },
  {
   "cell_type": "code",
   "execution_count": 60,
   "id": "7b02f057",
   "metadata": {},
   "outputs": [],
   "source": [
    "from torch.utils.data import TensorDataset, DataLoader, RandomSampler, SequentialSampler"
   ]
  },
  {
   "cell_type": "code",
   "execution_count": 61,
   "id": "ff78aeb9",
   "metadata": {},
   "outputs": [],
   "source": [
    "from transformers import XLNetForSequenceClassification, XLNetTokenizer,BertForSequenceClassification,BertTokenizer, RobertaForSequenceClassification,RobertaTokenizer"
   ]
  },
  {
   "cell_type": "code",
   "execution_count": 62,
   "id": "8abdd8c1",
   "metadata": {},
   "outputs": [],
   "source": [
    "from sklearn.model_selection import train_test_split"
   ]
  },
  {
   "cell_type": "code",
   "execution_count": 63,
   "id": "b08773b8",
   "metadata": {},
   "outputs": [],
   "source": [
    "from sklearn.preprocessing import MultiLabelBinarizer"
   ]
  },
  {
   "cell_type": "code",
   "execution_count": 64,
   "id": "40821eeb",
   "metadata": {},
   "outputs": [],
   "source": [
    "from sklearn.metrics import classification_report, confusion_matrix, multilabel_confusion_matrix, f1_score, accuracy_score"
   ]
  },
  {
   "cell_type": "code",
   "execution_count": 65,
   "id": "cb5b3e1c",
   "metadata": {
    "execution": {
     "iopub.execute_input": "2023-04-11T06:19:56.959977Z",
     "iopub.status.busy": "2023-04-11T06:19:56.958132Z",
     "iopub.status.idle": "2023-04-11T06:19:56.964218Z",
     "shell.execute_reply": "2023-04-11T06:19:56.963391Z"
    },
    "papermill": {
     "duration": 0.021286,
     "end_time": "2023-04-11T06:19:56.966075",
     "exception": false,
     "start_time": "2023-04-11T06:19:56.944789",
     "status": "completed"
    },
    "tags": []
   },
   "outputs": [],
   "source": [
    "def warn(*args, **kwargs):\n",
    "    pass\n",
    "import warnings\n",
    "warnings.warn = warn"
   ]
  },
  {
   "cell_type": "code",
   "execution_count": 66,
   "id": "76a654d2",
   "metadata": {
    "execution": {
     "iopub.execute_input": "2023-04-11T06:19:56.992921Z",
     "iopub.status.busy": "2023-04-11T06:19:56.991488Z",
     "iopub.status.idle": "2023-04-11T06:19:57.000611Z",
     "shell.execute_reply": "2023-04-11T06:19:56.999708Z"
    },
    "papermill": {
     "duration": 0.024457,
     "end_time": "2023-04-11T06:19:57.002566",
     "exception": false,
     "start_time": "2023-04-11T06:19:56.978109",
     "status": "completed"
    },
    "tags": []
   },
   "outputs": [
    {
     "data": {
      "text/plain": [
       "'1.13.1+cpu'"
      ]
     },
     "execution_count": 66,
     "metadata": {},
     "output_type": "execute_result"
    }
   ],
   "source": [
    "torch.__version__"
   ]
  },
  {
   "cell_type": "code",
   "execution_count": 67,
   "id": "821c85dd",
   "metadata": {
    "execution": {
     "iopub.execute_input": "2023-04-11T06:20:01.653879Z",
     "iopub.status.busy": "2023-04-11T06:20:01.653558Z",
     "iopub.status.idle": "2023-04-11T06:20:01.662816Z",
     "shell.execute_reply": "2023-04-11T06:20:01.661787Z"
    },
    "papermill": {
     "duration": 0.024404,
     "end_time": "2023-04-11T06:20:01.664648",
     "exception": false,
     "start_time": "2023-04-11T06:20:01.640244",
     "status": "completed"
    },
    "tags": []
   },
   "outputs": [],
   "source": [
    "device = \"cpu\""
   ]
  },
  {
   "cell_type": "code",
   "execution_count": 68,
   "id": "dc74989b",
   "metadata": {},
   "outputs": [],
   "source": [
    "dataset_Name='Dataset/PubMed-Dataset.csv'"
   ]
  },
  {
   "cell_type": "code",
   "execution_count": 69,
   "id": "32f4abff",
   "metadata": {},
   "outputs": [],
   "source": [
    "df= pd.read_csv(dataset_Name, nrows=2000)"
   ]
  },
  {
   "cell_type": "code",
   "execution_count": 70,
   "id": "6e6ce69b",
   "metadata": {
    "execution": {
     "iopub.execute_input": "2023-04-11T06:20:07.224383Z",
     "iopub.status.busy": "2023-04-11T06:20:07.223460Z",
     "iopub.status.idle": "2023-04-11T06:20:09.786667Z",
     "shell.execute_reply": "2023-04-11T06:20:09.785743Z"
    },
    "papermill": {
     "duration": 2.582314,
     "end_time": "2023-04-11T06:20:09.789332",
     "exception": false,
     "start_time": "2023-04-11T06:20:07.207018",
     "status": "completed"
    },
    "tags": []
   },
   "outputs": [
    {
     "data": {
      "text/html": [
       "<div>\n",
       "<style scoped>\n",
       "    .dataframe tbody tr th:only-of-type {\n",
       "        vertical-align: middle;\n",
       "    }\n",
       "\n",
       "    .dataframe tbody tr th {\n",
       "        vertical-align: top;\n",
       "    }\n",
       "\n",
       "    .dataframe thead th {\n",
       "        text-align: right;\n",
       "    }\n",
       "</style>\n",
       "<table border=\"1\" class=\"dataframe\">\n",
       "  <thead>\n",
       "    <tr style=\"text-align: right;\">\n",
       "      <th></th>\n",
       "      <th>Title</th>\n",
       "      <th>abstractText</th>\n",
       "      <th>meshMajor</th>\n",
       "      <th>pmid</th>\n",
       "      <th>meshid</th>\n",
       "      <th>meshroot</th>\n",
       "      <th>A</th>\n",
       "      <th>B</th>\n",
       "      <th>C</th>\n",
       "      <th>D</th>\n",
       "      <th>E</th>\n",
       "      <th>F</th>\n",
       "      <th>G</th>\n",
       "      <th>H</th>\n",
       "      <th>I</th>\n",
       "      <th>J</th>\n",
       "      <th>L</th>\n",
       "      <th>M</th>\n",
       "      <th>N</th>\n",
       "      <th>Z</th>\n",
       "    </tr>\n",
       "  </thead>\n",
       "  <tbody>\n",
       "    <tr>\n",
       "      <th>0</th>\n",
       "      <td>Expression of p53 and coexistence of HPV in pr...</td>\n",
       "      <td>Fifty-four paraffin embedded tissue sections f...</td>\n",
       "      <td>['DNA Probes, HPV', 'DNA, Viral', 'Female', 'H...</td>\n",
       "      <td>8549602</td>\n",
       "      <td>[['D13.444.600.223.555', 'D27.505.259.750.600....</td>\n",
       "      <td>['Chemicals and Drugs [D]', 'Organisms [B]', '...</td>\n",
       "      <td>0</td>\n",
       "      <td>1</td>\n",
       "      <td>1</td>\n",
       "      <td>1</td>\n",
       "      <td>1</td>\n",
       "      <td>0</td>\n",
       "      <td>0</td>\n",
       "      <td>1</td>\n",
       "      <td>0</td>\n",
       "      <td>0</td>\n",
       "      <td>0</td>\n",
       "      <td>0</td>\n",
       "      <td>0</td>\n",
       "      <td>0</td>\n",
       "    </tr>\n",
       "    <tr>\n",
       "      <th>1</th>\n",
       "      <td>Vitamin D status in pregnant Indian women acro...</td>\n",
       "      <td>The present cross-sectional study was conducte...</td>\n",
       "      <td>['Adult', 'Alkaline Phosphatase', 'Breast Feed...</td>\n",
       "      <td>21736816</td>\n",
       "      <td>[['M01.060.116'], ['D08.811.277.352.650.035'],...</td>\n",
       "      <td>['Named Groups [M]', 'Chemicals and Drugs [D]'...</td>\n",
       "      <td>0</td>\n",
       "      <td>1</td>\n",
       "      <td>1</td>\n",
       "      <td>1</td>\n",
       "      <td>1</td>\n",
       "      <td>1</td>\n",
       "      <td>1</td>\n",
       "      <td>0</td>\n",
       "      <td>1</td>\n",
       "      <td>1</td>\n",
       "      <td>0</td>\n",
       "      <td>1</td>\n",
       "      <td>1</td>\n",
       "      <td>1</td>\n",
       "    </tr>\n",
       "    <tr>\n",
       "      <th>2</th>\n",
       "      <td>[Identification of a functionally important di...</td>\n",
       "      <td>The occurrence of individual amino acids and d...</td>\n",
       "      <td>['Amino Acid Sequence', 'Analgesics, Opioid', ...</td>\n",
       "      <td>19060934</td>\n",
       "      <td>[['G02.111.570.060', 'L01.453.245.667.060'], [...</td>\n",
       "      <td>['Phenomena and Processes [G]', 'Information S...</td>\n",
       "      <td>1</td>\n",
       "      <td>1</td>\n",
       "      <td>0</td>\n",
       "      <td>1</td>\n",
       "      <td>1</td>\n",
       "      <td>0</td>\n",
       "      <td>1</td>\n",
       "      <td>0</td>\n",
       "      <td>0</td>\n",
       "      <td>0</td>\n",
       "      <td>1</td>\n",
       "      <td>0</td>\n",
       "      <td>0</td>\n",
       "      <td>0</td>\n",
       "    </tr>\n",
       "    <tr>\n",
       "      <th>3</th>\n",
       "      <td>Multilayer capsules: a promising microencapsul...</td>\n",
       "      <td>In 1980, Lim and Sun introduced a microcapsule...</td>\n",
       "      <td>['Acrylic Resins', 'Alginates', 'Animals', 'Bi...</td>\n",
       "      <td>11426874</td>\n",
       "      <td>[['D05.750.716.822.111', 'D25.720.716.822.111'...</td>\n",
       "      <td>['Chemicals and Drugs [D]', 'Technology, Indus...</td>\n",
       "      <td>1</td>\n",
       "      <td>1</td>\n",
       "      <td>1</td>\n",
       "      <td>1</td>\n",
       "      <td>1</td>\n",
       "      <td>0</td>\n",
       "      <td>1</td>\n",
       "      <td>0</td>\n",
       "      <td>0</td>\n",
       "      <td>1</td>\n",
       "      <td>0</td>\n",
       "      <td>0</td>\n",
       "      <td>0</td>\n",
       "      <td>0</td>\n",
       "    </tr>\n",
       "    <tr>\n",
       "      <th>4</th>\n",
       "      <td>Nanohydrogel with N,N'-bis(acryloyl)cystine cr...</td>\n",
       "      <td>Substantially improved hydrogel particles base...</td>\n",
       "      <td>['Antineoplastic Agents', 'Cell Proliferation'...</td>\n",
       "      <td>28323099</td>\n",
       "      <td>[['D27.505.954.248'], ['G04.161.750', 'G07.345...</td>\n",
       "      <td>['Chemicals and Drugs [D]', 'Phenomena and Pro...</td>\n",
       "      <td>1</td>\n",
       "      <td>1</td>\n",
       "      <td>0</td>\n",
       "      <td>1</td>\n",
       "      <td>1</td>\n",
       "      <td>0</td>\n",
       "      <td>1</td>\n",
       "      <td>0</td>\n",
       "      <td>0</td>\n",
       "      <td>1</td>\n",
       "      <td>0</td>\n",
       "      <td>0</td>\n",
       "      <td>0</td>\n",
       "      <td>0</td>\n",
       "    </tr>\n",
       "  </tbody>\n",
       "</table>\n",
       "</div>"
      ],
      "text/plain": [
       "                                               Title  \\\n",
       "0  Expression of p53 and coexistence of HPV in pr...   \n",
       "1  Vitamin D status in pregnant Indian women acro...   \n",
       "2  [Identification of a functionally important di...   \n",
       "3  Multilayer capsules: a promising microencapsul...   \n",
       "4  Nanohydrogel with N,N'-bis(acryloyl)cystine cr...   \n",
       "\n",
       "                                        abstractText  \\\n",
       "0  Fifty-four paraffin embedded tissue sections f...   \n",
       "1  The present cross-sectional study was conducte...   \n",
       "2  The occurrence of individual amino acids and d...   \n",
       "3  In 1980, Lim and Sun introduced a microcapsule...   \n",
       "4  Substantially improved hydrogel particles base...   \n",
       "\n",
       "                                           meshMajor      pmid  \\\n",
       "0  ['DNA Probes, HPV', 'DNA, Viral', 'Female', 'H...   8549602   \n",
       "1  ['Adult', 'Alkaline Phosphatase', 'Breast Feed...  21736816   \n",
       "2  ['Amino Acid Sequence', 'Analgesics, Opioid', ...  19060934   \n",
       "3  ['Acrylic Resins', 'Alginates', 'Animals', 'Bi...  11426874   \n",
       "4  ['Antineoplastic Agents', 'Cell Proliferation'...  28323099   \n",
       "\n",
       "                                              meshid  \\\n",
       "0  [['D13.444.600.223.555', 'D27.505.259.750.600....   \n",
       "1  [['M01.060.116'], ['D08.811.277.352.650.035'],...   \n",
       "2  [['G02.111.570.060', 'L01.453.245.667.060'], [...   \n",
       "3  [['D05.750.716.822.111', 'D25.720.716.822.111'...   \n",
       "4  [['D27.505.954.248'], ['G04.161.750', 'G07.345...   \n",
       "\n",
       "                                            meshroot  A  B  C  D  E  F  G  H  \\\n",
       "0  ['Chemicals and Drugs [D]', 'Organisms [B]', '...  0  1  1  1  1  0  0  1   \n",
       "1  ['Named Groups [M]', 'Chemicals and Drugs [D]'...  0  1  1  1  1  1  1  0   \n",
       "2  ['Phenomena and Processes [G]', 'Information S...  1  1  0  1  1  0  1  0   \n",
       "3  ['Chemicals and Drugs [D]', 'Technology, Indus...  1  1  1  1  1  0  1  0   \n",
       "4  ['Chemicals and Drugs [D]', 'Phenomena and Pro...  1  1  0  1  1  0  1  0   \n",
       "\n",
       "   I  J  L  M  N  Z  \n",
       "0  0  0  0  0  0  0  \n",
       "1  1  1  0  1  1  1  \n",
       "2  0  0  1  0  0  0  \n",
       "3  0  1  0  0  0  0  \n",
       "4  0  1  0  0  0  0  "
      ]
     },
     "execution_count": 70,
     "metadata": {},
     "output_type": "execute_result"
    }
   ],
   "source": [
    "df.head()"
   ]
  },
  {
   "cell_type": "code",
   "execution_count": 71,
   "id": "05951032",
   "metadata": {},
   "outputs": [
    {
     "data": {
      "text/html": [
       "<div>\n",
       "<style scoped>\n",
       "    .dataframe tbody tr th:only-of-type {\n",
       "        vertical-align: middle;\n",
       "    }\n",
       "\n",
       "    .dataframe tbody tr th {\n",
       "        vertical-align: top;\n",
       "    }\n",
       "\n",
       "    .dataframe thead th {\n",
       "        text-align: right;\n",
       "    }\n",
       "</style>\n",
       "<table border=\"1\" class=\"dataframe\">\n",
       "  <thead>\n",
       "    <tr style=\"text-align: right;\">\n",
       "      <th></th>\n",
       "      <th>Title</th>\n",
       "      <th>abstractText</th>\n",
       "      <th>meshMajor</th>\n",
       "      <th>pmid</th>\n",
       "      <th>meshid</th>\n",
       "      <th>meshroot</th>\n",
       "      <th>A</th>\n",
       "      <th>B</th>\n",
       "      <th>C</th>\n",
       "      <th>D</th>\n",
       "      <th>E</th>\n",
       "      <th>F</th>\n",
       "      <th>G</th>\n",
       "      <th>H</th>\n",
       "      <th>I</th>\n",
       "      <th>J</th>\n",
       "      <th>L</th>\n",
       "      <th>M</th>\n",
       "      <th>N</th>\n",
       "      <th>Z</th>\n",
       "    </tr>\n",
       "  </thead>\n",
       "  <tbody>\n",
       "    <tr>\n",
       "      <th>1094</th>\n",
       "      <td>Expression profiling defines a recurrence sign...</td>\n",
       "      <td>Lung cancer remains the leading cause of cance...</td>\n",
       "      <td>['Aged', 'Carcinoma, Squamous Cell', 'Female',...</td>\n",
       "      <td>17082175</td>\n",
       "      <td>[['M01.060.116.100'], ['C04.557.470.200.400', ...</td>\n",
       "      <td>['Named Groups [M]', 'Diseases [C]', 'Analytic...</td>\n",
       "      <td>0</td>\n",
       "      <td>1</td>\n",
       "      <td>1</td>\n",
       "      <td>0</td>\n",
       "      <td>1</td>\n",
       "      <td>0</td>\n",
       "      <td>0</td>\n",
       "      <td>0</td>\n",
       "      <td>0</td>\n",
       "      <td>0</td>\n",
       "      <td>0</td>\n",
       "      <td>1</td>\n",
       "      <td>1</td>\n",
       "      <td>0</td>\n",
       "    </tr>\n",
       "    <tr>\n",
       "      <th>736</th>\n",
       "      <td>Simple model to explain effects of plasma prot...</td>\n",
       "      <td>A simple pharmacokinetic model, incorporating ...</td>\n",
       "      <td>['Blood Proteins', 'Kinetics', 'Mathematics', ...</td>\n",
       "      <td>1001358</td>\n",
       "      <td>[['D12.776.124'], ['G01.374.661', 'G02.111.490...</td>\n",
       "      <td>['Chemicals and Drugs [D]', 'Phenomena and Pro...</td>\n",
       "      <td>0</td>\n",
       "      <td>0</td>\n",
       "      <td>0</td>\n",
       "      <td>1</td>\n",
       "      <td>1</td>\n",
       "      <td>0</td>\n",
       "      <td>1</td>\n",
       "      <td>1</td>\n",
       "      <td>0</td>\n",
       "      <td>0</td>\n",
       "      <td>0</td>\n",
       "      <td>0</td>\n",
       "      <td>0</td>\n",
       "      <td>0</td>\n",
       "    </tr>\n",
       "    <tr>\n",
       "      <th>1509</th>\n",
       "      <td>Psychopathology, temperament, and past course ...</td>\n",
       "      <td>We report on the utility of a new instrument t...</td>\n",
       "      <td>['Adult', 'Bipolar Disorder', 'Cyclothymic Dis...</td>\n",
       "      <td>2602525</td>\n",
       "      <td>[['M01.060.116'], ['F03.084.500'], ['F03.600.5...</td>\n",
       "      <td>['Named Groups [M]', 'Psychiatry and Psycholog...</td>\n",
       "      <td>0</td>\n",
       "      <td>1</td>\n",
       "      <td>1</td>\n",
       "      <td>0</td>\n",
       "      <td>0</td>\n",
       "      <td>1</td>\n",
       "      <td>0</td>\n",
       "      <td>0</td>\n",
       "      <td>0</td>\n",
       "      <td>0</td>\n",
       "      <td>1</td>\n",
       "      <td>1</td>\n",
       "      <td>0</td>\n",
       "      <td>0</td>\n",
       "    </tr>\n",
       "    <tr>\n",
       "      <th>496</th>\n",
       "      <td>Ovulation induction with low-dose follicle-sti...</td>\n",
       "      <td>Fifty infertile women with the polycystic ovar...</td>\n",
       "      <td>['Adult', 'Female', 'Follicle Stimulating Horm...</td>\n",
       "      <td>8382432</td>\n",
       "      <td>[['M01.060.116'], ['D06.472.699.322.576.288', ...</td>\n",
       "      <td>['Named Groups [M]', 'Chemicals and Drugs [D]'...</td>\n",
       "      <td>0</td>\n",
       "      <td>1</td>\n",
       "      <td>1</td>\n",
       "      <td>1</td>\n",
       "      <td>1</td>\n",
       "      <td>0</td>\n",
       "      <td>1</td>\n",
       "      <td>0</td>\n",
       "      <td>0</td>\n",
       "      <td>0</td>\n",
       "      <td>0</td>\n",
       "      <td>1</td>\n",
       "      <td>1</td>\n",
       "      <td>0</td>\n",
       "    </tr>\n",
       "    <tr>\n",
       "      <th>1082</th>\n",
       "      <td>Autoimmune and lymphoproliferative disease in ...</td>\n",
       "      <td>G(IX) congeneic mouse strains, C57BL/6-G(IX) (...</td>\n",
       "      <td>['Animals', 'Antibodies', 'Antibody Formation'...</td>\n",
       "      <td>228283</td>\n",
       "      <td>[]</td>\n",
       "      <td>[]</td>\n",
       "      <td>0</td>\n",
       "      <td>0</td>\n",
       "      <td>0</td>\n",
       "      <td>0</td>\n",
       "      <td>0</td>\n",
       "      <td>0</td>\n",
       "      <td>0</td>\n",
       "      <td>0</td>\n",
       "      <td>0</td>\n",
       "      <td>0</td>\n",
       "      <td>0</td>\n",
       "      <td>0</td>\n",
       "      <td>0</td>\n",
       "      <td>0</td>\n",
       "    </tr>\n",
       "    <tr>\n",
       "      <th>1621</th>\n",
       "      <td>Elevation of c-abl-mRNA in human leukemic B ly...</td>\n",
       "      <td>Analysis of v-abl-homologous transcripts in pe...</td>\n",
       "      <td>['B-Lymphocytes', 'Base Sequence', 'Humans', '...</td>\n",
       "      <td>3491935</td>\n",
       "      <td>[['A11.063.438', 'A11.118.637.555.567.562', 'A...</td>\n",
       "      <td>['Anatomy [A]', 'Phenomena and Processes [G]',...</td>\n",
       "      <td>1</td>\n",
       "      <td>1</td>\n",
       "      <td>1</td>\n",
       "      <td>1</td>\n",
       "      <td>1</td>\n",
       "      <td>0</td>\n",
       "      <td>1</td>\n",
       "      <td>0</td>\n",
       "      <td>0</td>\n",
       "      <td>0</td>\n",
       "      <td>1</td>\n",
       "      <td>0</td>\n",
       "      <td>0</td>\n",
       "      <td>0</td>\n",
       "    </tr>\n",
       "    <tr>\n",
       "      <th>1995</th>\n",
       "      <td>Models of tibial fracture healing in normal an...</td>\n",
       "      <td>Delayed union and nonunion are common complica...</td>\n",
       "      <td>['Animals', 'Bone Density', 'Bony Callus', 'Ca...</td>\n",
       "      <td>18383150</td>\n",
       "      <td>[['B01.050'], ['G11.427.100'], ['A10.165.265.2...</td>\n",
       "      <td>['Organisms [B]', 'Phenomena and Processes [G]...</td>\n",
       "      <td>1</td>\n",
       "      <td>1</td>\n",
       "      <td>1</td>\n",
       "      <td>1</td>\n",
       "      <td>1</td>\n",
       "      <td>0</td>\n",
       "      <td>1</td>\n",
       "      <td>0</td>\n",
       "      <td>0</td>\n",
       "      <td>0</td>\n",
       "      <td>0</td>\n",
       "      <td>0</td>\n",
       "      <td>0</td>\n",
       "      <td>0</td>\n",
       "    </tr>\n",
       "    <tr>\n",
       "      <th>137</th>\n",
       "      <td>Genomic and transcriptome analysis of triclosa...</td>\n",
       "      <td>During the last decade, an increasing amount o...</td>\n",
       "      <td>['Acinetobacter baumannii', 'Anti-Bacterial Ag...</td>\n",
       "      <td>27665456</td>\n",
       "      <td>[['B03.440.400.425.537.050.099', 'B03.660.250....</td>\n",
       "      <td>['Organisms [B]', 'Chemicals and Drugs [D]', '...</td>\n",
       "      <td>0</td>\n",
       "      <td>1</td>\n",
       "      <td>0</td>\n",
       "      <td>1</td>\n",
       "      <td>1</td>\n",
       "      <td>0</td>\n",
       "      <td>1</td>\n",
       "      <td>1</td>\n",
       "      <td>0</td>\n",
       "      <td>0</td>\n",
       "      <td>0</td>\n",
       "      <td>0</td>\n",
       "      <td>0</td>\n",
       "      <td>0</td>\n",
       "    </tr>\n",
       "    <tr>\n",
       "      <th>1637</th>\n",
       "      <td>Synchronous carcinomas of cervix and ovary: ca...</td>\n",
       "      <td>Four cases of synchronous carcinoma of the cer...</td>\n",
       "      <td>['Adenocarcinoma', 'Adult', 'Female', 'Humans'...</td>\n",
       "      <td>7653409</td>\n",
       "      <td>[['C04.557.470.200.025'], ['M01.060.116'], ['B...</td>\n",
       "      <td>['Diseases [C]', 'Named Groups [M]', 'Organism...</td>\n",
       "      <td>0</td>\n",
       "      <td>1</td>\n",
       "      <td>1</td>\n",
       "      <td>0</td>\n",
       "      <td>0</td>\n",
       "      <td>0</td>\n",
       "      <td>0</td>\n",
       "      <td>0</td>\n",
       "      <td>0</td>\n",
       "      <td>0</td>\n",
       "      <td>0</td>\n",
       "      <td>1</td>\n",
       "      <td>0</td>\n",
       "      <td>0</td>\n",
       "    </tr>\n",
       "    <tr>\n",
       "      <th>1206</th>\n",
       "      <td>Covalent modification of nitrogenase MoFe prot...</td>\n",
       "      <td>MgADP- reacted with the nitrogenase molybdenum...</td>\n",
       "      <td>['Adenosine Diphosphate', 'Klebsiella pneumoni...</td>\n",
       "      <td>9148743</td>\n",
       "      <td>[['D03.633.100.759.646.138.124', 'D13.695.667....</td>\n",
       "      <td>['Chemicals and Drugs [D]', 'Organisms [B]', '...</td>\n",
       "      <td>0</td>\n",
       "      <td>1</td>\n",
       "      <td>0</td>\n",
       "      <td>1</td>\n",
       "      <td>1</td>\n",
       "      <td>0</td>\n",
       "      <td>1</td>\n",
       "      <td>0</td>\n",
       "      <td>0</td>\n",
       "      <td>0</td>\n",
       "      <td>0</td>\n",
       "      <td>0</td>\n",
       "      <td>0</td>\n",
       "      <td>0</td>\n",
       "    </tr>\n",
       "  </tbody>\n",
       "</table>\n",
       "</div>"
      ],
      "text/plain": [
       "                                                  Title  \\\n",
       "1094  Expression profiling defines a recurrence sign...   \n",
       "736   Simple model to explain effects of plasma prot...   \n",
       "1509  Psychopathology, temperament, and past course ...   \n",
       "496   Ovulation induction with low-dose follicle-sti...   \n",
       "1082  Autoimmune and lymphoproliferative disease in ...   \n",
       "1621  Elevation of c-abl-mRNA in human leukemic B ly...   \n",
       "1995  Models of tibial fracture healing in normal an...   \n",
       "137   Genomic and transcriptome analysis of triclosa...   \n",
       "1637  Synchronous carcinomas of cervix and ovary: ca...   \n",
       "1206  Covalent modification of nitrogenase MoFe prot...   \n",
       "\n",
       "                                           abstractText  \\\n",
       "1094  Lung cancer remains the leading cause of cance...   \n",
       "736   A simple pharmacokinetic model, incorporating ...   \n",
       "1509  We report on the utility of a new instrument t...   \n",
       "496   Fifty infertile women with the polycystic ovar...   \n",
       "1082  G(IX) congeneic mouse strains, C57BL/6-G(IX) (...   \n",
       "1621  Analysis of v-abl-homologous transcripts in pe...   \n",
       "1995  Delayed union and nonunion are common complica...   \n",
       "137   During the last decade, an increasing amount o...   \n",
       "1637  Four cases of synchronous carcinoma of the cer...   \n",
       "1206  MgADP- reacted with the nitrogenase molybdenum...   \n",
       "\n",
       "                                              meshMajor      pmid  \\\n",
       "1094  ['Aged', 'Carcinoma, Squamous Cell', 'Female',...  17082175   \n",
       "736   ['Blood Proteins', 'Kinetics', 'Mathematics', ...   1001358   \n",
       "1509  ['Adult', 'Bipolar Disorder', 'Cyclothymic Dis...   2602525   \n",
       "496   ['Adult', 'Female', 'Follicle Stimulating Horm...   8382432   \n",
       "1082  ['Animals', 'Antibodies', 'Antibody Formation'...    228283   \n",
       "1621  ['B-Lymphocytes', 'Base Sequence', 'Humans', '...   3491935   \n",
       "1995  ['Animals', 'Bone Density', 'Bony Callus', 'Ca...  18383150   \n",
       "137   ['Acinetobacter baumannii', 'Anti-Bacterial Ag...  27665456   \n",
       "1637  ['Adenocarcinoma', 'Adult', 'Female', 'Humans'...   7653409   \n",
       "1206  ['Adenosine Diphosphate', 'Klebsiella pneumoni...   9148743   \n",
       "\n",
       "                                                 meshid  \\\n",
       "1094  [['M01.060.116.100'], ['C04.557.470.200.400', ...   \n",
       "736   [['D12.776.124'], ['G01.374.661', 'G02.111.490...   \n",
       "1509  [['M01.060.116'], ['F03.084.500'], ['F03.600.5...   \n",
       "496   [['M01.060.116'], ['D06.472.699.322.576.288', ...   \n",
       "1082                                                 []   \n",
       "1621  [['A11.063.438', 'A11.118.637.555.567.562', 'A...   \n",
       "1995  [['B01.050'], ['G11.427.100'], ['A10.165.265.2...   \n",
       "137   [['B03.440.400.425.537.050.099', 'B03.660.250....   \n",
       "1637  [['C04.557.470.200.025'], ['M01.060.116'], ['B...   \n",
       "1206  [['D03.633.100.759.646.138.124', 'D13.695.667....   \n",
       "\n",
       "                                               meshroot  A  B  C  D  E  F  G  \\\n",
       "1094  ['Named Groups [M]', 'Diseases [C]', 'Analytic...  0  1  1  0  1  0  0   \n",
       "736   ['Chemicals and Drugs [D]', 'Phenomena and Pro...  0  0  0  1  1  0  1   \n",
       "1509  ['Named Groups [M]', 'Psychiatry and Psycholog...  0  1  1  0  0  1  0   \n",
       "496   ['Named Groups [M]', 'Chemicals and Drugs [D]'...  0  1  1  1  1  0  1   \n",
       "1082                                                 []  0  0  0  0  0  0  0   \n",
       "1621  ['Anatomy [A]', 'Phenomena and Processes [G]',...  1  1  1  1  1  0  1   \n",
       "1995  ['Organisms [B]', 'Phenomena and Processes [G]...  1  1  1  1  1  0  1   \n",
       "137   ['Organisms [B]', 'Chemicals and Drugs [D]', '...  0  1  0  1  1  0  1   \n",
       "1637  ['Diseases [C]', 'Named Groups [M]', 'Organism...  0  1  1  0  0  0  0   \n",
       "1206  ['Chemicals and Drugs [D]', 'Organisms [B]', '...  0  1  0  1  1  0  1   \n",
       "\n",
       "      H  I  J  L  M  N  Z  \n",
       "1094  0  0  0  0  1  1  0  \n",
       "736   1  0  0  0  0  0  0  \n",
       "1509  0  0  0  1  1  0  0  \n",
       "496   0  0  0  0  1  1  0  \n",
       "1082  0  0  0  0  0  0  0  \n",
       "1621  0  0  0  1  0  0  0  \n",
       "1995  0  0  0  0  0  0  0  \n",
       "137   1  0  0  0  0  0  0  \n",
       "1637  0  0  0  0  1  0  0  \n",
       "1206  0  0  0  0  0  0  0  "
      ]
     },
     "execution_count": 71,
     "metadata": {},
     "output_type": "execute_result"
    }
   ],
   "source": [
    "df.sample(10)"
   ]
  },
  {
   "cell_type": "code",
   "execution_count": 72,
   "id": "3b77b9c9",
   "metadata": {},
   "outputs": [
    {
     "data": {
      "text/plain": [
       "Title           0\n",
       "abstractText    0\n",
       "meshMajor       0\n",
       "pmid            0\n",
       "meshid          0\n",
       "meshroot        0\n",
       "A               0\n",
       "B               0\n",
       "C               0\n",
       "D               0\n",
       "E               0\n",
       "F               0\n",
       "G               0\n",
       "H               0\n",
       "I               0\n",
       "J               0\n",
       "L               0\n",
       "M               0\n",
       "N               0\n",
       "Z               0\n",
       "dtype: int64"
      ]
     },
     "execution_count": 72,
     "metadata": {},
     "output_type": "execute_result"
    }
   ],
   "source": [
    "df.isna().sum()"
   ]
  },
  {
   "cell_type": "code",
   "execution_count": 73,
   "id": "1846e18d",
   "metadata": {},
   "outputs": [
    {
     "data": {
      "text/plain": [
       "1"
      ]
     },
     "execution_count": 73,
     "metadata": {},
     "output_type": "execute_result"
    }
   ],
   "source": [
    "df.duplicated().sum()"
   ]
  },
  {
   "cell_type": "code",
   "execution_count": 74,
   "id": "c4d5f9cb",
   "metadata": {
    "execution": {
     "iopub.execute_input": "2023-04-11T06:20:09.818206Z",
     "iopub.status.busy": "2023-04-11T06:20:09.817910Z",
     "iopub.status.idle": "2023-04-11T06:20:09.824895Z",
     "shell.execute_reply": "2023-04-11T06:20:09.823874Z"
    },
    "papermill": {
     "duration": 0.023913,
     "end_time": "2023-04-11T06:20:09.827225",
     "exception": false,
     "start_time": "2023-04-11T06:20:09.803312",
     "status": "completed"
    },
    "tags": []
   },
   "outputs": [
    {
     "name": "stdout",
     "output_type": "stream",
     "text": [
      "Total number of Articles extracted from Bioasq dataset are = 2000\n"
     ]
    }
   ],
   "source": [
    "print(\"Total number of Articles extracted from Bioasq dataset are =\",len(df))"
   ]
  },
  {
   "cell_type": "code",
   "execution_count": 75,
   "id": "3a49562e",
   "metadata": {},
   "outputs": [
    {
     "name": "stdout",
     "output_type": "stream",
     "text": [
      "Average Article length:  190.584\n"
     ]
    }
   ],
   "source": [
    "print('Average Article length: ', df.abstractText.str.split().str.len().mean())"
   ]
  },
  {
   "cell_type": "code",
   "execution_count": 76,
   "id": "0af961fa",
   "metadata": {
    "execution": {
     "iopub.execute_input": "2023-04-11T06:20:09.863105Z",
     "iopub.status.busy": "2023-04-11T06:20:09.862811Z",
     "iopub.status.idle": "2023-04-11T06:20:12.577525Z",
     "shell.execute_reply": "2023-04-11T06:20:12.574881Z"
    },
    "papermill": {
     "duration": 2.741327,
     "end_time": "2023-04-11T06:20:12.582217",
     "exception": false,
     "start_time": "2023-04-11T06:20:09.840890",
     "status": "completed"
    },
    "tags": []
   },
   "outputs": [
    {
     "name": "stdout",
     "output_type": "stream",
     "text": [
      "Stdev Article length:  76.006370971216\n"
     ]
    }
   ],
   "source": [
    "print('Stdev Article length: ', df.abstractText.str.split().str.len().std())"
   ]
  },
  {
   "cell_type": "code",
   "execution_count": 77,
   "id": "228408b1",
   "metadata": {},
   "outputs": [],
   "source": [
    "cols = df.columns"
   ]
  },
  {
   "cell_type": "code",
   "execution_count": 78,
   "id": "900db615",
   "metadata": {},
   "outputs": [],
   "source": [
    "cols = list(df.columns)"
   ]
  },
  {
   "cell_type": "code",
   "execution_count": 79,
   "id": "9c306c59",
   "metadata": {},
   "outputs": [],
   "source": [
    "mesh_Heading_categories = cols[6:]"
   ]
  },
  {
   "cell_type": "code",
   "execution_count": 80,
   "id": "09d38e82",
   "metadata": {},
   "outputs": [],
   "source": [
    "num_labels = len(mesh_Heading_categories)"
   ]
  },
  {
   "cell_type": "code",
   "execution_count": 81,
   "id": "28e5e42a",
   "metadata": {},
   "outputs": [
    {
     "name": "stdout",
     "output_type": "stream",
     "text": [
      "Mesh Labels Root Class: \"\n",
      "\" ['A', 'B', 'C', 'D', 'E', 'F', 'G', 'H', 'I', 'J', 'L', 'M', 'N', 'Z']\n"
     ]
    }
   ],
   "source": [
    "print('Mesh Labels Root Class: \"\\n\"',mesh_Heading_categories)"
   ]
  },
  {
   "cell_type": "code",
   "execution_count": 82,
   "id": "57c29058",
   "metadata": {},
   "outputs": [
    {
     "name": "stdout",
     "output_type": "stream",
     "text": [
      "Number of Labels:  14\n"
     ]
    }
   ],
   "source": [
    "print('Number of Labels: ' ,num_labels)"
   ]
  },
  {
   "cell_type": "code",
   "execution_count": 83,
   "id": "1230d536",
   "metadata": {
    "execution": {
     "iopub.execute_input": "2023-04-11T06:20:12.699432Z",
     "iopub.status.busy": "2023-04-11T06:20:12.699094Z",
     "iopub.status.idle": "2023-04-11T06:20:12.719414Z",
     "shell.execute_reply": "2023-04-11T06:20:12.718553Z"
    },
    "papermill": {
     "duration": 0.038225,
     "end_time": "2023-04-11T06:20:12.721520",
     "exception": false,
     "start_time": "2023-04-11T06:20:12.683295",
     "status": "completed"
    },
    "tags": []
   },
   "outputs": [
    {
     "name": "stdout",
     "output_type": "stream",
     "text": [
      "Wall time: 1.6 ms\n"
     ]
    }
   ],
   "source": [
    "%%time\n",
    "counts = []\n",
    "for mesh_Heading_category in mesh_Heading_categories:\n",
    "    counts.append((mesh_Heading_category, df[mesh_Heading_category].sum()))"
   ]
  },
  {
   "cell_type": "code",
   "execution_count": 84,
   "id": "ff895523",
   "metadata": {},
   "outputs": [],
   "source": [
    "df_count = pd.DataFrame(counts, columns=['Root Label', 'number of Abstract'])"
   ]
  },
  {
   "cell_type": "code",
   "execution_count": 85,
   "id": "ca704179",
   "metadata": {},
   "outputs": [
    {
     "data": {
      "text/html": [
       "<div>\n",
       "<style scoped>\n",
       "    .dataframe tbody tr th:only-of-type {\n",
       "        vertical-align: middle;\n",
       "    }\n",
       "\n",
       "    .dataframe tbody tr th {\n",
       "        vertical-align: top;\n",
       "    }\n",
       "\n",
       "    .dataframe thead th {\n",
       "        text-align: right;\n",
       "    }\n",
       "</style>\n",
       "<table border=\"1\" class=\"dataframe\">\n",
       "  <thead>\n",
       "    <tr style=\"text-align: right;\">\n",
       "      <th></th>\n",
       "      <th>Root Label</th>\n",
       "      <th>number of Abstract</th>\n",
       "    </tr>\n",
       "  </thead>\n",
       "  <tbody>\n",
       "    <tr>\n",
       "      <th>0</th>\n",
       "      <td>A</td>\n",
       "      <td>916</td>\n",
       "    </tr>\n",
       "    <tr>\n",
       "      <th>1</th>\n",
       "      <td>B</td>\n",
       "      <td>1863</td>\n",
       "    </tr>\n",
       "    <tr>\n",
       "      <th>2</th>\n",
       "      <td>C</td>\n",
       "      <td>1035</td>\n",
       "    </tr>\n",
       "    <tr>\n",
       "      <th>3</th>\n",
       "      <td>D</td>\n",
       "      <td>1244</td>\n",
       "    </tr>\n",
       "    <tr>\n",
       "      <th>4</th>\n",
       "      <td>E</td>\n",
       "      <td>1582</td>\n",
       "    </tr>\n",
       "    <tr>\n",
       "      <th>5</th>\n",
       "      <td>F</td>\n",
       "      <td>363</td>\n",
       "    </tr>\n",
       "    <tr>\n",
       "      <th>6</th>\n",
       "      <td>G</td>\n",
       "      <td>1313</td>\n",
       "    </tr>\n",
       "    <tr>\n",
       "      <th>7</th>\n",
       "      <td>H</td>\n",
       "      <td>247</td>\n",
       "    </tr>\n",
       "    <tr>\n",
       "      <th>8</th>\n",
       "      <td>I</td>\n",
       "      <td>230</td>\n",
       "    </tr>\n",
       "    <tr>\n",
       "      <th>9</th>\n",
       "      <td>J</td>\n",
       "      <td>248</td>\n",
       "    </tr>\n",
       "    <tr>\n",
       "      <th>10</th>\n",
       "      <td>L</td>\n",
       "      <td>297</td>\n",
       "    </tr>\n",
       "    <tr>\n",
       "      <th>11</th>\n",
       "      <td>M</td>\n",
       "      <td>850</td>\n",
       "    </tr>\n",
       "    <tr>\n",
       "      <th>12</th>\n",
       "      <td>N</td>\n",
       "      <td>937</td>\n",
       "    </tr>\n",
       "    <tr>\n",
       "      <th>13</th>\n",
       "      <td>Z</td>\n",
       "      <td>308</td>\n",
       "    </tr>\n",
       "  </tbody>\n",
       "</table>\n",
       "</div>"
      ],
      "text/plain": [
       "   Root Label  number of Abstract\n",
       "0           A                 916\n",
       "1           B                1863\n",
       "2           C                1035\n",
       "3           D                1244\n",
       "4           E                1582\n",
       "5           F                 363\n",
       "6           G                1313\n",
       "7           H                 247\n",
       "8           I                 230\n",
       "9           J                 248\n",
       "10          L                 297\n",
       "11          M                 850\n",
       "12          N                 937\n",
       "13          Z                 308"
      ]
     },
     "execution_count": 85,
     "metadata": {},
     "output_type": "execute_result"
    }
   ],
   "source": [
    "df_count"
   ]
  },
  {
   "cell_type": "code",
   "execution_count": 86,
   "id": "15171292",
   "metadata": {
    "execution": {
     "iopub.execute_input": "2023-04-11T06:20:12.752494Z",
     "iopub.status.busy": "2023-04-11T06:20:12.752212Z",
     "iopub.status.idle": "2023-04-11T06:20:13.344802Z",
     "shell.execute_reply": "2023-04-11T06:20:13.343449Z"
    },
    "papermill": {
     "duration": 0.610728,
     "end_time": "2023-04-11T06:20:13.347006",
     "exception": false,
     "start_time": "2023-04-11T06:20:12.736278",
     "status": "completed"
    },
    "tags": []
   },
   "outputs": [
    {
     "ename": "TypeError",
     "evalue": "barplot() takes from 0 to 1 positional arguments but 2 were given",
     "output_type": "error",
     "traceback": [
      "\u001b[1;31m---------------------------------------------------------------------------\u001b[0m",
      "\u001b[1;31mTypeError\u001b[0m                                 Traceback (most recent call last)",
      "\u001b[1;32m<timed exec>\u001b[0m in \u001b[0;36m<module>\u001b[1;34m\u001b[0m\n",
      "\u001b[1;31mTypeError\u001b[0m: barplot() takes from 0 to 1 positional arguments but 2 were given"
     ]
    },
    {
     "data": {
      "text/plain": [
       "<Figure size 1600x900 with 0 Axes>"
      ]
     },
     "metadata": {},
     "output_type": "display_data"
    }
   ],
   "source": [
    "%%time\n",
    "sns.set(font_scale = 1)\n",
    "plt.figure(figsize=(16,9))\n",
    "ax= sns.barplot(mesh_Heading_categories, df.iloc[:,6:].sum().values)\n",
    "plt.title(\"Each Root Class\", fontsize=22)\n",
    "plt.ylabel('Number of Articles', fontsize=18)\n",
    "plt.xlabel('Root Label ', fontsize=18)\n",
    "rects = ax.patches\n",
    "labels = df.iloc[:,6:].sum().values\n",
    "for rect, label in zip(rects, labels):\n",
    "    height = rect.get_height()\n",
    "    ax.text(rect.get_x() + rect.get_width()/2, height + 5, label, ha='center', va='bottom', fontsize=12)\n",
    "\n",
    "plt.show()"
   ]
  },
  {
   "cell_type": "code",
   "execution_count": 87,
   "id": "27964db7",
   "metadata": {
    "execution": {
     "iopub.execute_input": "2023-04-11T06:20:13.379872Z",
     "iopub.status.busy": "2023-04-11T06:20:13.378187Z",
     "iopub.status.idle": "2023-04-11T06:20:13.411159Z",
     "shell.execute_reply": "2023-04-11T06:20:13.410305Z"
    },
    "papermill": {
     "duration": 0.050837,
     "end_time": "2023-04-11T06:20:13.413142",
     "exception": false,
     "start_time": "2023-04-11T06:20:13.362305",
     "status": "completed"
    },
    "tags": []
   },
   "outputs": [],
   "source": [
    "df_train, df_test = train_test_split(df, random_state=32, test_size=0.20, shuffle=True)"
   ]
  },
  {
   "cell_type": "code",
   "execution_count": 88,
   "id": "d4fdfca9",
   "metadata": {},
   "outputs": [
    {
     "name": "stdout",
     "output_type": "stream",
     "text": [
      "(1600, 20)\n"
     ]
    }
   ],
   "source": [
    "print(df_train.shape)"
   ]
  },
  {
   "cell_type": "code",
   "execution_count": 89,
   "id": "9b4d07ed",
   "metadata": {},
   "outputs": [
    {
     "name": "stdout",
     "output_type": "stream",
     "text": [
      "(400, 20)\n"
     ]
    }
   ],
   "source": [
    "print(df_test.shape)"
   ]
  },
  {
   "cell_type": "code",
   "execution_count": 90,
   "id": "42175584",
   "metadata": {},
   "outputs": [],
   "source": [
    "del(df)"
   ]
  },
  {
   "cell_type": "code",
   "execution_count": 91,
   "id": "18970786",
   "metadata": {
    "execution": {
     "iopub.execute_input": "2023-04-11T06:20:13.444360Z",
     "iopub.status.busy": "2023-04-11T06:20:13.443775Z",
     "iopub.status.idle": "2023-04-11T06:20:13.476682Z",
     "shell.execute_reply": "2023-04-11T06:20:13.475650Z"
    },
    "papermill": {
     "duration": 0.05114,
     "end_time": "2023-04-11T06:20:13.478915",
     "exception": false,
     "start_time": "2023-04-11T06:20:13.427775",
     "status": "completed"
    },
    "tags": []
   },
   "outputs": [],
   "source": [
    "df_train['one_hot_labels'] = list(df_train[mesh_Heading_categories].values)"
   ]
  },
  {
   "cell_type": "code",
   "execution_count": 92,
   "id": "a40d236e",
   "metadata": {},
   "outputs": [
    {
     "data": {
      "text/html": [
       "<div>\n",
       "<style scoped>\n",
       "    .dataframe tbody tr th:only-of-type {\n",
       "        vertical-align: middle;\n",
       "    }\n",
       "\n",
       "    .dataframe tbody tr th {\n",
       "        vertical-align: top;\n",
       "    }\n",
       "\n",
       "    .dataframe thead th {\n",
       "        text-align: right;\n",
       "    }\n",
       "</style>\n",
       "<table border=\"1\" class=\"dataframe\">\n",
       "  <thead>\n",
       "    <tr style=\"text-align: right;\">\n",
       "      <th></th>\n",
       "      <th>Title</th>\n",
       "      <th>abstractText</th>\n",
       "      <th>meshMajor</th>\n",
       "      <th>pmid</th>\n",
       "      <th>meshid</th>\n",
       "      <th>meshroot</th>\n",
       "      <th>A</th>\n",
       "      <th>B</th>\n",
       "      <th>C</th>\n",
       "      <th>D</th>\n",
       "      <th>...</th>\n",
       "      <th>F</th>\n",
       "      <th>G</th>\n",
       "      <th>H</th>\n",
       "      <th>I</th>\n",
       "      <th>J</th>\n",
       "      <th>L</th>\n",
       "      <th>M</th>\n",
       "      <th>N</th>\n",
       "      <th>Z</th>\n",
       "      <th>one_hot_labels</th>\n",
       "    </tr>\n",
       "  </thead>\n",
       "  <tbody>\n",
       "    <tr>\n",
       "      <th>567</th>\n",
       "      <td>[Changes in nurse-midwifery practices in Taiwan].</td>\n",
       "      <td>Nurse-midwifery professionals play an importan...</td>\n",
       "      <td>['Education, Nursing', 'Female', 'Humans', 'Mi...</td>\n",
       "      <td>19319807</td>\n",
       "      <td>[['I02.358.462'], ['B01.050.150.900.649.313.98...</td>\n",
       "      <td>['Anthropology, Education, Sociology, and Soci...</td>\n",
       "      <td>0</td>\n",
       "      <td>1</td>\n",
       "      <td>0</td>\n",
       "      <td>0</td>\n",
       "      <td>...</td>\n",
       "      <td>0</td>\n",
       "      <td>0</td>\n",
       "      <td>1</td>\n",
       "      <td>1</td>\n",
       "      <td>0</td>\n",
       "      <td>0</td>\n",
       "      <td>0</td>\n",
       "      <td>0</td>\n",
       "      <td>1</td>\n",
       "      <td>[0, 1, 0, 0, 0, 0, 0, 1, 1, 0, 0, 0, 0, 1]</td>\n",
       "    </tr>\n",
       "    <tr>\n",
       "      <th>1121</th>\n",
       "      <td>Late Results of Half-Turned Truncal Switch Ope...</td>\n",
       "      <td>BACKGROUND: Conventional Rastelli, Lecompte, a...</td>\n",
       "      <td>['Cardiac Surgical Procedures', 'Child, Presch...</td>\n",
       "      <td>30031843</td>\n",
       "      <td>[['E04.100.376', 'E04.928.220'], ['M01.060.406...</td>\n",
       "      <td>['Analytical, Diagnostic and Therapeutic Techn...</td>\n",
       "      <td>0</td>\n",
       "      <td>1</td>\n",
       "      <td>1</td>\n",
       "      <td>0</td>\n",
       "      <td>...</td>\n",
       "      <td>0</td>\n",
       "      <td>1</td>\n",
       "      <td>0</td>\n",
       "      <td>0</td>\n",
       "      <td>0</td>\n",
       "      <td>0</td>\n",
       "      <td>1</td>\n",
       "      <td>1</td>\n",
       "      <td>0</td>\n",
       "      <td>[0, 1, 1, 0, 1, 0, 1, 0, 0, 0, 0, 1, 1, 0]</td>\n",
       "    </tr>\n",
       "    <tr>\n",
       "      <th>1848</th>\n",
       "      <td>The relationship between isthmic and degenerat...</td>\n",
       "      <td>Advanced degenerative change in the facet join...</td>\n",
       "      <td>['Adult', 'Aged', 'Case-Control Studies', 'Fem...</td>\n",
       "      <td>7552647</td>\n",
       "      <td>[['M01.060.116'], ['M01.060.116.100'], ['E05.3...</td>\n",
       "      <td>['Named Groups [M]', 'Analytical, Diagnostic a...</td>\n",
       "      <td>1</td>\n",
       "      <td>1</td>\n",
       "      <td>1</td>\n",
       "      <td>0</td>\n",
       "      <td>...</td>\n",
       "      <td>0</td>\n",
       "      <td>0</td>\n",
       "      <td>0</td>\n",
       "      <td>0</td>\n",
       "      <td>0</td>\n",
       "      <td>0</td>\n",
       "      <td>1</td>\n",
       "      <td>1</td>\n",
       "      <td>0</td>\n",
       "      <td>[1, 1, 1, 0, 1, 0, 0, 0, 0, 0, 0, 1, 1, 0]</td>\n",
       "    </tr>\n",
       "    <tr>\n",
       "      <th>451</th>\n",
       "      <td>[Expression of leukocytic adhesion molecules i...</td>\n",
       "      <td>BACKGROUND: Common variable immunodeficiency i...</td>\n",
       "      <td>['Adult', 'Antigens, CD', 'Blood', 'Cell Adhes...</td>\n",
       "      <td>15119751</td>\n",
       "      <td>[['M01.060.116'], ['D23.050.301.264.035', 'D23...</td>\n",
       "      <td>['Named Groups [M]', 'Chemicals and Drugs [D]'...</td>\n",
       "      <td>1</td>\n",
       "      <td>1</td>\n",
       "      <td>1</td>\n",
       "      <td>1</td>\n",
       "      <td>...</td>\n",
       "      <td>0</td>\n",
       "      <td>1</td>\n",
       "      <td>0</td>\n",
       "      <td>0</td>\n",
       "      <td>0</td>\n",
       "      <td>0</td>\n",
       "      <td>1</td>\n",
       "      <td>0</td>\n",
       "      <td>0</td>\n",
       "      <td>[1, 1, 1, 1, 1, 0, 1, 0, 0, 0, 0, 1, 0, 0]</td>\n",
       "    </tr>\n",
       "    <tr>\n",
       "      <th>598</th>\n",
       "      <td>Neuropsychological features in post-stroke cog...</td>\n",
       "      <td>OBJECTIVE: To investigate neuropsychological f...</td>\n",
       "      <td>['Aged', 'Cognitive Dysfunction', 'Drugs, Chin...</td>\n",
       "      <td>32186029</td>\n",
       "      <td>[['M01.060.116.100'], ['F03.615.250.700'], ['D...</td>\n",
       "      <td>['Named Groups [M]', 'Psychiatry and Psycholog...</td>\n",
       "      <td>0</td>\n",
       "      <td>1</td>\n",
       "      <td>1</td>\n",
       "      <td>1</td>\n",
       "      <td>...</td>\n",
       "      <td>1</td>\n",
       "      <td>0</td>\n",
       "      <td>0</td>\n",
       "      <td>1</td>\n",
       "      <td>0</td>\n",
       "      <td>0</td>\n",
       "      <td>1</td>\n",
       "      <td>1</td>\n",
       "      <td>0</td>\n",
       "      <td>[0, 1, 1, 1, 1, 1, 0, 0, 1, 0, 0, 1, 1, 0]</td>\n",
       "    </tr>\n",
       "  </tbody>\n",
       "</table>\n",
       "<p>5 rows × 21 columns</p>\n",
       "</div>"
      ],
      "text/plain": [
       "                                                  Title  \\\n",
       "567   [Changes in nurse-midwifery practices in Taiwan].   \n",
       "1121  Late Results of Half-Turned Truncal Switch Ope...   \n",
       "1848  The relationship between isthmic and degenerat...   \n",
       "451   [Expression of leukocytic adhesion molecules i...   \n",
       "598   Neuropsychological features in post-stroke cog...   \n",
       "\n",
       "                                           abstractText  \\\n",
       "567   Nurse-midwifery professionals play an importan...   \n",
       "1121  BACKGROUND: Conventional Rastelli, Lecompte, a...   \n",
       "1848  Advanced degenerative change in the facet join...   \n",
       "451   BACKGROUND: Common variable immunodeficiency i...   \n",
       "598   OBJECTIVE: To investigate neuropsychological f...   \n",
       "\n",
       "                                              meshMajor      pmid  \\\n",
       "567   ['Education, Nursing', 'Female', 'Humans', 'Mi...  19319807   \n",
       "1121  ['Cardiac Surgical Procedures', 'Child, Presch...  30031843   \n",
       "1848  ['Adult', 'Aged', 'Case-Control Studies', 'Fem...   7552647   \n",
       "451   ['Adult', 'Antigens, CD', 'Blood', 'Cell Adhes...  15119751   \n",
       "598   ['Aged', 'Cognitive Dysfunction', 'Drugs, Chin...  32186029   \n",
       "\n",
       "                                                 meshid  \\\n",
       "567   [['I02.358.462'], ['B01.050.150.900.649.313.98...   \n",
       "1121  [['E04.100.376', 'E04.928.220'], ['M01.060.406...   \n",
       "1848  [['M01.060.116'], ['M01.060.116.100'], ['E05.3...   \n",
       "451   [['M01.060.116'], ['D23.050.301.264.035', 'D23...   \n",
       "598   [['M01.060.116.100'], ['F03.615.250.700'], ['D...   \n",
       "\n",
       "                                               meshroot  A  B  C  D  ...  F  \\\n",
       "567   ['Anthropology, Education, Sociology, and Soci...  0  1  0  0  ...  0   \n",
       "1121  ['Analytical, Diagnostic and Therapeutic Techn...  0  1  1  0  ...  0   \n",
       "1848  ['Named Groups [M]', 'Analytical, Diagnostic a...  1  1  1  0  ...  0   \n",
       "451   ['Named Groups [M]', 'Chemicals and Drugs [D]'...  1  1  1  1  ...  0   \n",
       "598   ['Named Groups [M]', 'Psychiatry and Psycholog...  0  1  1  1  ...  1   \n",
       "\n",
       "      G  H  I  J  L  M  N  Z                              one_hot_labels  \n",
       "567   0  1  1  0  0  0  0  1  [0, 1, 0, 0, 0, 0, 0, 1, 1, 0, 0, 0, 0, 1]  \n",
       "1121  1  0  0  0  0  1  1  0  [0, 1, 1, 0, 1, 0, 1, 0, 0, 0, 0, 1, 1, 0]  \n",
       "1848  0  0  0  0  0  1  1  0  [1, 1, 1, 0, 1, 0, 0, 0, 0, 0, 0, 1, 1, 0]  \n",
       "451   1  0  0  0  0  1  0  0  [1, 1, 1, 1, 1, 0, 1, 0, 0, 0, 0, 1, 0, 0]  \n",
       "598   0  0  1  0  0  1  1  0  [0, 1, 1, 1, 1, 1, 0, 0, 1, 0, 0, 1, 1, 0]  \n",
       "\n",
       "[5 rows x 21 columns]"
      ]
     },
     "execution_count": 92,
     "metadata": {},
     "output_type": "execute_result"
    }
   ],
   "source": [
    "df_train.head()"
   ]
  },
  {
   "cell_type": "code",
   "execution_count": 93,
   "id": "fc23d751",
   "metadata": {
    "execution": {
     "iopub.execute_input": "2023-04-11T06:20:13.513916Z",
     "iopub.status.busy": "2023-04-11T06:20:13.513358Z",
     "iopub.status.idle": "2023-04-11T06:20:13.527811Z",
     "shell.execute_reply": "2023-04-11T06:20:13.526760Z"
    },
    "papermill": {
     "duration": 0.036754,
     "end_time": "2023-04-11T06:20:13.530808",
     "exception": false,
     "start_time": "2023-04-11T06:20:13.494054",
     "status": "completed"
    },
    "tags": []
   },
   "outputs": [],
   "source": [
    "labels = list(df_train.one_hot_labels.values)"
   ]
  },
  {
   "cell_type": "code",
   "execution_count": 94,
   "id": "183c08b3",
   "metadata": {},
   "outputs": [],
   "source": [
    "Article_train = list(df_train.abstractText.values)"
   ]
  },
  {
   "cell_type": "code",
   "execution_count": 95,
   "id": "d9db61e2",
   "metadata": {},
   "outputs": [],
   "source": [
    "max_length = 128\n",
    "tokenizer = BertTokenizer.from_pretrained('dmis-lab/biobert-base-cased-v1.2', do_lower_case=True) "
   ]
  },
  {
   "cell_type": "code",
   "execution_count": 96,
   "id": "51bca45e",
   "metadata": {
    "execution": {
     "iopub.execute_input": "2023-04-11T06:20:13.592772Z",
     "iopub.status.busy": "2023-04-11T06:20:13.592036Z",
     "iopub.status.idle": "2023-04-11T06:24:33.403348Z",
     "shell.execute_reply": "2023-04-11T06:24:33.398795Z"
    },
    "papermill": {
     "duration": 259.842261,
     "end_time": "2023-04-11T06:24:33.418399",
     "exception": false,
     "start_time": "2023-04-11T06:20:13.576138",
     "status": "completed"
    },
    "tags": []
   },
   "outputs": [
    {
     "name": "stdout",
     "output_type": "stream",
     "text": [
      "Wall time: 7.51 s\n"
     ]
    }
   ],
   "source": [
    "%%time\n",
    "encodings = tokenizer.batch_encode_plus(Article_train,max_length=max_length,padding=True,truncation=True) "
   ]
  },
  {
   "cell_type": "code",
   "execution_count": 97,
   "id": "76dbc30f",
   "metadata": {},
   "outputs": [
    {
     "name": "stdout",
     "output_type": "stream",
     "text": [
      "tokenizer outputs:  dict_keys(['input_ids', 'token_type_ids', 'attention_mask'])\n"
     ]
    }
   ],
   "source": [
    "print('tokenizer outputs: ', encodings.keys())"
   ]
  },
  {
   "cell_type": "code",
   "execution_count": 98,
   "id": "13b2e98f",
   "metadata": {},
   "outputs": [],
   "source": [
    "input_ids = encodings['input_ids']"
   ]
  },
  {
   "cell_type": "code",
   "execution_count": 99,
   "id": "800c8988",
   "metadata": {},
   "outputs": [],
   "source": [
    "attention_masks = encodings['attention_mask'] "
   ]
  },
  {
   "cell_type": "code",
   "execution_count": 100,
   "id": "30ca6296",
   "metadata": {},
   "outputs": [],
   "source": [
    "label_counts = df_train.one_hot_labels.astype(str).value_counts()"
   ]
  },
  {
   "cell_type": "code",
   "execution_count": 101,
   "id": "b15fd1e9",
   "metadata": {},
   "outputs": [],
   "source": [
    "one_freq = label_counts[label_counts==1].keys()"
   ]
  },
  {
   "cell_type": "code",
   "execution_count": 102,
   "id": "a2eedeca",
   "metadata": {},
   "outputs": [],
   "source": [
    "one_freq_idxs = sorted(list(df_train[df_train.one_hot_labels.astype(str).isin(one_freq)].index), reverse=True)"
   ]
  },
  {
   "cell_type": "code",
   "execution_count": 103,
   "id": "651271f0",
   "metadata": {
    "execution": {
     "iopub.execute_input": "2023-04-11T06:24:33.450850Z",
     "iopub.status.busy": "2023-04-11T06:24:33.449328Z",
     "iopub.status.idle": "2023-04-11T06:24:38.215175Z",
     "shell.execute_reply": "2023-04-11T06:24:38.214186Z"
    },
    "papermill": {
     "duration": 4.784411,
     "end_time": "2023-04-11T06:24:38.217699",
     "exception": false,
     "start_time": "2023-04-11T06:24:33.433288",
     "status": "completed"
    },
    "tags": []
   },
   "outputs": [
    {
     "name": "stdout",
     "output_type": "stream",
     "text": [
      "df label indices with only one instance:  [1996, 1979, 1966, 1957, 1946, 1935, 1934, 1933, 1930, 1929, 1925, 1922, 1921, 1917, 1905, 1902, 1893, 1881, 1866, 1864, 1856, 1851, 1846, 1842, 1819, 1809, 1806, 1800, 1795, 1769, 1765, 1760, 1756, 1753, 1742, 1739, 1729, 1725, 1723, 1718, 1712, 1709, 1705, 1704, 1695, 1688, 1685, 1683, 1682, 1675, 1671, 1670, 1668, 1667, 1665, 1662, 1659, 1650, 1648, 1632, 1629, 1624, 1617, 1614, 1613, 1608, 1602, 1591, 1587, 1585, 1575, 1570, 1562, 1559, 1556, 1555, 1554, 1551, 1537, 1528, 1521, 1515, 1512, 1511, 1509, 1508, 1507, 1500, 1499, 1498, 1489, 1487, 1484, 1478, 1475, 1471, 1470, 1468, 1456, 1452, 1451, 1446, 1439, 1433, 1429, 1421, 1414, 1411, 1408, 1407, 1396, 1394, 1387, 1379, 1357, 1356, 1355, 1353, 1352, 1349, 1348, 1347, 1344, 1337, 1329, 1324, 1319, 1318, 1315, 1313, 1311, 1308, 1305, 1304, 1301, 1300, 1292, 1280, 1278, 1276, 1269, 1266, 1255, 1249, 1239, 1229, 1226, 1222, 1220, 1215, 1210, 1207, 1203, 1201, 1197, 1196, 1193, 1190, 1189, 1188, 1187, 1186, 1184, 1182, 1177, 1174, 1172, 1169, 1168, 1160, 1150, 1137, 1132, 1123, 1122, 1119, 1108, 1101, 1086, 1083, 1077, 1070, 1060, 1056, 1053, 1051, 1049, 1048, 1045, 1039, 1033, 1016, 1002, 996, 982, 968, 961, 960, 955, 944, 941, 937, 936, 932, 923, 922, 916, 915, 913, 907, 897, 884, 883, 880, 879, 873, 872, 868, 863, 859, 858, 831, 829, 826, 825, 812, 811, 809, 806, 805, 804, 801, 787, 783, 782, 778, 773, 772, 771, 767, 752, 751, 746, 744, 739, 734, 722, 720, 707, 694, 690, 684, 680, 673, 664, 662, 656, 643, 636, 635, 633, 616, 608, 594, 588, 578, 567, 561, 557, 555, 553, 546, 545, 539, 509, 507, 503, 502, 499, 497, 491, 480, 477, 466, 458, 452, 443, 439, 436, 431, 428, 424, 417, 410, 409, 404, 398, 397, 388, 385, 380, 379, 377, 372, 364, 356, 354, 353, 340, 338, 333, 329, 319, 318, 303, 299, 298, 294, 291, 290, 289, 285, 280, 274, 273, 272, 255, 254, 249, 239, 235, 229, 228, 225, 223, 221, 219, 215, 214, 213, 208, 206, 204, 200, 189, 186, 184, 169, 158, 151, 150, 148, 108, 104, 103, 96, 92, 84, 64, 55, 50, 48, 42, 41, 33, 31, 30, 17, 14, 12, 8, 6, 1, 0]\n"
     ]
    }
   ],
   "source": [
    "print('df label indices with only one instance: ', one_freq_idxs)"
   ]
  },
  {
   "cell_type": "code",
   "execution_count": 104,
   "id": "3795beb4",
   "metadata": {},
   "outputs": [],
   "source": [
    "train_inputs, validation_inputs, train_labels, validation_labels, train_masks, validation_masks = train_test_split(input_ids, labels, attention_masks,\n",
    "                                                            random_state=2020, test_size=0.20)"
   ]
  },
  {
   "cell_type": "code",
   "execution_count": 105,
   "id": "e4364e4d",
   "metadata": {},
   "outputs": [],
   "source": [
    "train_inputs = torch.tensor(train_inputs)"
   ]
  },
  {
   "cell_type": "code",
   "execution_count": 106,
   "id": "dc711815",
   "metadata": {},
   "outputs": [
    {
     "name": "stderr",
     "output_type": "stream",
     "text": [
      "D:\\anaconda\\lib\\site-packages\\ipykernel_launcher.py:1: UserWarning: Creating a tensor from a list of numpy.ndarrays is extremely slow. Please consider converting the list to a single numpy.ndarray with numpy.array() before converting to a tensor. (Triggered internally at C:\\actions-runner\\_work\\pytorch\\pytorch\\builder\\windows\\pytorch\\torch\\csrc\\utils\\tensor_new.cpp:233.)\n",
      "  \"\"\"Entry point for launching an IPython kernel.\n"
     ]
    }
   ],
   "source": [
    "train_labels = torch.tensor(train_labels)"
   ]
  },
  {
   "cell_type": "code",
   "execution_count": 107,
   "id": "92d265ed",
   "metadata": {},
   "outputs": [],
   "source": [
    "train_masks = torch.tensor(train_masks)"
   ]
  },
  {
   "cell_type": "code",
   "execution_count": 108,
   "id": "6ccf6d04",
   "metadata": {},
   "outputs": [],
   "source": [
    "validation_inputs = torch.tensor(validation_inputs)"
   ]
  },
  {
   "cell_type": "code",
   "execution_count": 109,
   "id": "1af5347c",
   "metadata": {},
   "outputs": [],
   "source": [
    "validation_labels = torch.tensor(validation_labels)"
   ]
  },
  {
   "cell_type": "code",
   "execution_count": 110,
   "id": "e813445f",
   "metadata": {},
   "outputs": [],
   "source": [
    "validation_masks = torch.tensor(validation_masks)"
   ]
  },
  {
   "cell_type": "code",
   "execution_count": 111,
   "id": "8a93edba",
   "metadata": {},
   "outputs": [],
   "source": [
    "batch_size = 64"
   ]
  },
  {
   "cell_type": "code",
   "execution_count": 112,
   "id": "71da8220",
   "metadata": {},
   "outputs": [],
   "source": [
    "train_data =     TensorDataset(train_inputs, train_masks, train_labels,)"
   ]
  },
  {
   "cell_type": "code",
   "execution_count": 113,
   "id": "459ee064",
   "metadata": {},
   "outputs": [],
   "source": [
    "train_sampler = RandomSampler(train_data)"
   ]
  },
  {
   "cell_type": "code",
   "execution_count": 114,
   "id": "92fbe3c5",
   "metadata": {},
   "outputs": [],
   "source": [
    "train_dataloader = DataLoader(train_data, sampler=train_sampler, batch_size=batch_size)"
   ]
  },
  {
   "cell_type": "code",
   "execution_count": 115,
   "id": "51b64b1b",
   "metadata": {},
   "outputs": [],
   "source": [
    "validation_data = TensorDataset(validation_inputs, validation_masks, validation_labels,)"
   ]
  },
  {
   "cell_type": "code",
   "execution_count": 116,
   "id": "53129854",
   "metadata": {},
   "outputs": [],
   "source": [
    "validation_sampler = SequentialSampler(validation_data)"
   ]
  },
  {
   "cell_type": "code",
   "execution_count": 117,
   "id": "3a3db36b",
   "metadata": {
    "execution": {
     "iopub.execute_input": "2023-04-11T06:24:39.112792Z",
     "iopub.status.busy": "2023-04-11T06:24:39.112452Z",
     "iopub.status.idle": "2023-04-11T06:24:39.119374Z",
     "shell.execute_reply": "2023-04-11T06:24:39.118194Z"
    },
    "papermill": {
     "duration": 0.025955,
     "end_time": "2023-04-11T06:24:39.122213",
     "exception": false,
     "start_time": "2023-04-11T06:24:39.096258",
     "status": "completed"
    },
    "tags": []
   },
   "outputs": [],
   "source": [
    "validation_dataloader = DataLoader(validation_data, sampler=validation_sampler, batch_size=batch_size)"
   ]
  },
  {
   "cell_type": "code",
   "execution_count": 118,
   "id": "4e5b11c0",
   "metadata": {},
   "outputs": [],
   "source": [
    "torch.save(validation_dataloader,'validation_data_loader')"
   ]
  },
  {
   "cell_type": "code",
   "execution_count": 119,
   "id": "605757eb",
   "metadata": {
    "execution": {
     "iopub.execute_input": "2023-04-11T06:24:39.156575Z",
     "iopub.status.busy": "2023-04-11T06:24:39.156302Z",
     "iopub.status.idle": "2023-04-11T06:24:39.311909Z",
     "shell.execute_reply": "2023-04-11T06:24:39.310890Z"
    },
    "papermill": {
     "duration": 0.17384,
     "end_time": "2023-04-11T06:24:39.314348",
     "exception": false,
     "start_time": "2023-04-11T06:24:39.140508",
     "status": "completed"
    },
    "tags": []
   },
   "outputs": [],
   "source": [
    "torch.save(train_dataloader,'train_data_loader')"
   ]
  },
  {
   "cell_type": "code",
   "execution_count": 120,
   "id": "a4247ff5",
   "metadata": {
    "execution": {
     "iopub.execute_input": "2023-04-11T06:24:39.377102Z",
     "iopub.status.busy": "2023-04-11T06:24:39.376639Z",
     "iopub.status.idle": "2023-04-11T06:25:02.627856Z",
     "shell.execute_reply": "2023-04-11T06:25:02.625977Z"
    },
    "papermill": {
     "duration": 23.270031,
     "end_time": "2023-04-11T06:25:02.630153",
     "exception": false,
     "start_time": "2023-04-11T06:24:39.360122",
     "status": "completed"
    },
    "tags": []
   },
   "outputs": [
    {
     "name": "stderr",
     "output_type": "stream",
     "text": [
      "Some weights of the model checkpoint at dmis-lab/biobert-base-cased-v1.2 were not used when initializing BertForSequenceClassification: ['cls.predictions.transform.LayerNorm.bias', 'cls.predictions.transform.LayerNorm.weight', 'cls.seq_relationship.weight', 'cls.seq_relationship.bias', 'cls.predictions.bias', 'cls.predictions.transform.dense.weight', 'cls.predictions.transform.dense.bias', 'cls.predictions.decoder.weight', 'cls.predictions.decoder.bias']\n",
      "- This IS expected if you are initializing BertForSequenceClassification from the checkpoint of a model trained on another task or with another architecture (e.g. initializing a BertForSequenceClassification model from a BertForPreTraining model).\n",
      "- This IS NOT expected if you are initializing BertForSequenceClassification from the checkpoint of a model that you expect to be exactly identical (initializing a BertForSequenceClassification model from a BertForSequenceClassification model).\n",
      "Some weights of BertForSequenceClassification were not initialized from the model checkpoint at dmis-lab/biobert-base-cased-v1.2 and are newly initialized: ['classifier.weight', 'classifier.bias']\n",
      "You should probably TRAIN this model on a down-stream task to be able to use it for predictions and inference.\n"
     ]
    },
    {
     "name": "stdout",
     "output_type": "stream",
     "text": [
      "Wall time: 6.47 s\n"
     ]
    }
   ],
   "source": [
    "%%time\n",
    "model = BertForSequenceClassification.from_pretrained(\"dmis-lab/biobert-base-cased-v1.2\", num_labels=num_labels)"
   ]
  },
  {
   "cell_type": "code",
   "execution_count": 121,
   "id": "2a2a9b9e",
   "metadata": {},
   "outputs": [],
   "source": [
    "param_optimizer = list(model.named_parameters())"
   ]
  },
  {
   "cell_type": "code",
   "execution_count": 122,
   "id": "6171dd60",
   "metadata": {},
   "outputs": [],
   "source": [
    "no_decay = ['bias', 'gamma', 'beta']"
   ]
  },
  {
   "cell_type": "code",
   "execution_count": 123,
   "id": "d0d4e9fa",
   "metadata": {},
   "outputs": [],
   "source": [
    "optimizer_grouped_parameters = [\n",
    "    {'params': [p for n, p in param_optimizer if not any(nd in n for nd in no_decay)],\n",
    "     'weight_decay_rate': 0.01},\n",
    "    {'params': [p for n, p in param_optimizer if any(nd in n for nd in no_decay)],\n",
    "     'weight_decay_rate': 0.0}\n",
    "]"
   ]
  },
  {
   "cell_type": "code",
   "execution_count": 124,
   "id": "edd0e456",
   "metadata": {
    "execution": {
     "iopub.execute_input": "2023-04-11T06:25:02.714497Z",
     "iopub.status.busy": "2023-04-11T06:25:02.714222Z",
     "iopub.status.idle": "2023-04-11T06:25:02.720376Z",
     "shell.execute_reply": "2023-04-11T06:25:02.719445Z"
    },
    "papermill": {
     "duration": 0.034462,
     "end_time": "2023-04-11T06:25:02.723768",
     "exception": false,
     "start_time": "2023-04-11T06:25:02.689306",
     "status": "completed"
    },
    "tags": []
   },
   "outputs": [],
   "source": [
    "optimizer = AdamW(optimizer_grouped_parameters,lr=6e-6)"
   ]
  },
  {
   "cell_type": "code",
   "execution_count": 125,
   "id": "2a76ec08",
   "metadata": {
    "execution": {
     "iopub.execute_input": "2023-04-11T06:25:02.757637Z",
     "iopub.status.busy": "2023-04-11T06:25:02.757366Z",
     "iopub.status.idle": "2023-04-11T06:25:02.762390Z",
     "shell.execute_reply": "2023-04-11T06:25:02.761461Z"
    },
    "papermill": {
     "duration": 0.023595,
     "end_time": "2023-04-11T06:25:02.764915",
     "exception": false,
     "start_time": "2023-04-11T06:25:02.741320",
     "status": "completed"
    },
    "tags": []
   },
   "outputs": [],
   "source": [
    "train_loss_set = []\n",
    "val_f1_accuracy_list,val_flat_accuracy_list,training_loss_list,epochs_list=[],[],[],[]"
   ]
  },
  {
   "cell_type": "code",
   "execution_count": 126,
   "id": "3e4ad7cd",
   "metadata": {
    "execution": {
     "iopub.execute_input": "2023-04-11T06:25:02.831072Z",
     "iopub.status.busy": "2023-04-11T06:25:02.830637Z",
     "iopub.status.idle": "2023-04-11T07:02:22.324847Z",
     "shell.execute_reply": "2023-04-11T07:02:22.323796Z"
    },
    "papermill": {
     "duration": 2239.514481,
     "end_time": "2023-04-11T07:02:22.328245",
     "exception": false,
     "start_time": "2023-04-11T06:25:02.813764",
     "status": "completed"
    },
    "tags": []
   },
   "outputs": [
    {
     "name": "stderr",
     "output_type": "stream",
     "text": [
      "\r",
      "Epoch :   0%|                                                                                    | 0/6 [00:00<?, ?it/s]"
     ]
    },
    {
     "name": "stdout",
     "output_type": "stream",
     "text": [
      "Train loss: 0.6872184544801712\n"
     ]
    },
    {
     "name": "stderr",
     "output_type": "stream",
     "text": [
      "\r",
      "Epoch :  17%|████████████▏                                                            | 1/6 [16:10<1:20:52, 970.54s/it]"
     ]
    },
    {
     "name": "stdout",
     "output_type": "stream",
     "text": [
      "F1 Validation Accuracy:  64.16666666666666\n",
      "Flat Validation Accuracy:  0.0\n",
      "\n",
      "\n",
      "Train loss: 0.5895372718572617\n"
     ]
    },
    {
     "name": "stderr",
     "output_type": "stream",
     "text": [
      "\r",
      "Epoch :  33%|████████████████████████▎                                                | 2/6 [32:45<1:05:39, 984.80s/it]"
     ]
    },
    {
     "name": "stdout",
     "output_type": "stream",
     "text": [
      "F1 Validation Accuracy:  69.53020134228188\n",
      "Flat Validation Accuracy:  1.5625\n",
      "\n",
      "\n",
      "Train loss: 0.5349766373634338\n"
     ]
    },
    {
     "name": "stderr",
     "output_type": "stream",
     "text": [
      "\r",
      "Epoch :  50%|█████████████████████████████████████▌                                     | 3/6 [49:06<49:09, 983.18s/it]"
     ]
    },
    {
     "name": "stdout",
     "output_type": "stream",
     "text": [
      "F1 Validation Accuracy:  71.24824684431978\n",
      "Flat Validation Accuracy:  1.5625\n",
      "\n",
      "\n",
      "Train loss: 0.5084325730800628\n"
     ]
    },
    {
     "name": "stderr",
     "output_type": "stream",
     "text": [
      "\r",
      "Epoch :  67%|████████████████████████████████████████████████▋                        | 4/6 [1:05:08<32:29, 974.79s/it]"
     ]
    },
    {
     "name": "stdout",
     "output_type": "stream",
     "text": [
      "F1 Validation Accuracy:  73.55021216407354\n",
      "Flat Validation Accuracy:  3.125\n",
      "\n",
      "\n",
      "Train loss: 0.4846707031130791\n"
     ]
    },
    {
     "name": "stderr",
     "output_type": "stream",
     "text": [
      "\r",
      "Epoch :  83%|████████████████████████████████████████████████████████████▊            | 5/6 [1:20:46<16:01, 961.56s/it]"
     ]
    },
    {
     "name": "stdout",
     "output_type": "stream",
     "text": [
      "F1 Validation Accuracy:  75.31734837799718\n",
      "Flat Validation Accuracy:  6.25\n",
      "\n",
      "\n",
      "Train loss: 0.46283355057239534\n"
     ]
    },
    {
     "name": "stderr",
     "output_type": "stream",
     "text": [
      "Epoch : 100%|█████████████████████████████████████████████████████████████████████████| 6/6 [1:36:07<00:00, 961.32s/it]"
     ]
    },
    {
     "name": "stdout",
     "output_type": "stream",
     "text": [
      "F1 Validation Accuracy:  75.92067988668556\n",
      "Flat Validation Accuracy:  6.25\n",
      "\n",
      "\n",
      "Wall time: 1h 36min 7s\n"
     ]
    },
    {
     "name": "stderr",
     "output_type": "stream",
     "text": [
      "\n"
     ]
    }
   ],
   "source": [
    "%%time\n",
    "epochs = 6\n",
    "for _ in trange(epochs, desc=\"Epoch \"):\n",
    "    model.train()\n",
    "    tr_loss = 0 \n",
    "    nb_tr_examples, nb_tr_steps = 0, 0\n",
    "    for step, batch in enumerate(train_dataloader):\n",
    "        batch = tuple(t.to(device) for t in batch)\n",
    "        b_input_ids, b_input_mask, b_labels= batch\n",
    "        optimizer.zero_grad()\n",
    "        outputs = model(b_input_ids, token_type_ids=None, attention_mask=b_input_mask)\n",
    "        logits = outputs[0]\n",
    "        loss_func = BCEWithLogitsLoss()  \n",
    "        loss = loss_func(logits.view(-1,num_labels),b_labels.type_as(logits).view(-1,num_labels)) #convert labels to float for calculation\n",
    "        \n",
    "        train_loss_set.append(loss.item())    \n",
    "        loss.backward()\n",
    "        optimizer.step()\n",
    "        tr_loss += loss.item()\n",
    "        nb_tr_examples += b_input_ids.size(0)\n",
    "        nb_tr_steps += 1\n",
    "\n",
    "    print(\"Train loss: {}\".format(tr_loss/nb_tr_steps))\n",
    "    training_loss_list.append(tr_loss/nb_tr_steps)\n",
    "    model.eval()\n",
    "    logit_preds,true_labels,pred_labels,tokenized_texts = [],[],[],[]\n",
    "    for i, batch in enumerate(validation_dataloader):\n",
    "        batch = tuple(t.to(device) for t in batch)\n",
    "        b_input_ids, b_input_mask, b_labels = batch\n",
    "        with torch.no_grad():\n",
    "            outs = model(b_input_ids, token_type_ids=None, attention_mask=b_input_mask)\n",
    "            b_logit_pred = outs[0]\n",
    "            pred_label = torch.sigmoid(b_logit_pred)\n",
    "\n",
    "        b_logit_pred = b_logit_pred.detach().cpu().numpy()\n",
    "        pred_label = pred_label.to('cpu').numpy()\n",
    "        b_labels = b_labels.to('cpu').numpy()\n",
    "\n",
    "    tokenized_texts.append(b_input_ids)\n",
    "    logit_preds.append(b_logit_pred)\n",
    "    true_labels.append(b_labels)\n",
    "    pred_labels.append(pred_label)\n",
    "    pred_labels = [item for sublist in pred_labels for item in sublist]\n",
    "    true_labels = [item for sublist in true_labels for item in sublist]\n",
    "    threshold = 0.50\n",
    "    pred_bools = [pl>threshold for pl in pred_labels]\n",
    "    true_bools = [tl==1 for tl in true_labels]\n",
    "    val_f1_accuracy = f1_score(true_bools,pred_bools,average='micro')*100\n",
    "    val_flat_accuracy = accuracy_score(true_bools, pred_bools)*100\n",
    "\n",
    "    print('F1 Validation Accuracy: ', val_f1_accuracy)  \n",
    "    print('Flat Validation Accuracy: ', val_flat_accuracy)\n",
    "    print('\\n')\n",
    "    val_f1_accuracy_list.append(val_f1_accuracy)\n",
    "    val_flat_accuracy_list.append(val_flat_accuracy)\n",
    "    epochs_list.append(epochs)  \n",
    "    "
   ]
  },
  {
   "cell_type": "code",
   "execution_count": 127,
   "id": "ca750941",
   "metadata": {},
   "outputs": [],
   "source": [
    "num_epochs = np.arange(1,len(training_loss_list)+1)"
   ]
  },
  {
   "cell_type": "code",
   "execution_count": 128,
   "id": "bce1c163",
   "metadata": {
    "execution": {
     "iopub.execute_input": "2023-04-11T07:02:22.366167Z",
     "iopub.status.busy": "2023-04-11T07:02:22.365869Z",
     "iopub.status.idle": "2023-04-11T07:02:22.371802Z",
     "shell.execute_reply": "2023-04-11T07:02:22.370792Z"
    },
    "papermill": {
     "duration": 0.027271,
     "end_time": "2023-04-11T07:02:22.373720",
     "exception": false,
     "start_time": "2023-04-11T07:02:22.346449",
     "status": "completed"
    },
    "tags": []
   },
   "outputs": [],
   "source": [
    "df_train_results=pd.DataFrame({'Epochs':num_epochs,'F1 Validation Accuracy':val_f1_accuracy_list,\\\n",
    "                               'Flat Validation Accuracy':val_flat_accuracy_list,'Train loss':training_loss_list})"
   ]
  },
  {
   "cell_type": "code",
   "execution_count": 129,
   "id": "3bf866fd",
   "metadata": {
    "execution": {
     "iopub.execute_input": "2023-04-11T07:02:22.442920Z",
     "iopub.status.busy": "2023-04-11T07:02:22.442286Z",
     "iopub.status.idle": "2023-04-11T07:02:22.696597Z",
     "shell.execute_reply": "2023-04-11T07:02:22.695633Z"
    },
    "papermill": {
     "duration": 0.274448,
     "end_time": "2023-04-11T07:02:22.698937",
     "exception": false,
     "start_time": "2023-04-11T07:02:22.424489",
     "status": "completed"
    },
    "tags": []
   },
   "outputs": [
    {
     "data": {
      "text/plain": [
       "Text(0.5, 1.0, 'Training Loss vs Number of Epochs for Bert-Base')"
      ]
     },
     "execution_count": 129,
     "metadata": {},
     "output_type": "execute_result"
    },
    {
     "data": {
      "image/png": "[encoded data removed]",
      "text/plain": [
       "<Figure size 1000x500 with 1 Axes>"
      ]
     },
     "metadata": {},
     "output_type": "display_data"
    }
   ],
   "source": [
    "fig, ax = plt.subplots(figsize=(10, 5));\n",
    "ax.plot(num_epochs, np.array(training_loss_list) ,'bo-',label=\"Train Loss\")\n",
    "ax.set_xlabel(\"Number of Epochs\")\n",
    "ax.set_ylabel(\"Training Loss\")\n",
    "ax.set_title(\"Training Loss vs Number of Epochs for Bert-Base\",fontsize=18)"
   ]
  },
  {
   "cell_type": "code",
   "execution_count": 130,
   "id": "efe02161",
   "metadata": {
    "execution": {
     "iopub.execute_input": "2023-04-11T07:02:22.791600Z",
     "iopub.status.busy": "2023-04-11T07:02:22.790647Z",
     "iopub.status.idle": "2023-04-11T07:02:23.028061Z",
     "shell.execute_reply": "2023-04-11T07:02:23.027212Z"
    },
    "papermill": {
     "duration": 0.312881,
     "end_time": "2023-04-11T07:02:23.030069",
     "exception": false,
     "start_time": "2023-04-11T07:02:22.717188",
     "status": "completed"
    },
    "tags": []
   },
   "outputs": [
    {
     "data": {
      "text/plain": [
       "(0.0, 100.0)"
      ]
     },
     "execution_count": 130,
     "metadata": {},
     "output_type": "execute_result"
    },
    {
     "data": {
      "image/png": "[encoded data removed]",
      "text/plain": [
       "<Figure size 1000x700 with 1 Axes>"
      ]
     },
     "metadata": {},
     "output_type": "display_data"
    }
   ],
   "source": [
    "fig, ax = plt.subplots(figsize=(10, 7));\n",
    "ax.plot(num_epochs, np.array(val_f1_accuracy_list),'ro-' ,label=\"F1 Validation Accuracy\")\n",
    "ax.set_xlabel(\"Number of Epochs\")\n",
    "ax.set_ylabel(\"F1 Validation Accuracy\")\n",
    "ax.set_title(\"F1 Validation Accuracy vs Number of Epochs for Bert-Base\",fontsize=18)\n",
    "ax.set_ylim(0, 100)"
   ]
  },
  {
   "cell_type": "code",
   "execution_count": 131,
   "id": "b5678ff8",
   "metadata": {
    "execution": {
     "iopub.execute_input": "2023-04-11T07:02:23.069155Z",
     "iopub.status.busy": "2023-04-11T07:02:23.068830Z",
     "iopub.status.idle": "2023-04-11T07:02:23.675192Z",
     "shell.execute_reply": "2023-04-11T07:02:23.673655Z"
    },
    "papermill": {
     "duration": 0.62947,
     "end_time": "2023-04-11T07:02:23.678436",
     "exception": false,
     "start_time": "2023-04-11T07:02:23.048966",
     "status": "completed"
    },
    "tags": []
   },
   "outputs": [
    {
     "data": {
      "text/plain": [
       "(0.0, 100.0)"
      ]
     },
     "execution_count": 131,
     "metadata": {},
     "output_type": "execute_result"
    },
    {
     "data": {
      "image/png": "[encoded data removed]",
      "text/plain": [
       "<Figure size 1000x500 with 1 Axes>"
      ]
     },
     "metadata": {},
     "output_type": "display_data"
    }
   ],
   "source": [
    "fig, ax = plt.subplots(figsize=(10, 5));\n",
    "ax.plot(num_epochs, np.array(val_flat_accuracy_list),'go-', label=\"Flat Validation Accuracy\")\n",
    "ax.set_xlabel(\"Number of Epochs\")\n",
    "ax.set_ylabel(\"Flat Validation Accuracy\")\n",
    "ax.set_title(\"Flat Validation Accuracy vs Number of Epochs for for Bert-Base\",fontsize=18)\n",
    "ax.set_ylim(0, 100)"
   ]
  },
  {
   "cell_type": "code",
   "execution_count": 132,
   "id": "488aa465",
   "metadata": {},
   "outputs": [
    {
     "data": {
      "text/plain": [
       "['A', 'B', 'C', 'D', 'E', 'F', 'G', 'H', 'I', 'J', 'L', 'M', 'N', 'Z']"
      ]
     },
     "execution_count": 132,
     "metadata": {},
     "output_type": "execute_result"
    }
   ],
   "source": [
    "mesh_Heading_categories"
   ]
  },
  {
   "cell_type": "code",
   "execution_count": 133,
   "id": "4662045f",
   "metadata": {
    "execution": {
     "iopub.execute_input": "2023-04-11T07:02:23.737627Z",
     "iopub.status.busy": "2023-04-11T07:02:23.737118Z",
     "iopub.status.idle": "2023-04-11T07:02:23.773057Z",
     "shell.execute_reply": "2023-04-11T07:02:23.772201Z"
    },
    "papermill": {
     "duration": 0.067809,
     "end_time": "2023-04-11T07:02:23.775563",
     "exception": false,
     "start_time": "2023-04-11T07:02:23.707754",
     "status": "completed"
    },
    "tags": []
   },
   "outputs": [
    {
     "data": {
      "text/html": [
       "<div>\n",
       "<style scoped>\n",
       "    .dataframe tbody tr th:only-of-type {\n",
       "        vertical-align: middle;\n",
       "    }\n",
       "\n",
       "    .dataframe tbody tr th {\n",
       "        vertical-align: top;\n",
       "    }\n",
       "\n",
       "    .dataframe thead th {\n",
       "        text-align: right;\n",
       "    }\n",
       "</style>\n",
       "<table border=\"1\" class=\"dataframe\">\n",
       "  <thead>\n",
       "    <tr style=\"text-align: right;\">\n",
       "      <th></th>\n",
       "      <th>Title</th>\n",
       "      <th>abstractText</th>\n",
       "      <th>meshMajor</th>\n",
       "      <th>pmid</th>\n",
       "      <th>meshid</th>\n",
       "      <th>meshroot</th>\n",
       "      <th>A</th>\n",
       "      <th>B</th>\n",
       "      <th>C</th>\n",
       "      <th>D</th>\n",
       "      <th>...</th>\n",
       "      <th>F</th>\n",
       "      <th>G</th>\n",
       "      <th>H</th>\n",
       "      <th>I</th>\n",
       "      <th>J</th>\n",
       "      <th>L</th>\n",
       "      <th>M</th>\n",
       "      <th>N</th>\n",
       "      <th>Z</th>\n",
       "      <th>one_hot_labels</th>\n",
       "    </tr>\n",
       "  </thead>\n",
       "  <tbody>\n",
       "    <tr>\n",
       "      <th>1496</th>\n",
       "      <td>Determination of the required surface area of ...</td>\n",
       "      <td>A generic methodology for determining the requ...</td>\n",
       "      <td>['Filtration', 'Models, Theoretical', 'Sewage'...</td>\n",
       "      <td>15168850</td>\n",
       "      <td>[['E05.196.454', 'G01.280', 'G02.263'], ['E05....</td>\n",
       "      <td>['Analytical, Diagnostic and Therapeutic Techn...</td>\n",
       "      <td>0</td>\n",
       "      <td>0</td>\n",
       "      <td>0</td>\n",
       "      <td>1</td>\n",
       "      <td>...</td>\n",
       "      <td>0</td>\n",
       "      <td>1</td>\n",
       "      <td>0</td>\n",
       "      <td>0</td>\n",
       "      <td>0</td>\n",
       "      <td>0</td>\n",
       "      <td>0</td>\n",
       "      <td>1</td>\n",
       "      <td>0</td>\n",
       "      <td>[0, 0, 0, 1, 1, 0, 1, 0, 0, 0, 0, 0, 1, 0]</td>\n",
       "    </tr>\n",
       "    <tr>\n",
       "      <th>270</th>\n",
       "      <td>Renin-angiotensin-aldosterone system in nephro...</td>\n",
       "      <td>Previous studies on the renin-angiotensin-aldo...</td>\n",
       "      <td>['Adolescent', 'Adult', 'Aldosterone', 'Blood ...</td>\n",
       "      <td>6377881</td>\n",
       "      <td>[['M01.060.057'], ['M01.060.116'], ['D04.210.5...</td>\n",
       "      <td>['Named Groups [M]', 'Chemicals and Drugs [D]'...</td>\n",
       "      <td>0</td>\n",
       "      <td>1</td>\n",
       "      <td>1</td>\n",
       "      <td>1</td>\n",
       "      <td>...</td>\n",
       "      <td>0</td>\n",
       "      <td>1</td>\n",
       "      <td>0</td>\n",
       "      <td>0</td>\n",
       "      <td>0</td>\n",
       "      <td>0</td>\n",
       "      <td>1</td>\n",
       "      <td>0</td>\n",
       "      <td>0</td>\n",
       "      <td>[0, 1, 1, 1, 0, 0, 1, 0, 0, 0, 0, 1, 0, 0]</td>\n",
       "    </tr>\n",
       "    <tr>\n",
       "      <th>611</th>\n",
       "      <td>Congenital cytomegalovirus virus infection.</td>\n",
       "      <td>A 14 months old male child with psychomotor re...</td>\n",
       "      <td>['Brain', 'Calcinosis', 'Cytomegalovirus Infec...</td>\n",
       "      <td>20071849</td>\n",
       "      <td>[['A08.186.211'], ['C18.452.174.130'], ['C01.9...</td>\n",
       "      <td>['Anatomy [A]', 'Diseases [C]', 'Organisms [B]...</td>\n",
       "      <td>1</td>\n",
       "      <td>1</td>\n",
       "      <td>1</td>\n",
       "      <td>0</td>\n",
       "      <td>...</td>\n",
       "      <td>1</td>\n",
       "      <td>1</td>\n",
       "      <td>0</td>\n",
       "      <td>0</td>\n",
       "      <td>0</td>\n",
       "      <td>0</td>\n",
       "      <td>1</td>\n",
       "      <td>1</td>\n",
       "      <td>0</td>\n",
       "      <td>[1, 1, 1, 0, 1, 1, 1, 0, 0, 0, 0, 1, 1, 0]</td>\n",
       "    </tr>\n",
       "  </tbody>\n",
       "</table>\n",
       "<p>3 rows × 21 columns</p>\n",
       "</div>"
      ],
      "text/plain": [
       "                                                  Title  \\\n",
       "1496  Determination of the required surface area of ...   \n",
       "270   Renin-angiotensin-aldosterone system in nephro...   \n",
       "611         Congenital cytomegalovirus virus infection.   \n",
       "\n",
       "                                           abstractText  \\\n",
       "1496  A generic methodology for determining the requ...   \n",
       "270   Previous studies on the renin-angiotensin-aldo...   \n",
       "611   A 14 months old male child with psychomotor re...   \n",
       "\n",
       "                                              meshMajor      pmid  \\\n",
       "1496  ['Filtration', 'Models, Theoretical', 'Sewage'...  15168850   \n",
       "270   ['Adolescent', 'Adult', 'Aldosterone', 'Blood ...   6377881   \n",
       "611   ['Brain', 'Calcinosis', 'Cytomegalovirus Infec...  20071849   \n",
       "\n",
       "                                                 meshid  \\\n",
       "1496  [['E05.196.454', 'G01.280', 'G02.263'], ['E05....   \n",
       "270   [['M01.060.057'], ['M01.060.116'], ['D04.210.5...   \n",
       "611   [['A08.186.211'], ['C18.452.174.130'], ['C01.9...   \n",
       "\n",
       "                                               meshroot  A  B  C  D  ...  F  \\\n",
       "1496  ['Analytical, Diagnostic and Therapeutic Techn...  0  0  0  1  ...  0   \n",
       "270   ['Named Groups [M]', 'Chemicals and Drugs [D]'...  0  1  1  1  ...  0   \n",
       "611   ['Anatomy [A]', 'Diseases [C]', 'Organisms [B]...  1  1  1  0  ...  1   \n",
       "\n",
       "      G  H  I  J  L  M  N  Z                              one_hot_labels  \n",
       "1496  1  0  0  0  0  0  1  0  [0, 0, 0, 1, 1, 0, 1, 0, 0, 0, 0, 0, 1, 0]  \n",
       "270   1  0  0  0  0  1  0  0  [0, 1, 1, 1, 0, 0, 1, 0, 0, 0, 0, 1, 0, 0]  \n",
       "611   1  0  0  0  0  1  1  0  [1, 1, 1, 0, 1, 1, 1, 0, 0, 0, 0, 1, 1, 0]  \n",
       "\n",
       "[3 rows x 21 columns]"
      ]
     },
     "execution_count": 133,
     "metadata": {},
     "output_type": "execute_result"
    }
   ],
   "source": [
    "df_test['one_hot_labels'] = list(df_test[mesh_Heading_categories].values)\n",
    "df_test.head(3)"
   ]
  },
  {
   "cell_type": "code",
   "execution_count": 134,
   "id": "2f1b61c3",
   "metadata": {},
   "outputs": [],
   "source": [
    "test_labels = list(df_test.one_hot_labels.values)"
   ]
  },
  {
   "cell_type": "code",
   "execution_count": 135,
   "id": "6539280b",
   "metadata": {},
   "outputs": [],
   "source": [
    "Articles_test = list(df_test.abstractText.values)"
   ]
  },
  {
   "cell_type": "code",
   "execution_count": 136,
   "id": "a9544ed2",
   "metadata": {},
   "outputs": [],
   "source": [
    "test_mesh_categories = list(df_test.columns[6:20])"
   ]
  },
  {
   "cell_type": "code",
   "execution_count": 137,
   "id": "600cc3d3",
   "metadata": {},
   "outputs": [],
   "source": [
    "test_encodings = tokenizer.batch_encode_plus(Articles_test,max_length=max_length,padding=True,truncation=True)"
   ]
  },
  {
   "cell_type": "code",
   "execution_count": 138,
   "id": "2dc2bb43",
   "metadata": {},
   "outputs": [],
   "source": [
    "test_input_ids = test_encodings['input_ids']"
   ]
  },
  {
   "cell_type": "code",
   "execution_count": 139,
   "id": "d544ead1",
   "metadata": {},
   "outputs": [],
   "source": [
    "test_attention_masks = test_encodings['attention_mask']"
   ]
  },
  {
   "cell_type": "code",
   "execution_count": 140,
   "id": "38604aef",
   "metadata": {},
   "outputs": [],
   "source": [
    "test_inputs = torch.tensor(test_input_ids)"
   ]
  },
  {
   "cell_type": "code",
   "execution_count": 141,
   "id": "52a8122b",
   "metadata": {},
   "outputs": [],
   "source": [
    "test_labels = torch.tensor(test_labels)"
   ]
  },
  {
   "cell_type": "code",
   "execution_count": 142,
   "id": "da86d914",
   "metadata": {},
   "outputs": [],
   "source": [
    "test_masks = torch.tensor(test_attention_masks)"
   ]
  },
  {
   "cell_type": "code",
   "execution_count": 143,
   "id": "8a16ff03",
   "metadata": {},
   "outputs": [],
   "source": [
    "test_data = TensorDataset(test_inputs, test_masks, test_labels,)"
   ]
  },
  {
   "cell_type": "code",
   "execution_count": 144,
   "id": "ea91a7e9",
   "metadata": {},
   "outputs": [],
   "source": [
    "test_sampler = SequentialSampler(test_data)"
   ]
  },
  {
   "cell_type": "code",
   "execution_count": 145,
   "id": "897f6424",
   "metadata": {},
   "outputs": [],
   "source": [
    "test_dataloader = DataLoader(test_data, sampler=test_sampler, batch_size=batch_size)"
   ]
  },
  {
   "cell_type": "code",
   "execution_count": 146,
   "id": "f933eb0b",
   "metadata": {},
   "outputs": [],
   "source": [
    "torch.save(test_dataloader,'test_data_loader')"
   ]
  },
  {
   "cell_type": "code",
   "execution_count": 147,
   "id": "94f23b2b",
   "metadata": {},
   "outputs": [],
   "source": [
    "model.eval()\n",
    "logit_preds,true_labels,pred_labels,tokenized_texts = [],[],[],[]"
   ]
  },
  {
   "cell_type": "code",
   "execution_count": null,
   "id": "2849502e",
   "metadata": {},
   "outputs": [],
   "source": []
  },
  {
   "cell_type": "code",
   "execution_count": 148,
   "id": "fca18364",
   "metadata": {
    "execution": {
     "iopub.execute_input": "2023-04-11T07:03:28.646890Z",
     "iopub.status.busy": "2023-04-11T07:03:28.646559Z",
     "iopub.status.idle": "2023-04-11T07:04:03.202425Z",
     "shell.execute_reply": "2023-04-11T07:04:03.200594Z"
    },
    "papermill": {
     "duration": 34.597047,
     "end_time": "2023-04-11T07:04:03.223768",
     "exception": false,
     "start_time": "2023-04-11T07:03:28.626721",
     "status": "completed"
    },
    "tags": []
   },
   "outputs": [
    {
     "name": "stdout",
     "output_type": "stream",
     "text": [
      "Wall time: 1min 22s\n"
     ]
    }
   ],
   "source": [
    "%%time\n",
    "for i, batch in enumerate(test_dataloader):\n",
    "    batch = tuple(t.to(device) for t in batch)\n",
    "    b_input_ids, b_input_mask, b_labels, = batch\n",
    "    with torch.no_grad():\n",
    "        outs = model(b_input_ids, token_type_ids=None, attention_mask=b_input_mask)\n",
    "        b_logit_pred = outs[0]\n",
    "        pred_label = torch.sigmoid(b_logit_pred)\n",
    "\n",
    "        b_logit_pred = b_logit_pred.detach().cpu().numpy()\n",
    "        pred_label = pred_label.to('cpu').numpy()\n",
    "        b_labels = b_labels.to('cpu').numpy()\n",
    "\n",
    "    tokenized_texts.append(b_input_ids)\n",
    "    logit_preds.append(b_logit_pred)\n",
    "    true_labels.append(b_labels)\n",
    "    pred_labels.append(pred_label)"
   ]
  },
  {
   "cell_type": "code",
   "execution_count": 149,
   "id": "2211a94d",
   "metadata": {},
   "outputs": [],
   "source": [
    "tokenized_texts = [item for sublist in tokenized_texts for item in sublist]"
   ]
  },
  {
   "cell_type": "code",
   "execution_count": 150,
   "id": "7e5d2b24",
   "metadata": {},
   "outputs": [],
   "source": [
    "pred_labels = [item for sublist in pred_labels for item in sublist]"
   ]
  },
  {
   "cell_type": "code",
   "execution_count": 151,
   "id": "908153af",
   "metadata": {},
   "outputs": [],
   "source": [
    "true_labels = [item for sublist in true_labels for item in sublist]"
   ]
  },
  {
   "cell_type": "code",
   "execution_count": 152,
   "id": "3c07db59",
   "metadata": {},
   "outputs": [],
   "source": [
    "true_bools = [tl==1 for tl in true_labels]"
   ]
  },
  {
   "cell_type": "code",
   "execution_count": 153,
   "id": "9b4769ab",
   "metadata": {},
   "outputs": [],
   "source": [
    "pred_bools = [pl>0.50 for pl in pred_labels]"
   ]
  },
  {
   "cell_type": "code",
   "execution_count": 154,
   "id": "7c165bda",
   "metadata": {},
   "outputs": [],
   "source": [
    "Test_F1_Accuracy=f1_score(true_bools, pred_bools,average='micro')"
   ]
  },
  {
   "cell_type": "code",
   "execution_count": 155,
   "id": "1ea692ec",
   "metadata": {},
   "outputs": [],
   "source": [
    "Test_Flat_Accuracy= accuracy_score(true_bools, pred_bools)"
   ]
  },
  {
   "cell_type": "code",
   "execution_count": 156,
   "id": "02fc76f4",
   "metadata": {},
   "outputs": [
    {
     "name": "stdout",
     "output_type": "stream",
     "text": [
      "Test F1 Accuracy:  0.7838745800671892\n",
      "Test Flat Accuracy:  0.1075 \n",
      "\n"
     ]
    }
   ],
   "source": [
    "print('Test F1 Accuracy: ',Test_F1_Accuracy )\n",
    "print('Test Flat Accuracy: ',Test_Flat_Accuracy,'\\n')"
   ]
  },
  {
   "cell_type": "code",
   "execution_count": 157,
   "id": "f7202c17",
   "metadata": {},
   "outputs": [],
   "source": [
    "df_test=pd.DataFrame({'Test F1 Accuracy':Test_F1_Accuracy, 'Test Flat Accuracy':Test_Flat_Accuracy},index=[0])"
   ]
  },
  {
   "cell_type": "code",
   "execution_count": 158,
   "id": "31a3c86b",
   "metadata": {},
   "outputs": [
    {
     "name": "stdout",
     "output_type": "stream",
     "text": [
      "              precision    recall  f1-score   support\n",
      "\n",
      "           A       0.75      0.68      0.71       197\n",
      "           B       0.95      1.00      0.98       381\n",
      "           C       0.85      0.76      0.80       215\n",
      "           D       0.88      0.82      0.85       268\n",
      "           E       0.78      1.00      0.88       312\n",
      "           F       1.00      0.07      0.13        71\n",
      "           G       0.70      0.97      0.81       264\n",
      "           H       0.00      0.00      0.00        49\n",
      "           I       0.00      0.00      0.00        40\n",
      "           J       0.00      0.00      0.00        39\n",
      "           L       0.00      0.00      0.00        62\n",
      "           M       0.79      0.82      0.80       169\n",
      "           N       0.79      0.72      0.76       193\n",
      "           Z       0.00      0.00      0.00        61\n",
      "\n",
      "   micro avg       0.82      0.75      0.78      2321\n",
      "   macro avg       0.54      0.49      0.48      2321\n",
      "weighted avg       0.74      0.75      0.73      2321\n",
      " samples avg       0.82      0.77      0.78      2321\n",
      "\n"
     ]
    }
   ],
   "source": [
    "print(classification_report(true_bools,pred_bools,target_names=test_mesh_categories))"
   ]
  },
  {
   "cell_type": "code",
   "execution_count": 159,
   "id": "f1278509",
   "metadata": {},
   "outputs": [],
   "source": [
    "clf_report = classification_report(true_bools,pred_bools,target_names=test_mesh_categories,output_dict=True)"
   ]
  },
  {
   "cell_type": "code",
   "execution_count": 160,
   "id": "01ec3c59",
   "metadata": {},
   "outputs": [],
   "source": [
    "df_report=pd.DataFrame(clf_report).transpose()"
   ]
  },
  {
   "cell_type": "code",
   "execution_count": 161,
   "id": "9d8ca410",
   "metadata": {
    "execution": {
     "iopub.execute_input": "2023-04-11T07:04:03.543683Z",
     "iopub.status.busy": "2023-04-11T07:04:03.542896Z",
     "iopub.status.idle": "2023-04-11T07:04:03.549916Z",
     "shell.execute_reply": "2023-04-11T07:04:03.549033Z"
    },
    "papermill": {
     "duration": 0.029092,
     "end_time": "2023-04-11T07:04:03.551870",
     "exception": false,
     "start_time": "2023-04-11T07:04:03.522778",
     "status": "completed"
    },
    "tags": []
   },
   "outputs": [],
   "source": [
    "df_report.to_csv('Classification_Report.csv',index=False)"
   ]
  },
  {
   "cell_type": "code",
   "execution_count": 162,
   "id": "8a65b8d7",
   "metadata": {
    "execution": {
     "iopub.execute_input": "2023-04-11T07:04:03.591890Z",
     "iopub.status.busy": "2023-04-11T07:04:03.591120Z",
     "iopub.status.idle": "2023-04-11T07:04:04.256223Z",
     "shell.execute_reply": "2023-04-11T07:04:04.255145Z"
    },
    "papermill": {
     "duration": 0.687885,
     "end_time": "2023-04-11T07:04:04.258906",
     "exception": false,
     "start_time": "2023-04-11T07:04:03.571021",
     "status": "completed"
    },
    "tags": []
   },
   "outputs": [
    {
     "data": {
      "text/plain": [
       "('./BioMedical_Classification_Save/tokenizer_config.json',\n",
       " './BioMedical_Classification_Save/special_tokens_map.json',\n",
       " './BioMedical_Classification_Save/vocab.txt',\n",
       " './BioMedical_Classification_Save/added_tokens.json')"
      ]
     },
     "execution_count": 162,
     "metadata": {},
     "output_type": "execute_result"
    }
   ],
   "source": [
    "model.save_pretrained('./BioMedical_Classification_Save/')\n",
    "tokenizer.save_pretrained('./BioMedical_Classification_Save/')"
   ]
  },
  {
   "cell_type": "code",
   "execution_count": 163,
   "id": "8d732b29",
   "metadata": {
    "execution": {
     "iopub.execute_input": "2023-04-11T07:04:04.634605Z",
     "iopub.status.busy": "2023-04-11T07:04:04.633809Z",
     "iopub.status.idle": "2023-04-11T07:04:04.640409Z",
     "shell.execute_reply": "2023-04-11T07:04:04.639523Z"
    },
    "papermill": {
     "duration": 0.029272,
     "end_time": "2023-04-11T07:04:04.642596",
     "exception": false,
     "start_time": "2023-04-11T07:04:04.613324",
     "status": "completed"
    },
    "tags": []
   },
   "outputs": [],
   "source": [
    "model.config.label2id= {\n",
    "\"Anatomy [A]\": 0,\n",
    "\"Organisms [B]\": 1,\n",
    "\"Diseases [C]\": 2,\n",
    "\"Chemicals and Drugs [D]\": 3,\n",
    "\"Analytical, Diagnostic and Therapeutic Techniques, and Equipment [E]\": 4,\n",
    "\"Psychiatry and Psychology [F]\": 5,\n",
    "\"Phenomena and Processes [G]\": 6,\n",
    "\"Disciplines and Occupations [H]\": 7,\n",
    "\"Anthropology, Education, Sociology, and Social Phenomena [I]\": 8,\n",
    "\"Technology, Industry, and Agriculture [J]\": 9,\n",
    "\"Information Science [L]\": 10,\n",
    "\"Named Groups [M]\": 11,\n",
    "\"Health Care [N]\": 12,\n",
    "\"Geographicals [Z]\": 13,\n",
    "}\n"
   ]
  },
  {
   "cell_type": "code",
   "execution_count": 164,
   "id": "28ff4f0f",
   "metadata": {},
   "outputs": [],
   "source": [
    "model.config.id2label={\n",
    "    \"0\": \"Anatomy [A]\",\n",
    "    \"1\": \"Organisms [B]\",\n",
    "    \"2\": \"Diseases [C]\",\n",
    "    \"3\": \"Chemicals and Drugs [D]\",\n",
    "    \"4\": \"Analytical, Diagnostic and Therapeutic Techniques, and Equipment [E]\",\n",
    "    \"5\": \"Psychiatry and Psychology [F]\",\n",
    "    \"6\": \"Phenomena and Processes [G]\",\n",
    "    \"7\": \"Disciplines and Occupations [H]\",\n",
    "    \"8\": \"Anthropology, Education, Sociology, and Social Phenomena [I]\",\n",
    "    \"9\": \"Technology, Industry, and Agriculture [J]\",\n",
    "    \"10\": \"Information Science [L]\",\n",
    "    \"11\": \"Named Groups [M]\",\n",
    "    \"12\": \"Health Care [N]\",\n",
    "    \"13\": \"Geographicals [Z]\"\n",
    "}\n",
    "    "
   ]
  },
  {
   "cell_type": "code",
   "execution_count": 165,
   "id": "1287bb4d",
   "metadata": {},
   "outputs": [],
   "source": [
    "import gradio as gr"
   ]
  },
  {
   "cell_type": "code",
   "execution_count": 166,
   "id": "8d0f8514",
   "metadata": {
    "execution": {
     "iopub.execute_input": "2023-04-11T07:06:00.436072Z",
     "iopub.status.busy": "2023-04-11T07:06:00.435771Z",
     "iopub.status.idle": "2023-04-11T07:06:10.136702Z",
     "shell.execute_reply": "2023-04-11T07:06:10.135303Z"
    },
    "papermill": {
     "duration": 9.725041,
     "end_time": "2023-04-11T07:06:10.139071",
     "exception": false,
     "start_time": "2023-04-11T07:06:00.414030",
     "status": "completed"
    },
    "tags": []
   },
   "outputs": [],
   "source": [
    "def predict(model_input: str) -> Dict[str, float]:\n",
    "    dict_custom={}\n",
    "    Preprocess_part1=model_input[:len(model_input)]\n",
    "    Preprocess_part2=model_input[len(model_input):]\n",
    "    dict1=tokenizer.encode_plus(Preprocess_part1,max_length=1024,padding=True,truncation=True)\n",
    "    dict2=tokenizer.encode_plus(Preprocess_part2,max_length=1024,padding=True,truncation=True)\n",
    "    \n",
    "    dict_custom['input_ids']=[dict1['input_ids'],dict1['input_ids']]\n",
    "    dict_custom['token_type_ids']=[dict1['token_type_ids'],dict1['token_type_ids']]\n",
    "    dict_custom['attention_mask']=[dict1['attention_mask'],dict1['attention_mask']]\n",
    "    \n",
    "    outs = model(torch.tensor(dict_custom['input_ids']), token_type_ids=None, attention_mask=torch.tensor(dict_custom['attention_mask']))\n",
    "    b_logit_pred = outs[0]\n",
    "    pred_label = torch.sigmoid(b_logit_pred)\n",
    "    \n",
    "    ret ={\n",
    "        \"Anatomy [A]\": float(pred_label[0][0]),\n",
    "        \"Organisms [B]\": float(pred_label[0][1]),\n",
    "        \"Diseases [C]\": float(pred_label[0][2]),\n",
    "        \"Chemicals and Drugs [D]\": float(pred_label[0][3]),\n",
    "        \"Analytical, Diagnostic and Therapeutic Techniques, and Equipment [E]\": float(pred_label[0][4]),\n",
    "        \"Psychiatry and Psychology [F]\": float(pred_label[0][5]),\n",
    "        \"Phenomena and Processes [G]\": float(pred_label[0][6]),\n",
    "        \"Disciplines and Occupations [H]\": float(pred_label[0][7]),\n",
    "        \"Anthropology, Education, Sociology, and Social Phenomena [I]\": float(pred_label[0][8]),\n",
    "        \"Technology, Industry, and Agriculture [J]\": float(pred_label[0][9]),\n",
    "        \"Information Science [L]\": float(pred_label[0][10]),\n",
    "        \"Named Groups [M]\": float(pred_label[0][11]),\n",
    "        \"Health Care [N]\": float(pred_label[0][12]),\n",
    "        \"Geographicals [Z]\": float(pred_label[0][13])}\n",
    "    return ret\n",
    "\n",
    "\n",
    "\n",
    "\n",
    "\n",
    "\n",
    "\n",
    "\n",
    "\n"
   ]
  },
  {
   "cell_type": "code",
   "execution_count": 167,
   "id": "3a200b61",
   "metadata": {},
   "outputs": [],
   "source": [
    "model_input = gr.Textbox(\"\", show_label=False)"
   ]
  },
  {
   "cell_type": "code",
   "execution_count": 168,
   "id": "cd672884",
   "metadata": {},
   "outputs": [],
   "source": [
    "model_output = gr.Label(\"Result\", num_top_classes=6, show_label=True, label=\"Labels assigned to this article\")"
   ]
  },
  {
   "cell_type": "code",
   "execution_count": 169,
   "id": "c67bdb89",
   "metadata": {},
   "outputs": [],
   "source": [
    "title = \"Pubmed Articles\"\n"
   ]
  },
  {
   "cell_type": "code",
   "execution_count": 170,
   "id": "912e7c05",
   "metadata": {},
   "outputs": [],
   "source": [
    "#Sample Data 1\n",
    "#Fifty-four paraffin embedded tissue sections from patients with dysplasia (21 cases) and with cervical cancer (33 cases) were analysed. HPV was detected and identified in two stages. Firstly, using mixed starters, chosen genomic DNA sequences were amplified; secondly the material thus obtained was analyzed by hybridization method using oligonucleotyde 31-P labelled probe. HPVs of type 6, 11, 16, 18, 33 were identified. The p-53 expression was assayed by immunohistochemical method. HPV infection was often associated with dysplasia and cervical cancer. In cervical cancer mainly HPV 16 and 18 with high oncogenic potential were found. The p-53 was present rarely, and in minute quantities. No correlation was observed between presence of p-53 and HPVs DNA.\n",
    "#The influence of genetic variation in alcohol dehydrogenase (ADH; EC 1.1.1.1) and aldehyde dehydrogenase (ALDH; EC 1.2.1.3) on the metabolic pattern of serotonin (5-hydroxytryptamine, 5-HT) in humans was examined from the relative urinary concentrations of the end products 5-hydroxyindole-3-acetic acid (5-HIAA) and 5-hydroxytryptophol (5-HTOL). Healthy Caucasian (Swedish) and Oriental (Chinese) subjects were genotyped for ADH2, ADH3 and ALDH2 by a PCR/SSCP technique. The 5-HTOL/5-HIAA ratios ranged between 0.9-9.4 pmol/nmol (4.4 +/- 1.8, mean +/- SD, n = 143). No significant difference in the 5-HT metabolic pattern was observed between Caucasians and Orientals (4.3 +/- 1.8 and 4.4 +/- 1.8 pmol/nmol, respectively), nor between any of the ADH2, ADH3 and ALDH2 genotypes. Despite the modulatory effects of genetic variation of these enzymes on ethanol metabolism, the present results indicate that the individual isozyme composition of ADH2, ADH3 and ALDH2 is not important for the metabolic pattern of 5-HT."
   ]
  },
  {
   "cell_type": "code",
   "execution_count": 171,
   "id": "8de84b0a",
   "metadata": {},
   "outputs": [
    {
     "name": "stdout",
     "output_type": "stream",
     "text": [
      "Running on local URL:  http://127.0.0.1:7860\n",
      "Running on public URL: https://1fbba8a3795629c5e7.gradio.live\n",
      "\n",
      "This share link expires in 72 hours. For free permanent hosting and GPU upgrades (NEW!), check out Spaces: https://huggingface.co/spaces\n"
     ]
    },
    {
     "data": {
      "text/html": [
       "<div><iframe src=\"https://1fbba8a3795629c5e7.gradio.live\" width=\"100%\" height=\"500\" allow=\"autoplay; camera; microphone; clipboard-read; clipboard-write;\" frameborder=\"0\" allowfullscreen></iframe></div>"
      ],
      "text/plain": [
       "<IPython.core.display.HTML object>"
      ]
     },
     "metadata": {},
     "output_type": "display_data"
    },
    {
     "data": {
      "text/plain": []
     },
     "execution_count": 171,
     "metadata": {},
     "output_type": "execute_result"
    }
   ],
   "source": [
    "app = gr.Interface(\n",
    "    predict, \n",
    "    inputs=model_input,\n",
    "    outputs=model_output, \n",
    "    title=title,\n",
    "    allow_flagging='never',\n",
    "    analytics_enabled=False,\n",
    ")\n",
    "\n",
    "\n",
    "app.launch(inline=True,share=True)"
   ]
  },
  {
   "cell_type": "code",
   "execution_count": null,
   "id": "3752340c",
   "metadata": {},
   "outputs": [],
   "source": []
  }
 ],
 "metadata": {
  "kernelspec": {
   "display_name": "Python 3 (ipykernel)",
   "language": "python",
   "name": "python3"
  },
  "language_info": {
   "codemirror_mode": {
    "name": "ipython",
    "version": 3
   },
   "file_extension": ".py",
   "mimetype": "text/x-python",
   "name": "python",
   "nbconvert_exporter": "python",
   "pygments_lexer": "ipython3",
   "version": "3.7.16"
  },
  "papermill": {
   "default_parameters": {},
   "duration": 2831.97105,
   "end_time": "2023-04-11T07:06:13.113055",
   "environment_variables": {},
   "exception": null,
   "input_path": "__notebook__.ipynb",
   "output_path": "__notebook__.ipynb",
   "parameters": {},
   "start_time": "2023-04-11T06:19:01.142005",
   "version": "2.3.4"
  },
  "widgets": {
   "application/vnd.jupyter.widget-state+json": {
    "state": {
     "02aad007643342c28e37dd95286361fa": {
      "model_module": "@jupyter-widgets/base",
      "model_module_version": "1.2.0",
      "model_name": "LayoutModel",
      "state": {
       "_model_module": "@jupyter-widgets/base",
       "_model_module_version": "1.2.0",
       "_model_name": "LayoutModel",
       "_view_count": null,
       "_view_module": "@jupyter-widgets/base",
       "_view_module_version": "1.2.0",
       "_view_name": "LayoutView",
       "align_content": null,
       "align_items": null,
       "align_self": null,
       "border": null,
       "bottom": null,
       "display": null,
       "flex": null,
       "flex_flow": null,
       "grid_area": null,
       "grid_auto_columns": null,
       "grid_auto_flow": null,
       "grid_auto_rows": null,
       "grid_column": null,
       "grid_gap": null,
       "grid_row": null,
       "grid_template_areas": null,
       "grid_template_columns": null,
       "grid_template_rows": null,
       "height": null,
       "justify_content": null,
       "justify_items": null,
       "left": null,
       "margin": null,
       "max_height": null,
       "max_width": null,
       "min_height": null,
       "min_width": null,
       "object_fit": null,
       "object_position": null,
       "order": null,
       "overflow": null,
       "overflow_x": null,
       "overflow_y": null,
       "padding": null,
       "right": null,
       "top": null,
       "visibility": null,
       "width": null
      }
     },
     "033a60df21fd48589f2b00a30570c5cb": {
      "model_module": "@jupyter-widgets/controls",
      "model_module_version": "1.5.0",
      "model_name": "FloatProgressModel",
      "state": {
       "_dom_classes": [],
       "_model_module": "@jupyter-widgets/controls",
       "_model_module_version": "1.5.0",
       "_model_name": "FloatProgressModel",
       "_view_count": null,
       "_view_module": "@jupyter-widgets/controls",
       "_view_module_version": "1.5.0",
       "_view_name": "ProgressView",
       "bar_style": "success",
       "description": "",
       "description_tooltip": null,
       "layout": "IPY_MODEL_39124e1234e4496b96c6411b905ef66f",
       "max": 1814,
       "min": 0,
       "orientation": "horizontal",
       "style": "IPY_MODEL_640af726dbea45c589a55bcc0c4752cd",
       "value": 1814
      }
     },
     "035ea084662b429fb20945e00cbb37c9": {
      "model_module": "@jupyter-widgets/controls",
      "model_module_version": "1.5.0",
      "model_name": "HBoxModel",
      "state": {
       "_dom_classes": [],
       "_model_module": "@jupyter-widgets/controls",
       "_model_module_version": "1.5.0",
       "_model_name": "HBoxModel",
       "_view_count": null,
       "_view_module": "@jupyter-widgets/controls",
       "_view_module_version": "1.5.0",
       "_view_name": "HBoxView",
       "box_style": "",
       "children": [
        "IPY_MODEL_cac0ffe0871f4c4a81177e277b89ca8c",
        "IPY_MODEL_a7d0fb1ba607483f801ed1c723e8be6f",
        "IPY_MODEL_17a8bbb74e204e199bea1cbbe753d9f7"
       ],
       "layout": "IPY_MODEL_2ae3cec0266049e99a84946950000694"
      }
     },
     "07258935b02d48fc9e9b36b7d594a802": {
      "model_module": "@jupyter-widgets/base",
      "model_module_version": "1.2.0",
      "model_name": "LayoutModel",
      "state": {
       "_model_module": "@jupyter-widgets/base",
       "_model_module_version": "1.2.0",
       "_model_name": "LayoutModel",
       "_view_count": null,
       "_view_module": "@jupyter-widgets/base",
       "_view_module_version": "1.2.0",
       "_view_name": "LayoutView",
       "align_content": null,
       "align_items": null,
       "align_self": null,
       "border": null,
       "bottom": null,
       "display": null,
       "flex": null,
       "flex_flow": null,
       "grid_area": null,
       "grid_auto_columns": null,
       "grid_auto_flow": null,
       "grid_auto_rows": null,
       "grid_column": null,
       "grid_gap": null,
       "grid_row": null,
       "grid_template_areas": null,
       "grid_template_columns": null,
       "grid_template_rows": null,
       "height": null,
       "justify_content": null,
       "justify_items": null,
       "left": null,
       "margin": null,
       "max_height": null,
       "max_width": null,
       "min_height": null,
       "min_width": null,
       "object_fit": null,
       "object_position": null,
       "order": null,
       "overflow": null,
       "overflow_x": null,
       "overflow_y": null,
       "padding": null,
       "right": null,
       "top": null,
       "visibility": null,
       "width": null
      }
     },
     "07ea5e2d6bb44a0d8f0f526929c5dd55": {
      "model_module": "@jupyter-widgets/controls",
      "model_module_version": "1.5.0",
      "model_name": "HTMLModel",
      "state": {
       "_dom_classes": [],
       "_model_module": "@jupyter-widgets/controls",
       "_model_module_version": "1.5.0",
       "_model_name": "HTMLModel",
       "_view_count": null,
       "_view_module": "@jupyter-widgets/controls",
       "_view_module_version": "1.5.0",
       "_view_name": "HTMLView",
       "description": "",
       "description_tooltip": null,
       "layout": "IPY_MODEL_c3f28f605fd245f48e102977704c5af1",
       "placeholder": "​",
       "style": "IPY_MODEL_c9fa1e18500044c7abb7a8971714afa2",
       "value": "Upload 1 LFS files: 100%"
      }
     },
     "0957a96777d543918dedf2d82a0ceef7": {
      "model_module": "@jupyter-widgets/base",
      "model_module_version": "1.2.0",
      "model_name": "LayoutModel",
      "state": {
       "_model_module": "@jupyter-widgets/base",
       "_model_module_version": "1.2.0",
       "_model_name": "LayoutModel",
       "_view_count": null,
       "_view_module": "@jupyter-widgets/base",
       "_view_module_version": "1.2.0",
       "_view_name": "LayoutView",
       "align_content": null,
       "align_items": null,
       "align_self": null,
       "border": null,
       "bottom": null,
       "display": null,
       "flex": null,
       "flex_flow": null,
       "grid_area": null,
       "grid_auto_columns": null,
       "grid_auto_flow": null,
       "grid_auto_rows": null,
       "grid_column": null,
       "grid_gap": null,
       "grid_row": null,
       "grid_template_areas": null,
       "grid_template_columns": null,
       "grid_template_rows": null,
       "height": null,
       "justify_content": null,
       "justify_items": null,
       "left": null,
       "margin": null,
       "max_height": null,
       "max_width": null,
       "min_height": null,
       "min_width": null,
       "object_fit": null,
       "object_position": null,
       "order": null,
       "overflow": null,
       "overflow_x": null,
       "overflow_y": null,
       "padding": null,
       "right": null,
       "top": null,
       "visibility": null,
       "width": null
      }
     },
     "0a1c108589d34fd9bc0f72d573e7ff68": {
      "model_module": "@jupyter-widgets/controls",
      "model_module_version": "1.5.0",
      "model_name": "ProgressStyleModel",
      "state": {
       "_model_module": "@jupyter-widgets/controls",
       "_model_module_version": "1.5.0",
       "_model_name": "ProgressStyleModel",
       "_view_count": null,
       "_view_module": "@jupyter-widgets/base",
       "_view_module_version": "1.2.0",
       "_view_name": "StyleView",
       "bar_color": null,
       "description_width": ""
      }
     },
     "0a6be87e5a754726b589483a2616fb79": {
      "model_module": "@jupyter-widgets/controls",
      "model_module_version": "1.5.0",
      "model_name": "HBoxModel",
      "state": {
       "_dom_classes": [],
       "_model_module": "@jupyter-widgets/controls",
       "_model_module_version": "1.5.0",
       "_model_name": "HBoxModel",
       "_view_count": null,
       "_view_module": "@jupyter-widgets/controls",
       "_view_module_version": "1.5.0",
       "_view_name": "HBoxView",
       "box_style": "",
       "children": [
        "IPY_MODEL_750ab61cc29245a68c98834f2bc1435c",
        "IPY_MODEL_033a60df21fd48589f2b00a30570c5cb",
        "IPY_MODEL_b173eb710250440e8721536f24d9a6fa"
       ],
       "layout": "IPY_MODEL_da1e26317c2e47deb63fdfefcc238ed2"
      }
     },
     "0a6f807de0184dc193a4e8e01dfbbd52": {
      "model_module": "@jupyter-widgets/controls",
      "model_module_version": "1.5.0",
      "model_name": "ProgressStyleModel",
      "state": {
       "_model_module": "@jupyter-widgets/controls",
       "_model_module_version": "1.5.0",
       "_model_name": "ProgressStyleModel",
       "_view_count": null,
       "_view_module": "@jupyter-widgets/base",
       "_view_module_version": "1.2.0",
       "_view_name": "StyleView",
       "bar_color": null,
       "description_width": ""
      }
     },
     "0d4363f150404f98a927eb2ba17e2abc": {
      "model_module": "@jupyter-widgets/base",
      "model_module_version": "1.2.0",
      "model_name": "LayoutModel",
      "state": {
       "_model_module": "@jupyter-widgets/base",
       "_model_module_version": "1.2.0",
       "_model_name": "LayoutModel",
       "_view_count": null,
       "_view_module": "@jupyter-widgets/base",
       "_view_module_version": "1.2.0",
       "_view_name": "LayoutView",
       "align_content": null,
       "align_items": null,
       "align_self": null,
       "border": null,
       "bottom": null,
       "display": null,
       "flex": null,
       "flex_flow": null,
       "grid_area": null,
       "grid_auto_columns": null,
       "grid_auto_flow": null,
       "grid_auto_rows": null,
       "grid_column": null,
       "grid_gap": null,
       "grid_row": null,
       "grid_template_areas": null,
       "grid_template_columns": null,
       "grid_template_rows": null,
       "height": null,
       "justify_content": null,
       "justify_items": null,
       "left": null,
       "margin": null,
       "max_height": null,
       "max_width": null,
       "min_height": null,
       "min_width": null,
       "object_fit": null,
       "object_position": null,
       "order": null,
       "overflow": null,
       "overflow_x": null,
       "overflow_y": null,
       "padding": null,
       "right": null,
       "top": null,
       "visibility": null,
       "width": null
      }
     },
     "0e6772fab66b4fcb900c0cec3579d6e5": {
      "model_module": "@jupyter-widgets/controls",
      "model_module_version": "1.5.0",
      "model_name": "DescriptionStyleModel",
      "state": {
       "_model_module": "@jupyter-widgets/controls",
       "_model_module_version": "1.5.0",
       "_model_name": "DescriptionStyleModel",
       "_view_count": null,
       "_view_module": "@jupyter-widgets/base",
       "_view_module_version": "1.2.0",
       "_view_name": "StyleView",
       "description_width": ""
      }
     },
     "0e6bfa158f884334853370efaf3e74b0": {
      "model_module": "@jupyter-widgets/controls",
      "model_module_version": "1.5.0",
      "model_name": "HTMLModel",
      "state": {
       "_dom_classes": [],
       "_model_module": "@jupyter-widgets/controls",
       "_model_module_version": "1.5.0",
       "_model_name": "HTMLModel",
       "_view_count": null,
       "_view_module": "@jupyter-widgets/controls",
       "_view_module_version": "1.5.0",
       "_view_name": "HTMLView",
       "description": "",
       "description_tooltip": null,
       "layout": "IPY_MODEL_4cbb01938d79431b9ca8102ee681781b",
       "placeholder": "​",
       "style": "IPY_MODEL_a2fe5a5d0ff241ab8bdfc1ee1ab1fd9b",
       "value": "Downloading (…)solve/main/vocab.txt: 100%"
      }
     },
     "0f18589e503346b1a0a0634ffd9c384f": {
      "model_module": "@jupyter-widgets/controls",
      "model_module_version": "1.5.0",
      "model_name": "DescriptionStyleModel",
      "state": {
       "_model_module": "@jupyter-widgets/controls",
       "_model_module_version": "1.5.0",
       "_model_name": "DescriptionStyleModel",
       "_view_count": null,
       "_view_module": "@jupyter-widgets/base",
       "_view_module_version": "1.2.0",
       "_view_name": "StyleView",
       "description_width": ""
      }
     },
     "1060e92857f6439492eda5df1af30b4d": {
      "model_module": "@jupyter-widgets/controls",
      "model_module_version": "1.5.0",
      "model_name": "FloatProgressModel",
      "state": {
       "_dom_classes": [],
       "_model_module": "@jupyter-widgets/controls",
       "_model_module_version": "1.5.0",
       "_model_name": "FloatProgressModel",
       "_view_count": null,
       "_view_module": "@jupyter-widgets/controls",
       "_view_module_version": "1.5.0",
       "_view_name": "ProgressView",
       "bar_style": "success",
       "description": "",
       "description_tooltip": null,
       "layout": "IPY_MODEL_c2a74444e9614f4d9701461fcc7e11ad",
       "max": 1110,
       "min": 0,
       "orientation": "horizontal",
       "style": "IPY_MODEL_6766c9eeac6a4df197a111d0c1132a55",
       "value": 1110
      }
     },
     "114e535ccae546feba35367d46bce1b6": {
      "model_module": "@jupyter-widgets/controls",
      "model_module_version": "1.5.0",
      "model_name": "HTMLModel",
      "state": {
       "_dom_classes": [],
       "_model_module": "@jupyter-widgets/controls",
       "_model_module_version": "1.5.0",
       "_model_name": "HTMLModel",
       "_view_count": null,
       "_view_module": "@jupyter-widgets/controls",
       "_view_module_version": "1.5.0",
       "_view_name": "HTMLView",
       "description": "",
       "description_tooltip": null,
       "layout": "IPY_MODEL_9b93cf7ab3374f12941a183735b6b1cb",
       "placeholder": "​",
       "style": "IPY_MODEL_35b5855985ae454a9bdbb2e225d71b70",
       "value": "pytorch_model.bin: 100%"
      }
     },
     "125938185a1d4026a7c2b93b3536bdac": {
      "model_module": "@jupyter-widgets/controls",
      "model_module_version": "1.5.0",
      "model_name": "FloatProgressModel",
      "state": {
       "_dom_classes": [],
       "_model_module": "@jupyter-widgets/controls",
       "_model_module_version": "1.5.0",
       "_model_name": "FloatProgressModel",
       "_view_count": null,
       "_view_module": "@jupyter-widgets/controls",
       "_view_module_version": "1.5.0",
       "_view_name": "ProgressView",
       "bar_style": "",
       "description": "",
       "description_tooltip": null,
       "layout": "IPY_MODEL_f371805efd3d4f9793a587b3de40ec73",
       "max": 1,
       "min": 0,
       "orientation": "horizontal",
       "style": "IPY_MODEL_80f576e6b974438490664b6c0075eccc",
       "value": 1
      }
     },
     "1341ab4ec99042b38bc207d8f17e6c52": {
      "model_module": "@jupyter-widgets/base",
      "model_module_version": "1.2.0",
      "model_name": "LayoutModel",
      "state": {
       "_model_module": "@jupyter-widgets/base",
       "_model_module_version": "1.2.0",
       "_model_name": "LayoutModel",
       "_view_count": null,
       "_view_module": "@jupyter-widgets/base",
       "_view_module_version": "1.2.0",
       "_view_name": "LayoutView",
       "align_content": null,
       "align_items": null,
       "align_self": null,
       "border": null,
       "bottom": null,
       "display": null,
       "flex": null,
       "flex_flow": null,
       "grid_area": null,
       "grid_auto_columns": null,
       "grid_auto_flow": null,
       "grid_auto_rows": null,
       "grid_column": null,
       "grid_gap": null,
       "grid_row": null,
       "grid_template_areas": null,
       "grid_template_columns": null,
       "grid_template_rows": null,
       "height": null,
       "justify_content": null,
       "justify_items": null,
       "left": null,
       "margin": null,
       "max_height": null,
       "max_width": null,
       "min_height": null,
       "min_width": null,
       "object_fit": null,
       "object_position": null,
       "order": null,
       "overflow": null,
       "overflow_x": null,
       "overflow_y": null,
       "padding": null,
       "right": null,
       "top": null,
       "visibility": null,
       "width": null
      }
     },
     "17a8bbb74e204e199bea1cbbe753d9f7": {
      "model_module": "@jupyter-widgets/controls",
      "model_module_version": "1.5.0",
      "model_name": "HTMLModel",
      "state": {
       "_dom_classes": [],
       "_model_module": "@jupyter-widgets/controls",
       "_model_module_version": "1.5.0",
       "_model_name": "HTMLModel",
       "_view_count": null,
       "_view_module": "@jupyter-widgets/controls",
       "_view_module_version": "1.5.0",
       "_view_name": "HTMLView",
       "description": "",
       "description_tooltip": null,
       "layout": "IPY_MODEL_ec67ea5223874517950e2429e966abcc",
       "placeholder": "​",
       "style": "IPY_MODEL_8112dbb3ba534dbfa0e40c16bb66d3c8",
       "value": " 388/388 [00:00&lt;00:00, 13.7kB/s]"
      }
     },
     "1821a639fc40467c9505023823333ef8": {
      "model_module": "@jupyter-widgets/controls",
      "model_module_version": "1.5.0",
      "model_name": "ProgressStyleModel",
      "state": {
       "_model_module": "@jupyter-widgets/controls",
       "_model_module_version": "1.5.0",
       "_model_name": "ProgressStyleModel",
       "_view_count": null,
       "_view_module": "@jupyter-widgets/base",
       "_view_module_version": "1.2.0",
       "_view_name": "StyleView",
       "bar_color": null,
       "description_width": ""
      }
     },
     "1a07c0acb9b14d43ae597ce79dec4c4c": {
      "model_module": "@jupyter-widgets/controls",
      "model_module_version": "1.5.0",
      "model_name": "FloatProgressModel",
      "state": {
       "_dom_classes": [],
       "_model_module": "@jupyter-widgets/controls",
       "_model_module_version": "1.5.0",
       "_model_name": "FloatProgressModel",
       "_view_count": null,
       "_view_module": "@jupyter-widgets/controls",
       "_view_module_version": "1.5.0",
       "_view_name": "ProgressView",
       "bar_style": "success",
       "description": "",
       "description_tooltip": null,
       "layout": "IPY_MODEL_5ba0d3e25ed84b03bb0da985fca56b6d",
       "max": 125,
       "min": 0,
       "orientation": "horizontal",
       "style": "IPY_MODEL_0a1c108589d34fd9bc0f72d573e7ff68",
       "value": 125
      }
     },
     "1cbc6a46f856468383bacc8409f45ae5": {
      "model_module": "@jupyter-widgets/controls",
      "model_module_version": "1.5.0",
      "model_name": "HTMLModel",
      "state": {
       "_dom_classes": [],
       "_model_module": "@jupyter-widgets/controls",
       "_model_module_version": "1.5.0",
       "_model_name": "HTMLModel",
       "_view_count": null,
       "_view_module": "@jupyter-widgets/controls",
       "_view_module_version": "1.5.0",
       "_view_name": "HTMLView",
       "description": "",
       "description_tooltip": null,
       "layout": "IPY_MODEL_2859f1300afb44538dd1ab433f7c11b0",
       "placeholder": "​",
       "style": "IPY_MODEL_dd7ef694a60a49a29c2143434d226965",
       "value": " 1/1 [01:26&lt;00:00, 86.43s/it]"
      }
     },
     "1ef0dbbaef354447b6ea2a30c01ba3b9": {
      "model_module": "@jupyter-widgets/base",
      "model_module_version": "1.2.0",
      "model_name": "LayoutModel",
      "state": {
       "_model_module": "@jupyter-widgets/base",
       "_model_module_version": "1.2.0",
       "_model_name": "LayoutModel",
       "_view_count": null,
       "_view_module": "@jupyter-widgets/base",
       "_view_module_version": "1.2.0",
       "_view_name": "LayoutView",
       "align_content": null,
       "align_items": null,
       "align_self": null,
       "border": null,
       "bottom": null,
       "display": null,
       "flex": null,
       "flex_flow": null,
       "grid_area": null,
       "grid_auto_columns": null,
       "grid_auto_flow": null,
       "grid_auto_rows": null,
       "grid_column": null,
       "grid_gap": null,
       "grid_row": null,
       "grid_template_areas": null,
       "grid_template_columns": null,
       "grid_template_rows": null,
       "height": null,
       "justify_content": null,
       "justify_items": null,
       "left": null,
       "margin": null,
       "max_height": null,
       "max_width": null,
       "min_height": null,
       "min_width": null,
       "object_fit": null,
       "object_position": null,
       "order": null,
       "overflow": null,
       "overflow_x": null,
       "overflow_y": null,
       "padding": null,
       "right": null,
       "top": null,
       "visibility": null,
       "width": null
      }
     },
     "1f1a5c28f93443949ec579755809dd0c": {
      "model_module": "@jupyter-widgets/base",
      "model_module_version": "1.2.0",
      "model_name": "LayoutModel",
      "state": {
       "_model_module": "@jupyter-widgets/base",
       "_model_module_version": "1.2.0",
       "_model_name": "LayoutModel",
       "_view_count": null,
       "_view_module": "@jupyter-widgets/base",
       "_view_module_version": "1.2.0",
       "_view_name": "LayoutView",
       "align_content": null,
       "align_items": null,
       "align_self": null,
       "border": null,
       "bottom": null,
       "display": null,
       "flex": null,
       "flex_flow": null,
       "grid_area": null,
       "grid_auto_columns": null,
       "grid_auto_flow": null,
       "grid_auto_rows": null,
       "grid_column": null,
       "grid_gap": null,
       "grid_row": null,
       "grid_template_areas": null,
       "grid_template_columns": null,
       "grid_template_rows": null,
       "height": null,
       "justify_content": null,
       "justify_items": null,
       "left": null,
       "margin": null,
       "max_height": null,
       "max_width": null,
       "min_height": null,
       "min_width": null,
       "object_fit": null,
       "object_position": null,
       "order": null,
       "overflow": null,
       "overflow_x": null,
       "overflow_y": null,
       "padding": null,
       "right": null,
       "top": null,
       "visibility": null,
       "width": null
      }
     },
     "21bf33f1c3f64eecb3cce66fec37f51f": {
      "model_module": "@jupyter-widgets/controls",
      "model_module_version": "1.5.0",
      "model_name": "HBoxModel",
      "state": {
       "_dom_classes": [],
       "_model_module": "@jupyter-widgets/controls",
       "_model_module_version": "1.5.0",
       "_model_name": "HBoxModel",
       "_view_count": null,
       "_view_module": "@jupyter-widgets/controls",
       "_view_module_version": "1.5.0",
       "_view_name": "HBoxView",
       "box_style": "",
       "children": [
        "IPY_MODEL_360dcddc4c594b5ab12d72d63e5fece1",
        "IPY_MODEL_d944f9b35b4e47eb8a7f7767badf464a",
        "IPY_MODEL_bc0f737776c44b3fb0c5afd273d0ae5c"
       ],
       "layout": "IPY_MODEL_df40e21574414a33839d4ab4c262f256"
      }
     },
     "232a274775d64ba4816405e87e9a2235": {
      "model_module": "@jupyter-widgets/base",
      "model_module_version": "1.2.0",
      "model_name": "LayoutModel",
      "state": {
       "_model_module": "@jupyter-widgets/base",
       "_model_module_version": "1.2.0",
       "_model_name": "LayoutModel",
       "_view_count": null,
       "_view_module": "@jupyter-widgets/base",
       "_view_module_version": "1.2.0",
       "_view_name": "LayoutView",
       "align_content": null,
       "align_items": null,
       "align_self": null,
       "border": null,
       "bottom": null,
       "display": null,
       "flex": null,
       "flex_flow": null,
       "grid_area": null,
       "grid_auto_columns": null,
       "grid_auto_flow": null,
       "grid_auto_rows": null,
       "grid_column": null,
       "grid_gap": null,
       "grid_row": null,
       "grid_template_areas": null,
       "grid_template_columns": null,
       "grid_template_rows": null,
       "height": null,
       "justify_content": null,
       "justify_items": null,
       "left": null,
       "margin": null,
       "max_height": null,
       "max_width": null,
       "min_height": null,
       "min_width": null,
       "object_fit": null,
       "object_position": null,
       "order": null,
       "overflow": null,
       "overflow_x": null,
       "overflow_y": null,
       "padding": null,
       "right": null,
       "top": null,
       "visibility": null,
       "width": null
      }
     },
     "2859f1300afb44538dd1ab433f7c11b0": {
      "model_module": "@jupyter-widgets/base",
      "model_module_version": "1.2.0",
      "model_name": "LayoutModel",
      "state": {
       "_model_module": "@jupyter-widgets/base",
       "_model_module_version": "1.2.0",
       "_model_name": "LayoutModel",
       "_view_count": null,
       "_view_module": "@jupyter-widgets/base",
       "_view_module_version": "1.2.0",
       "_view_name": "LayoutView",
       "align_content": null,
       "align_items": null,
       "align_self": null,
       "border": null,
       "bottom": null,
       "display": null,
       "flex": null,
       "flex_flow": null,
       "grid_area": null,
       "grid_auto_columns": null,
       "grid_auto_flow": null,
       "grid_auto_rows": null,
       "grid_column": null,
       "grid_gap": null,
       "grid_row": null,
       "grid_template_areas": null,
       "grid_template_columns": null,
       "grid_template_rows": null,
       "height": null,
       "justify_content": null,
       "justify_items": null,
       "left": null,
       "margin": null,
       "max_height": null,
       "max_width": null,
       "min_height": null,
       "min_width": null,
       "object_fit": null,
       "object_position": null,
       "order": null,
       "overflow": null,
       "overflow_x": null,
       "overflow_y": null,
       "padding": null,
       "right": null,
       "top": null,
       "visibility": null,
       "width": null
      }
     },
     "2ad5062494d44c9baf7c5a2f2da3306d": {
      "model_module": "@jupyter-widgets/controls",
      "model_module_version": "1.5.0",
      "model_name": "DescriptionStyleModel",
      "state": {
       "_model_module": "@jupyter-widgets/controls",
       "_model_module_version": "1.5.0",
       "_model_name": "DescriptionStyleModel",
       "_view_count": null,
       "_view_module": "@jupyter-widgets/base",
       "_view_module_version": "1.2.0",
       "_view_name": "StyleView",
       "description_width": ""
      }
     },
     "2ae3cec0266049e99a84946950000694": {
      "model_module": "@jupyter-widgets/base",
      "model_module_version": "1.2.0",
      "model_name": "LayoutModel",
      "state": {
       "_model_module": "@jupyter-widgets/base",
       "_model_module_version": "1.2.0",
       "_model_name": "LayoutModel",
       "_view_count": null,
       "_view_module": "@jupyter-widgets/base",
       "_view_module_version": "1.2.0",
       "_view_name": "LayoutView",
       "align_content": null,
       "align_items": null,
       "align_self": null,
       "border": null,
       "bottom": null,
       "display": null,
       "flex": null,
       "flex_flow": null,
       "grid_area": null,
       "grid_auto_columns": null,
       "grid_auto_flow": null,
       "grid_auto_rows": null,
       "grid_column": null,
       "grid_gap": null,
       "grid_row": null,
       "grid_template_areas": null,
       "grid_template_columns": null,
       "grid_template_rows": null,
       "height": null,
       "justify_content": null,
       "justify_items": null,
       "left": null,
       "margin": null,
       "max_height": null,
       "max_width": null,
       "min_height": null,
       "min_width": null,
       "object_fit": null,
       "object_position": null,
       "order": null,
       "overflow": null,
       "overflow_x": null,
       "overflow_y": null,
       "padding": null,
       "right": null,
       "top": null,
       "visibility": null,
       "width": null
      }
     },
     "2da71071bf2c49f8935aaedc5d8c148c": {
      "model_module": "@jupyter-widgets/base",
      "model_module_version": "1.2.0",
      "model_name": "LayoutModel",
      "state": {
       "_model_module": "@jupyter-widgets/base",
       "_model_module_version": "1.2.0",
       "_model_name": "LayoutModel",
       "_view_count": null,
       "_view_module": "@jupyter-widgets/base",
       "_view_module_version": "1.2.0",
       "_view_name": "LayoutView",
       "align_content": null,
       "align_items": null,
       "align_self": null,
       "border": null,
       "bottom": null,
       "display": null,
       "flex": null,
       "flex_flow": null,
       "grid_area": null,
       "grid_auto_columns": null,
       "grid_auto_flow": null,
       "grid_auto_rows": null,
       "grid_column": null,
       "grid_gap": null,
       "grid_row": null,
       "grid_template_areas": null,
       "grid_template_columns": null,
       "grid_template_rows": null,
       "height": null,
       "justify_content": null,
       "justify_items": null,
       "left": null,
       "margin": null,
       "max_height": null,
       "max_width": null,
       "min_height": null,
       "min_width": null,
       "object_fit": null,
       "object_position": null,
       "order": null,
       "overflow": null,
       "overflow_x": null,
       "overflow_y": null,
       "padding": null,
       "right": null,
       "top": null,
       "visibility": null,
       "width": null
      }
     },
     "2f4669e0fa5142bcba7e92c13ff77d53": {
      "model_module": "@jupyter-widgets/controls",
      "model_module_version": "1.5.0",
      "model_name": "DescriptionStyleModel",
      "state": {
       "_model_module": "@jupyter-widgets/controls",
       "_model_module_version": "1.5.0",
       "_model_name": "DescriptionStyleModel",
       "_view_count": null,
       "_view_module": "@jupyter-widgets/base",
       "_view_module_version": "1.2.0",
       "_view_name": "StyleView",
       "description_width": ""
      }
     },
     "2fbd05a6541c48fd96ce62d94cac4f6a": {
      "model_module": "@jupyter-widgets/controls",
      "model_module_version": "1.5.0",
      "model_name": "HBoxModel",
      "state": {
       "_dom_classes": [],
       "_model_module": "@jupyter-widgets/controls",
       "_model_module_version": "1.5.0",
       "_model_name": "HBoxModel",
       "_view_count": null,
       "_view_module": "@jupyter-widgets/controls",
       "_view_module_version": "1.5.0",
       "_view_name": "HBoxView",
       "box_style": "",
       "children": [
        "IPY_MODEL_b42d4176a1e34a3a98dd65373e8d2e30",
        "IPY_MODEL_1a07c0acb9b14d43ae597ce79dec4c4c",
        "IPY_MODEL_98d304d69d704117ab7a3204acc8f755"
       ],
       "layout": "IPY_MODEL_c4edf16b636f4dbabc74f7d99be65beb"
      }
     },
     "2fcc3ee72c6f4e8ea512a552d364fab1": {
      "model_module": "@jupyter-widgets/controls",
      "model_module_version": "1.5.0",
      "model_name": "DescriptionStyleModel",
      "state": {
       "_model_module": "@jupyter-widgets/controls",
       "_model_module_version": "1.5.0",
       "_model_name": "DescriptionStyleModel",
       "_view_count": null,
       "_view_module": "@jupyter-widgets/base",
       "_view_module_version": "1.2.0",
       "_view_name": "StyleView",
       "description_width": ""
      }
     },
     "318d6666d9014867bac333dfafdb893b": {
      "model_module": "@jupyter-widgets/controls",
      "model_module_version": "1.5.0",
      "model_name": "ProgressStyleModel",
      "state": {
       "_model_module": "@jupyter-widgets/controls",
       "_model_module_version": "1.5.0",
       "_model_name": "ProgressStyleModel",
       "_view_count": null,
       "_view_module": "@jupyter-widgets/base",
       "_view_module_version": "1.2.0",
       "_view_name": "StyleView",
       "bar_color": null,
       "description_width": ""
      }
     },
     "35b5855985ae454a9bdbb2e225d71b70": {
      "model_module": "@jupyter-widgets/controls",
      "model_module_version": "1.5.0",
      "model_name": "DescriptionStyleModel",
      "state": {
       "_model_module": "@jupyter-widgets/controls",
       "_model_module_version": "1.5.0",
       "_model_name": "DescriptionStyleModel",
       "_view_count": null,
       "_view_module": "@jupyter-widgets/base",
       "_view_module_version": "1.2.0",
       "_view_name": "StyleView",
       "description_width": ""
      }
     },
     "360dcddc4c594b5ab12d72d63e5fece1": {
      "model_module": "@jupyter-widgets/controls",
      "model_module_version": "1.5.0",
      "model_name": "HTMLModel",
      "state": {
       "_dom_classes": [],
       "_model_module": "@jupyter-widgets/controls",
       "_model_module_version": "1.5.0",
       "_model_name": "HTMLModel",
       "_view_count": null,
       "_view_module": "@jupyter-widgets/controls",
       "_view_module_version": "1.5.0",
       "_view_name": "HTMLView",
       "description": "",
       "description_tooltip": null,
       "layout": "IPY_MODEL_d00aac80aca440a78cc82f0d25f4b479",
       "placeholder": "​",
       "style": "IPY_MODEL_a3ccb9545d814ce2ab7ac5047bdb1a98",
       "value": "Downloading pytorch_model.bin: 100%"
      }
     },
     "39124e1234e4496b96c6411b905ef66f": {
      "model_module": "@jupyter-widgets/base",
      "model_module_version": "1.2.0",
      "model_name": "LayoutModel",
      "state": {
       "_model_module": "@jupyter-widgets/base",
       "_model_module_version": "1.2.0",
       "_model_name": "LayoutModel",
       "_view_count": null,
       "_view_module": "@jupyter-widgets/base",
       "_view_module_version": "1.2.0",
       "_view_name": "LayoutView",
       "align_content": null,
       "align_items": null,
       "align_self": null,
       "border": null,
       "bottom": null,
       "display": null,
       "flex": null,
       "flex_flow": null,
       "grid_area": null,
       "grid_auto_columns": null,
       "grid_auto_flow": null,
       "grid_auto_rows": null,
       "grid_column": null,
       "grid_gap": null,
       "grid_row": null,
       "grid_template_areas": null,
       "grid_template_columns": null,
       "grid_template_rows": null,
       "height": null,
       "justify_content": null,
       "justify_items": null,
       "left": null,
       "margin": null,
       "max_height": null,
       "max_width": null,
       "min_height": null,
       "min_width": null,
       "object_fit": null,
       "object_position": null,
       "order": null,
       "overflow": null,
       "overflow_x": null,
       "overflow_y": null,
       "padding": null,
       "right": null,
       "top": null,
       "visibility": null,
       "width": null
      }
     },
     "40a4fbcaa63e4356a54d7c2a338d39b6": {
      "model_module": "@jupyter-widgets/controls",
      "model_module_version": "1.5.0",
      "model_name": "ProgressStyleModel",
      "state": {
       "_model_module": "@jupyter-widgets/controls",
       "_model_module_version": "1.5.0",
       "_model_name": "ProgressStyleModel",
       "_view_count": null,
       "_view_module": "@jupyter-widgets/base",
       "_view_module_version": "1.2.0",
       "_view_name": "StyleView",
       "bar_color": null,
       "description_width": ""
      }
     },
     "42d0e8e68ad646948c8494435c68fd5f": {
      "model_module": "@jupyter-widgets/base",
      "model_module_version": "1.2.0",
      "model_name": "LayoutModel",
      "state": {
       "_model_module": "@jupyter-widgets/base",
       "_model_module_version": "1.2.0",
       "_model_name": "LayoutModel",
       "_view_count": null,
       "_view_module": "@jupyter-widgets/base",
       "_view_module_version": "1.2.0",
       "_view_name": "LayoutView",
       "align_content": null,
       "align_items": null,
       "align_self": null,
       "border": null,
       "bottom": null,
       "display": null,
       "flex": null,
       "flex_flow": null,
       "grid_area": null,
       "grid_auto_columns": null,
       "grid_auto_flow": null,
       "grid_auto_rows": null,
       "grid_column": null,
       "grid_gap": null,
       "grid_row": null,
       "grid_template_areas": null,
       "grid_template_columns": null,
       "grid_template_rows": null,
       "height": null,
       "justify_content": null,
       "justify_items": null,
       "left": null,
       "margin": null,
       "max_height": null,
       "max_width": null,
       "min_height": null,
       "min_width": null,
       "object_fit": null,
       "object_position": null,
       "order": null,
       "overflow": null,
       "overflow_x": null,
       "overflow_y": null,
       "padding": null,
       "right": null,
       "top": null,
       "visibility": null,
       "width": null
      }
     },
     "455d547e58e94ff6922adf72af1de6b0": {
      "model_module": "@jupyter-widgets/base",
      "model_module_version": "1.2.0",
      "model_name": "LayoutModel",
      "state": {
       "_model_module": "@jupyter-widgets/base",
       "_model_module_version": "1.2.0",
       "_model_name": "LayoutModel",
       "_view_count": null,
       "_view_module": "@jupyter-widgets/base",
       "_view_module_version": "1.2.0",
       "_view_name": "LayoutView",
       "align_content": null,
       "align_items": null,
       "align_self": null,
       "border": null,
       "bottom": null,
       "display": null,
       "flex": null,
       "flex_flow": null,
       "grid_area": null,
       "grid_auto_columns": null,
       "grid_auto_flow": null,
       "grid_auto_rows": null,
       "grid_column": null,
       "grid_gap": null,
       "grid_row": null,
       "grid_template_areas": null,
       "grid_template_columns": null,
       "grid_template_rows": null,
       "height": null,
       "justify_content": null,
       "justify_items": null,
       "left": null,
       "margin": null,
       "max_height": null,
       "max_width": null,
       "min_height": null,
       "min_width": null,
       "object_fit": null,
       "object_position": null,
       "order": null,
       "overflow": null,
       "overflow_x": null,
       "overflow_y": null,
       "padding": null,
       "right": null,
       "top": null,
       "visibility": null,
       "width": null
      }
     },
     "46ccdb71de284d139895be7ba7c24c60": {
      "model_module": "@jupyter-widgets/controls",
      "model_module_version": "1.5.0",
      "model_name": "VBoxModel",
      "state": {
       "_dom_classes": [],
       "_model_module": "@jupyter-widgets/controls",
       "_model_module_version": "1.5.0",
       "_model_name": "VBoxModel",
       "_view_count": null,
       "_view_module": "@jupyter-widgets/controls",
       "_view_module_version": "1.5.0",
       "_view_name": "VBoxView",
       "box_style": "",
       "children": [
        "IPY_MODEL_538d7cdb193844c685795a3692b057bd",
        "IPY_MODEL_125938185a1d4026a7c2b93b3536bdac"
       ],
       "layout": "IPY_MODEL_a1c5cc959caa45438cc17c17fe429393"
      }
     },
     "475ca112c5164581ab9fceb1faed3dcb": {
      "model_module": "@jupyter-widgets/controls",
      "model_module_version": "1.5.0",
      "model_name": "DescriptionStyleModel",
      "state": {
       "_model_module": "@jupyter-widgets/controls",
       "_model_module_version": "1.5.0",
       "_model_name": "DescriptionStyleModel",
       "_view_count": null,
       "_view_module": "@jupyter-widgets/base",
       "_view_module_version": "1.2.0",
       "_view_name": "StyleView",
       "description_width": ""
      }
     },
     "496b554a407b4ce88a3ccecaaf20f754": {
      "model_module": "@jupyter-widgets/base",
      "model_module_version": "1.2.0",
      "model_name": "LayoutModel",
      "state": {
       "_model_module": "@jupyter-widgets/base",
       "_model_module_version": "1.2.0",
       "_model_name": "LayoutModel",
       "_view_count": null,
       "_view_module": "@jupyter-widgets/base",
       "_view_module_version": "1.2.0",
       "_view_name": "LayoutView",
       "align_content": null,
       "align_items": null,
       "align_self": null,
       "border": null,
       "bottom": null,
       "display": null,
       "flex": null,
       "flex_flow": null,
       "grid_area": null,
       "grid_auto_columns": null,
       "grid_auto_flow": null,
       "grid_auto_rows": null,
       "grid_column": null,
       "grid_gap": null,
       "grid_row": null,
       "grid_template_areas": null,
       "grid_template_columns": null,
       "grid_template_rows": null,
       "height": null,
       "justify_content": null,
       "justify_items": null,
       "left": null,
       "margin": null,
       "max_height": null,
       "max_width": null,
       "min_height": null,
       "min_width": null,
       "object_fit": null,
       "object_position": null,
       "order": null,
       "overflow": null,
       "overflow_x": null,
       "overflow_y": null,
       "padding": null,
       "right": null,
       "top": null,
       "visibility": null,
       "width": null
      }
     },
     "4cbb01938d79431b9ca8102ee681781b": {
      "model_module": "@jupyter-widgets/base",
      "model_module_version": "1.2.0",
      "model_name": "LayoutModel",
      "state": {
       "_model_module": "@jupyter-widgets/base",
       "_model_module_version": "1.2.0",
       "_model_name": "LayoutModel",
       "_view_count": null,
       "_view_module": "@jupyter-widgets/base",
       "_view_module_version": "1.2.0",
       "_view_name": "LayoutView",
       "align_content": null,
       "align_items": null,
       "align_self": null,
       "border": null,
       "bottom": null,
       "display": null,
       "flex": null,
       "flex_flow": null,
       "grid_area": null,
       "grid_auto_columns": null,
       "grid_auto_flow": null,
       "grid_auto_rows": null,
       "grid_column": null,
       "grid_gap": null,
       "grid_row": null,
       "grid_template_areas": null,
       "grid_template_columns": null,
       "grid_template_rows": null,
       "height": null,
       "justify_content": null,
       "justify_items": null,
       "left": null,
       "margin": null,
       "max_height": null,
       "max_width": null,
       "min_height": null,
       "min_width": null,
       "object_fit": null,
       "object_position": null,
       "order": null,
       "overflow": null,
       "overflow_x": null,
       "overflow_y": null,
       "padding": null,
       "right": null,
       "top": null,
       "visibility": null,
       "width": null
      }
     },
     "538d7cdb193844c685795a3692b057bd": {
      "model_module": "@jupyter-widgets/controls",
      "model_module_version": "1.5.0",
      "model_name": "LabelModel",
      "state": {
       "_dom_classes": [],
       "_model_module": "@jupyter-widgets/controls",
       "_model_module_version": "1.5.0",
       "_model_name": "LabelModel",
       "_view_count": null,
       "_view_module": "@jupyter-widgets/controls",
       "_view_module_version": "1.5.0",
       "_view_name": "LabelView",
       "description": "",
       "description_tooltip": null,
       "layout": "IPY_MODEL_1ef0dbbaef354447b6ea2a30c01ba3b9",
       "placeholder": "​",
       "style": "IPY_MODEL_97c4a7f15fe84a968820e03981a08aa1",
       "value": "0.026 MB of 0.026 MB uploaded (0.000 MB deduped)\r"
      }
     },
     "5894287ac53140279461951026d6087d": {
      "model_module": "@jupyter-widgets/base",
      "model_module_version": "1.2.0",
      "model_name": "LayoutModel",
      "state": {
       "_model_module": "@jupyter-widgets/base",
       "_model_module_version": "1.2.0",
       "_model_name": "LayoutModel",
       "_view_count": null,
       "_view_module": "@jupyter-widgets/base",
       "_view_module_version": "1.2.0",
       "_view_name": "LayoutView",
       "align_content": null,
       "align_items": null,
       "align_self": null,
       "border": null,
       "bottom": null,
       "display": null,
       "flex": null,
       "flex_flow": null,
       "grid_area": null,
       "grid_auto_columns": null,
       "grid_auto_flow": null,
       "grid_auto_rows": null,
       "grid_column": null,
       "grid_gap": null,
       "grid_row": null,
       "grid_template_areas": null,
       "grid_template_columns": null,
       "grid_template_rows": null,
       "height": null,
       "justify_content": null,
       "justify_items": null,
       "left": null,
       "margin": null,
       "max_height": null,
       "max_width": null,
       "min_height": null,
       "min_width": null,
       "object_fit": null,
       "object_position": null,
       "order": null,
       "overflow": null,
       "overflow_x": null,
       "overflow_y": null,
       "padding": null,
       "right": null,
       "top": null,
       "visibility": null,
       "width": null
      }
     },
     "5ba0d3e25ed84b03bb0da985fca56b6d": {
      "model_module": "@jupyter-widgets/base",
      "model_module_version": "1.2.0",
      "model_name": "LayoutModel",
      "state": {
       "_model_module": "@jupyter-widgets/base",
       "_model_module_version": "1.2.0",
       "_model_name": "LayoutModel",
       "_view_count": null,
       "_view_module": "@jupyter-widgets/base",
       "_view_module_version": "1.2.0",
       "_view_name": "LayoutView",
       "align_content": null,
       "align_items": null,
       "align_self": null,
       "border": null,
       "bottom": null,
       "display": null,
       "flex": null,
       "flex_flow": null,
       "grid_area": null,
       "grid_auto_columns": null,
       "grid_auto_flow": null,
       "grid_auto_rows": null,
       "grid_column": null,
       "grid_gap": null,
       "grid_row": null,
       "grid_template_areas": null,
       "grid_template_columns": null,
       "grid_template_rows": null,
       "height": null,
       "justify_content": null,
       "justify_items": null,
       "left": null,
       "margin": null,
       "max_height": null,
       "max_width": null,
       "min_height": null,
       "min_width": null,
       "object_fit": null,
       "object_position": null,
       "order": null,
       "overflow": null,
       "overflow_x": null,
       "overflow_y": null,
       "padding": null,
       "right": null,
       "top": null,
       "visibility": null,
       "width": null
      }
     },
     "5d3fe412cb7b4286b1a03b57b275081f": {
      "model_module": "@jupyter-widgets/controls",
      "model_module_version": "1.5.0",
      "model_name": "DescriptionStyleModel",
      "state": {
       "_model_module": "@jupyter-widgets/controls",
       "_model_module_version": "1.5.0",
       "_model_name": "DescriptionStyleModel",
       "_view_count": null,
       "_view_module": "@jupyter-widgets/base",
       "_view_module_version": "1.2.0",
       "_view_name": "StyleView",
       "description_width": ""
      }
     },
     "60da39aa60e74abda27337a55b909209": {
      "model_module": "@jupyter-widgets/base",
      "model_module_version": "1.2.0",
      "model_name": "LayoutModel",
      "state": {
       "_model_module": "@jupyter-widgets/base",
       "_model_module_version": "1.2.0",
       "_model_name": "LayoutModel",
       "_view_count": null,
       "_view_module": "@jupyter-widgets/base",
       "_view_module_version": "1.2.0",
       "_view_name": "LayoutView",
       "align_content": null,
       "align_items": null,
       "align_self": null,
       "border": null,
       "bottom": null,
       "display": null,
       "flex": null,
       "flex_flow": null,
       "grid_area": null,
       "grid_auto_columns": null,
       "grid_auto_flow": null,
       "grid_auto_rows": null,
       "grid_column": null,
       "grid_gap": null,
       "grid_row": null,
       "grid_template_areas": null,
       "grid_template_columns": null,
       "grid_template_rows": null,
       "height": null,
       "justify_content": null,
       "justify_items": null,
       "left": null,
       "margin": null,
       "max_height": null,
       "max_width": null,
       "min_height": null,
       "min_width": null,
       "object_fit": null,
       "object_position": null,
       "order": null,
       "overflow": null,
       "overflow_x": null,
       "overflow_y": null,
       "padding": null,
       "right": null,
       "top": null,
       "visibility": null,
       "width": null
      }
     },
     "640af726dbea45c589a55bcc0c4752cd": {
      "model_module": "@jupyter-widgets/controls",
      "model_module_version": "1.5.0",
      "model_name": "ProgressStyleModel",
      "state": {
       "_model_module": "@jupyter-widgets/controls",
       "_model_module_version": "1.5.0",
       "_model_name": "ProgressStyleModel",
       "_view_count": null,
       "_view_module": "@jupyter-widgets/base",
       "_view_module_version": "1.2.0",
       "_view_name": "StyleView",
       "bar_color": null,
       "description_width": ""
      }
     },
     "6610dff6fc7b49c99c34b23837d0a27c": {
      "model_module": "@jupyter-widgets/controls",
      "model_module_version": "1.5.0",
      "model_name": "DescriptionStyleModel",
      "state": {
       "_model_module": "@jupyter-widgets/controls",
       "_model_module_version": "1.5.0",
       "_model_name": "DescriptionStyleModel",
       "_view_count": null,
       "_view_module": "@jupyter-widgets/base",
       "_view_module_version": "1.2.0",
       "_view_name": "StyleView",
       "description_width": ""
      }
     },
     "6766c9eeac6a4df197a111d0c1132a55": {
      "model_module": "@jupyter-widgets/controls",
      "model_module_version": "1.5.0",
      "model_name": "ProgressStyleModel",
      "state": {
       "_model_module": "@jupyter-widgets/controls",
       "_model_module_version": "1.5.0",
       "_model_name": "ProgressStyleModel",
       "_view_count": null,
       "_view_module": "@jupyter-widgets/base",
       "_view_module_version": "1.2.0",
       "_view_name": "StyleView",
       "bar_color": null,
       "description_width": ""
      }
     },
     "69cd8a6742624995a90c8313ea127ee1": {
      "model_module": "@jupyter-widgets/base",
      "model_module_version": "1.2.0",
      "model_name": "LayoutModel",
      "state": {
       "_model_module": "@jupyter-widgets/base",
       "_model_module_version": "1.2.0",
       "_model_name": "LayoutModel",
       "_view_count": null,
       "_view_module": "@jupyter-widgets/base",
       "_view_module_version": "1.2.0",
       "_view_name": "LayoutView",
       "align_content": null,
       "align_items": null,
       "align_self": null,
       "border": null,
       "bottom": null,
       "display": null,
       "flex": null,
       "flex_flow": null,
       "grid_area": null,
       "grid_auto_columns": null,
       "grid_auto_flow": null,
       "grid_auto_rows": null,
       "grid_column": null,
       "grid_gap": null,
       "grid_row": null,
       "grid_template_areas": null,
       "grid_template_columns": null,
       "grid_template_rows": null,
       "height": null,
       "justify_content": null,
       "justify_items": null,
       "left": null,
       "margin": null,
       "max_height": null,
       "max_width": null,
       "min_height": null,
       "min_width": null,
       "object_fit": null,
       "object_position": null,
       "order": null,
       "overflow": null,
       "overflow_x": null,
       "overflow_y": null,
       "padding": null,
       "right": null,
       "top": null,
       "visibility": null,
       "width": null
      }
     },
     "69e11be655954dd5a10075c70310b4db": {
      "model_module": "@jupyter-widgets/controls",
      "model_module_version": "1.5.0",
      "model_name": "DescriptionStyleModel",
      "state": {
       "_model_module": "@jupyter-widgets/controls",
       "_model_module_version": "1.5.0",
       "_model_name": "DescriptionStyleModel",
       "_view_count": null,
       "_view_module": "@jupyter-widgets/base",
       "_view_module_version": "1.2.0",
       "_view_name": "StyleView",
       "description_width": ""
      }
     },
     "6b6213d161924003b2e22030b16a1163": {
      "model_module": "@jupyter-widgets/controls",
      "model_module_version": "1.5.0",
      "model_name": "ProgressStyleModel",
      "state": {
       "_model_module": "@jupyter-widgets/controls",
       "_model_module_version": "1.5.0",
       "_model_name": "ProgressStyleModel",
       "_view_count": null,
       "_view_module": "@jupyter-widgets/base",
       "_view_module_version": "1.2.0",
       "_view_name": "StyleView",
       "bar_color": null,
       "description_width": ""
      }
     },
     "6cbcacc047844f0eaebc85cb47a2d02a": {
      "model_module": "@jupyter-widgets/controls",
      "model_module_version": "1.5.0",
      "model_name": "DescriptionStyleModel",
      "state": {
       "_model_module": "@jupyter-widgets/controls",
       "_model_module_version": "1.5.0",
       "_model_name": "DescriptionStyleModel",
       "_view_count": null,
       "_view_module": "@jupyter-widgets/base",
       "_view_module_version": "1.2.0",
       "_view_name": "StyleView",
       "description_width": ""
      }
     },
     "71ee99e4beaf469f9dca391f41c53f55": {
      "model_module": "@jupyter-widgets/controls",
      "model_module_version": "1.5.0",
      "model_name": "HTMLModel",
      "state": {
       "_dom_classes": [],
       "_model_module": "@jupyter-widgets/controls",
       "_model_module_version": "1.5.0",
       "_model_name": "HTMLModel",
       "_view_count": null,
       "_view_module": "@jupyter-widgets/controls",
       "_view_module_version": "1.5.0",
       "_view_name": "HTMLView",
       "description": "",
       "description_tooltip": null,
       "layout": "IPY_MODEL_b13bd4b18ff74afe82900882d968435d",
       "placeholder": "​",
       "style": "IPY_MODEL_475ca112c5164581ab9fceb1faed3dcb",
       "value": "Downloading (…)solve/main/vocab.txt: 100%"
      }
     },
     "750ab61cc29245a68c98834f2bc1435c": {
      "model_module": "@jupyter-widgets/controls",
      "model_module_version": "1.5.0",
      "model_name": "HTMLModel",
      "state": {
       "_dom_classes": [],
       "_model_module": "@jupyter-widgets/controls",
       "_model_module_version": "1.5.0",
       "_model_name": "HTMLModel",
       "_view_count": null,
       "_view_module": "@jupyter-widgets/controls",
       "_view_module_version": "1.5.0",
       "_view_name": "HTMLView",
       "description": "",
       "description_tooltip": null,
       "layout": "IPY_MODEL_a882cd9d4c3f4ae78de2ad70210ceeb5",
       "placeholder": "​",
       "style": "IPY_MODEL_d14087ade59d460dad2d07f48f4ed265",
       "value": "Downloading (…)lve/main/config.json: 100%"
      }
     },
     "77c5f1c01c2a4bb0a51b1f82dab161b9": {
      "model_module": "@jupyter-widgets/controls",
      "model_module_version": "1.5.0",
      "model_name": "HBoxModel",
      "state": {
       "_dom_classes": [],
       "_model_module": "@jupyter-widgets/controls",
       "_model_module_version": "1.5.0",
       "_model_name": "HBoxModel",
       "_view_count": null,
       "_view_module": "@jupyter-widgets/controls",
       "_view_module_version": "1.5.0",
       "_view_name": "HBoxView",
       "box_style": "",
       "children": [
        "IPY_MODEL_07ea5e2d6bb44a0d8f0f526929c5dd55",
        "IPY_MODEL_9cd50cab9c384744a06f1fe4cf21f2ae",
        "IPY_MODEL_1cbc6a46f856468383bacc8409f45ae5"
       ],
       "layout": "IPY_MODEL_07258935b02d48fc9e9b36b7d594a802"
      }
     },
     "7ac5fef101e447449cb927396e65c32a": {
      "model_module": "@jupyter-widgets/controls",
      "model_module_version": "1.5.0",
      "model_name": "FloatProgressModel",
      "state": {
       "_dom_classes": [],
       "_model_module": "@jupyter-widgets/controls",
       "_model_module_version": "1.5.0",
       "_model_name": "FloatProgressModel",
       "_view_count": null,
       "_view_module": "@jupyter-widgets/controls",
       "_view_module_version": "1.5.0",
       "_view_name": "ProgressView",
       "bar_style": "success",
       "description": "",
       "description_tooltip": null,
       "layout": "IPY_MODEL_9319e2ae715c4bdda7d9d9319643ca2d",
       "max": 435783451,
       "min": 0,
       "orientation": "horizontal",
       "style": "IPY_MODEL_e261a7d466fa4366b7ee0831472ee9a2",
       "value": 435783451
      }
     },
     "7aea2eb0a1ba402fa5068bd1480e9d86": {
      "model_module": "@jupyter-widgets/controls",
      "model_module_version": "1.5.0",
      "model_name": "HBoxModel",
      "state": {
       "_dom_classes": [],
       "_model_module": "@jupyter-widgets/controls",
       "_model_module_version": "1.5.0",
       "_model_name": "HBoxModel",
       "_view_count": null,
       "_view_module": "@jupyter-widgets/controls",
       "_view_module_version": "1.5.0",
       "_view_name": "HBoxView",
       "box_style": "",
       "children": [
        "IPY_MODEL_114e535ccae546feba35367d46bce1b6",
        "IPY_MODEL_c15c7fc735f3409ab9f5b16888b651a6",
        "IPY_MODEL_bbd29a75b0d7479191b4014fad73f9e6"
       ],
       "layout": "IPY_MODEL_42d0e8e68ad646948c8494435c68fd5f"
      }
     },
     "7cfe617361764d2badab069cf74a54c0": {
      "model_module": "@jupyter-widgets/controls",
      "model_module_version": "1.5.0",
      "model_name": "FloatProgressModel",
      "state": {
       "_dom_classes": [],
       "_model_module": "@jupyter-widgets/controls",
       "_model_module_version": "1.5.0",
       "_model_name": "FloatProgressModel",
       "_view_count": null,
       "_view_module": "@jupyter-widgets/controls",
       "_view_module_version": "1.5.0",
       "_view_name": "ProgressView",
       "bar_style": "",
       "description": "",
       "description_tooltip": null,
       "layout": "IPY_MODEL_232a274775d64ba4816405e87e9a2235",
       "max": 1,
       "min": 0,
       "orientation": "horizontal",
       "style": "IPY_MODEL_0a6f807de0184dc193a4e8e01dfbbd52",
       "value": 0
      }
     },
     "7e45937b92b347d4adb08d9ac9fd040f": {
      "model_module": "@jupyter-widgets/base",
      "model_module_version": "1.2.0",
      "model_name": "LayoutModel",
      "state": {
       "_model_module": "@jupyter-widgets/base",
       "_model_module_version": "1.2.0",
       "_model_name": "LayoutModel",
       "_view_count": null,
       "_view_module": "@jupyter-widgets/base",
       "_view_module_version": "1.2.0",
       "_view_name": "LayoutView",
       "align_content": null,
       "align_items": null,
       "align_self": null,
       "border": null,
       "bottom": null,
       "display": null,
       "flex": null,
       "flex_flow": null,
       "grid_area": null,
       "grid_auto_columns": null,
       "grid_auto_flow": null,
       "grid_auto_rows": null,
       "grid_column": null,
       "grid_gap": null,
       "grid_row": null,
       "grid_template_areas": null,
       "grid_template_columns": null,
       "grid_template_rows": null,
       "height": null,
       "justify_content": null,
       "justify_items": null,
       "left": null,
       "margin": null,
       "max_height": null,
       "max_width": null,
       "min_height": null,
       "min_width": null,
       "object_fit": null,
       "object_position": null,
       "order": null,
       "overflow": null,
       "overflow_x": null,
       "overflow_y": null,
       "padding": null,
       "right": null,
       "top": null,
       "visibility": null,
       "width": null
      }
     },
     "80f576e6b974438490664b6c0075eccc": {
      "model_module": "@jupyter-widgets/controls",
      "model_module_version": "1.5.0",
      "model_name": "ProgressStyleModel",
      "state": {
       "_model_module": "@jupyter-widgets/controls",
       "_model_module_version": "1.5.0",
       "_model_name": "ProgressStyleModel",
       "_view_count": null,
       "_view_module": "@jupyter-widgets/base",
       "_view_module_version": "1.2.0",
       "_view_name": "StyleView",
       "bar_color": null,
       "description_width": ""
      }
     },
     "8112dbb3ba534dbfa0e40c16bb66d3c8": {
      "model_module": "@jupyter-widgets/controls",
      "model_module_version": "1.5.0",
      "model_name": "DescriptionStyleModel",
      "state": {
       "_model_module": "@jupyter-widgets/controls",
       "_model_module_version": "1.5.0",
       "_model_name": "DescriptionStyleModel",
       "_view_count": null,
       "_view_module": "@jupyter-widgets/base",
       "_view_module_version": "1.2.0",
       "_view_name": "StyleView",
       "description_width": ""
      }
     },
     "82fd68d8f39c49c78a4ddd12e93b02d2": {
      "model_module": "@jupyter-widgets/controls",
      "model_module_version": "1.5.0",
      "model_name": "DescriptionStyleModel",
      "state": {
       "_model_module": "@jupyter-widgets/controls",
       "_model_module_version": "1.5.0",
       "_model_name": "DescriptionStyleModel",
       "_view_count": null,
       "_view_module": "@jupyter-widgets/base",
       "_view_module_version": "1.2.0",
       "_view_name": "StyleView",
       "description_width": ""
      }
     },
     "838cb7f8c32f402f9a168d61ab1ac439": {
      "model_module": "@jupyter-widgets/controls",
      "model_module_version": "1.5.0",
      "model_name": "HTMLModel",
      "state": {
       "_dom_classes": [],
       "_model_module": "@jupyter-widgets/controls",
       "_model_module_version": "1.5.0",
       "_model_name": "HTMLModel",
       "_view_count": null,
       "_view_module": "@jupyter-widgets/controls",
       "_view_module_version": "1.5.0",
       "_view_name": "HTMLView",
       "description": "",
       "description_tooltip": null,
       "layout": "IPY_MODEL_88dd5187033a45bb91df626c02721b16",
       "placeholder": "​",
       "style": "IPY_MODEL_fd111ac08fe541d8b0361a86cd6fc960",
       "value": "Downloading (…)lve/main/config.json: 100%"
      }
     },
     "88dd5187033a45bb91df626c02721b16": {
      "model_module": "@jupyter-widgets/base",
      "model_module_version": "1.2.0",
      "model_name": "LayoutModel",
      "state": {
       "_model_module": "@jupyter-widgets/base",
       "_model_module_version": "1.2.0",
       "_model_name": "LayoutModel",
       "_view_count": null,
       "_view_module": "@jupyter-widgets/base",
       "_view_module_version": "1.2.0",
       "_view_name": "LayoutView",
       "align_content": null,
       "align_items": null,
       "align_self": null,
       "border": null,
       "bottom": null,
       "display": null,
       "flex": null,
       "flex_flow": null,
       "grid_area": null,
       "grid_auto_columns": null,
       "grid_auto_flow": null,
       "grid_auto_rows": null,
       "grid_column": null,
       "grid_gap": null,
       "grid_row": null,
       "grid_template_areas": null,
       "grid_template_columns": null,
       "grid_template_rows": null,
       "height": null,
       "justify_content": null,
       "justify_items": null,
       "left": null,
       "margin": null,
       "max_height": null,
       "max_width": null,
       "min_height": null,
       "min_width": null,
       "object_fit": null,
       "object_position": null,
       "order": null,
       "overflow": null,
       "overflow_x": null,
       "overflow_y": null,
       "padding": null,
       "right": null,
       "top": null,
       "visibility": null,
       "width": null
      }
     },
     "8a9a8f2fa7df4199ba76c8dde7d0ab4b": {
      "model_module": "@jupyter-widgets/controls",
      "model_module_version": "1.5.0",
      "model_name": "HTMLModel",
      "state": {
       "_dom_classes": [],
       "_model_module": "@jupyter-widgets/controls",
       "_model_module_version": "1.5.0",
       "_model_name": "HTMLModel",
       "_view_count": null,
       "_view_module": "@jupyter-widgets/controls",
       "_view_module_version": "1.5.0",
       "_view_name": "HTMLView",
       "description": "",
       "description_tooltip": null,
       "layout": "IPY_MODEL_aa4b6042fc2143f9be0179fa651b0571",
       "placeholder": "​",
       "style": "IPY_MODEL_5d3fe412cb7b4286b1a03b57b275081f",
       "value": "Downloading pytorch_model.bin: 100%"
      }
     },
     "914724a6ef6e4c90ab3fc281e22a48bb": {
      "model_module": "@jupyter-widgets/base",
      "model_module_version": "1.2.0",
      "model_name": "LayoutModel",
      "state": {
       "_model_module": "@jupyter-widgets/base",
       "_model_module_version": "1.2.0",
       "_model_name": "LayoutModel",
       "_view_count": null,
       "_view_module": "@jupyter-widgets/base",
       "_view_module_version": "1.2.0",
       "_view_name": "LayoutView",
       "align_content": null,
       "align_items": null,
       "align_self": null,
       "border": null,
       "bottom": null,
       "display": null,
       "flex": null,
       "flex_flow": null,
       "grid_area": null,
       "grid_auto_columns": null,
       "grid_auto_flow": null,
       "grid_auto_rows": null,
       "grid_column": null,
       "grid_gap": null,
       "grid_row": null,
       "grid_template_areas": null,
       "grid_template_columns": null,
       "grid_template_rows": null,
       "height": null,
       "justify_content": null,
       "justify_items": null,
       "left": null,
       "margin": null,
       "max_height": null,
       "max_width": null,
       "min_height": null,
       "min_width": null,
       "object_fit": null,
       "object_position": null,
       "order": null,
       "overflow": null,
       "overflow_x": null,
       "overflow_y": null,
       "padding": null,
       "right": null,
       "top": null,
       "visibility": null,
       "width": null
      }
     },
     "9319e2ae715c4bdda7d9d9319643ca2d": {
      "model_module": "@jupyter-widgets/base",
      "model_module_version": "1.2.0",
      "model_name": "LayoutModel",
      "state": {
       "_model_module": "@jupyter-widgets/base",
       "_model_module_version": "1.2.0",
       "_model_name": "LayoutModel",
       "_view_count": null,
       "_view_module": "@jupyter-widgets/base",
       "_view_module_version": "1.2.0",
       "_view_name": "LayoutView",
       "align_content": null,
       "align_items": null,
       "align_self": null,
       "border": null,
       "bottom": null,
       "display": null,
       "flex": null,
       "flex_flow": null,
       "grid_area": null,
       "grid_auto_columns": null,
       "grid_auto_flow": null,
       "grid_auto_rows": null,
       "grid_column": null,
       "grid_gap": null,
       "grid_row": null,
       "grid_template_areas": null,
       "grid_template_columns": null,
       "grid_template_rows": null,
       "height": null,
       "justify_content": null,
       "justify_items": null,
       "left": null,
       "margin": null,
       "max_height": null,
       "max_width": null,
       "min_height": null,
       "min_width": null,
       "object_fit": null,
       "object_position": null,
       "order": null,
       "overflow": null,
       "overflow_x": null,
       "overflow_y": null,
       "padding": null,
       "right": null,
       "top": null,
       "visibility": null,
       "width": null
      }
     },
     "95c5272cc849405e8c690fc432dcf98f": {
      "model_module": "@jupyter-widgets/controls",
      "model_module_version": "1.5.0",
      "model_name": "FloatProgressModel",
      "state": {
       "_dom_classes": [],
       "_model_module": "@jupyter-widgets/controls",
       "_model_module_version": "1.5.0",
       "_model_name": "FloatProgressModel",
       "_view_count": null,
       "_view_module": "@jupyter-widgets/controls",
       "_view_module_version": "1.5.0",
       "_view_name": "ProgressView",
       "bar_style": "success",
       "description": "",
       "description_tooltip": null,
       "layout": "IPY_MODEL_496b554a407b4ce88a3ccecaaf20f754",
       "max": 213450,
       "min": 0,
       "orientation": "horizontal",
       "style": "IPY_MODEL_fb3f14faab594b5f9b6d8f376bd852f1",
       "value": 213450
      }
     },
     "97c4a7f15fe84a968820e03981a08aa1": {
      "model_module": "@jupyter-widgets/controls",
      "model_module_version": "1.5.0",
      "model_name": "DescriptionStyleModel",
      "state": {
       "_model_module": "@jupyter-widgets/controls",
       "_model_module_version": "1.5.0",
       "_model_name": "DescriptionStyleModel",
       "_view_count": null,
       "_view_module": "@jupyter-widgets/base",
       "_view_module_version": "1.2.0",
       "_view_name": "StyleView",
       "description_width": ""
      }
     },
     "98d304d69d704117ab7a3204acc8f755": {
      "model_module": "@jupyter-widgets/controls",
      "model_module_version": "1.5.0",
      "model_name": "HTMLModel",
      "state": {
       "_dom_classes": [],
       "_model_module": "@jupyter-widgets/controls",
       "_model_module_version": "1.5.0",
       "_model_name": "HTMLModel",
       "_view_count": null,
       "_view_module": "@jupyter-widgets/controls",
       "_view_module_version": "1.5.0",
       "_view_name": "HTMLView",
       "description": "",
       "description_tooltip": null,
       "layout": "IPY_MODEL_c5bfdb544e57473883b191aa4e4498a3",
       "placeholder": "​",
       "style": "IPY_MODEL_82fd68d8f39c49c78a4ddd12e93b02d2",
       "value": " 125/125 [00:00&lt;00:00, 3.83kB/s]"
      }
     },
     "9b8b88310c9043548df8243bc25ad101": {
      "model_module": "@jupyter-widgets/controls",
      "model_module_version": "1.5.0",
      "model_name": "HBoxModel",
      "state": {
       "_dom_classes": [],
       "_model_module": "@jupyter-widgets/controls",
       "_model_module_version": "1.5.0",
       "_model_name": "HBoxModel",
       "_view_count": null,
       "_view_module": "@jupyter-widgets/controls",
       "_view_module_version": "1.5.0",
       "_view_name": "HBoxView",
       "box_style": "",
       "children": [
        "IPY_MODEL_838cb7f8c32f402f9a168d61ab1ac439",
        "IPY_MODEL_1060e92857f6439492eda5df1af30b4d",
        "IPY_MODEL_ffe6a867733d4638be095b35d0cee91a"
       ],
       "layout": "IPY_MODEL_aed2df8377f743b9901d3ecc8156ca38"
      }
     },
     "9b93cf7ab3374f12941a183735b6b1cb": {
      "model_module": "@jupyter-widgets/base",
      "model_module_version": "1.2.0",
      "model_name": "LayoutModel",
      "state": {
       "_model_module": "@jupyter-widgets/base",
       "_model_module_version": "1.2.0",
       "_model_name": "LayoutModel",
       "_view_count": null,
       "_view_module": "@jupyter-widgets/base",
       "_view_module_version": "1.2.0",
       "_view_name": "LayoutView",
       "align_content": null,
       "align_items": null,
       "align_self": null,
       "border": null,
       "bottom": null,
       "display": null,
       "flex": null,
       "flex_flow": null,
       "grid_area": null,
       "grid_auto_columns": null,
       "grid_auto_flow": null,
       "grid_auto_rows": null,
       "grid_column": null,
       "grid_gap": null,
       "grid_row": null,
       "grid_template_areas": null,
       "grid_template_columns": null,
       "grid_template_rows": null,
       "height": null,
       "justify_content": null,
       "justify_items": null,
       "left": null,
       "margin": null,
       "max_height": null,
       "max_width": null,
       "min_height": null,
       "min_width": null,
       "object_fit": null,
       "object_position": null,
       "order": null,
       "overflow": null,
       "overflow_x": null,
       "overflow_y": null,
       "padding": null,
       "right": null,
       "top": null,
       "visibility": null,
       "width": null
      }
     },
     "9cd50cab9c384744a06f1fe4cf21f2ae": {
      "model_module": "@jupyter-widgets/controls",
      "model_module_version": "1.5.0",
      "model_name": "FloatProgressModel",
      "state": {
       "_dom_classes": [],
       "_model_module": "@jupyter-widgets/controls",
       "_model_module_version": "1.5.0",
       "_model_name": "FloatProgressModel",
       "_view_count": null,
       "_view_module": "@jupyter-widgets/controls",
       "_view_module_version": "1.5.0",
       "_view_name": "ProgressView",
       "bar_style": "success",
       "description": "",
       "description_tooltip": null,
       "layout": "IPY_MODEL_455d547e58e94ff6922adf72af1de6b0",
       "max": 1,
       "min": 0,
       "orientation": "horizontal",
       "style": "IPY_MODEL_6b6213d161924003b2e22030b16a1163",
       "value": 1
      }
     },
     "a1c5cc959caa45438cc17c17fe429393": {
      "model_module": "@jupyter-widgets/base",
      "model_module_version": "1.2.0",
      "model_name": "LayoutModel",
      "state": {
       "_model_module": "@jupyter-widgets/base",
       "_model_module_version": "1.2.0",
       "_model_name": "LayoutModel",
       "_view_count": null,
       "_view_module": "@jupyter-widgets/base",
       "_view_module_version": "1.2.0",
       "_view_name": "LayoutView",
       "align_content": null,
       "align_items": null,
       "align_self": null,
       "border": null,
       "bottom": null,
       "display": null,
       "flex": null,
       "flex_flow": null,
       "grid_area": null,
       "grid_auto_columns": null,
       "grid_auto_flow": null,
       "grid_auto_rows": null,
       "grid_column": null,
       "grid_gap": null,
       "grid_row": null,
       "grid_template_areas": null,
       "grid_template_columns": null,
       "grid_template_rows": null,
       "height": null,
       "justify_content": null,
       "justify_items": null,
       "left": null,
       "margin": null,
       "max_height": null,
       "max_width": null,
       "min_height": null,
       "min_width": null,
       "object_fit": null,
       "object_position": null,
       "order": null,
       "overflow": null,
       "overflow_x": null,
       "overflow_y": null,
       "padding": null,
       "right": null,
       "top": null,
       "visibility": null,
       "width": null
      }
     },
     "a2fe5a5d0ff241ab8bdfc1ee1ab1fd9b": {
      "model_module": "@jupyter-widgets/controls",
      "model_module_version": "1.5.0",
      "model_name": "DescriptionStyleModel",
      "state": {
       "_model_module": "@jupyter-widgets/controls",
       "_model_module_version": "1.5.0",
       "_model_name": "DescriptionStyleModel",
       "_view_count": null,
       "_view_module": "@jupyter-widgets/base",
       "_view_module_version": "1.2.0",
       "_view_name": "StyleView",
       "description_width": ""
      }
     },
     "a3ccb9545d814ce2ab7ac5047bdb1a98": {
      "model_module": "@jupyter-widgets/controls",
      "model_module_version": "1.5.0",
      "model_name": "DescriptionStyleModel",
      "state": {
       "_model_module": "@jupyter-widgets/controls",
       "_model_module_version": "1.5.0",
       "_model_name": "DescriptionStyleModel",
       "_view_count": null,
       "_view_module": "@jupyter-widgets/base",
       "_view_module_version": "1.2.0",
       "_view_name": "StyleView",
       "description_width": ""
      }
     },
     "a64246f237c44029b2b293cec0454cd4": {
      "model_module": "@jupyter-widgets/base",
      "model_module_version": "1.2.0",
      "model_name": "LayoutModel",
      "state": {
       "_model_module": "@jupyter-widgets/base",
       "_model_module_version": "1.2.0",
       "_model_name": "LayoutModel",
       "_view_count": null,
       "_view_module": "@jupyter-widgets/base",
       "_view_module_version": "1.2.0",
       "_view_name": "LayoutView",
       "align_content": null,
       "align_items": null,
       "align_self": null,
       "border": null,
       "bottom": null,
       "display": null,
       "flex": null,
       "flex_flow": null,
       "grid_area": null,
       "grid_auto_columns": null,
       "grid_auto_flow": null,
       "grid_auto_rows": null,
       "grid_column": null,
       "grid_gap": null,
       "grid_row": null,
       "grid_template_areas": null,
       "grid_template_columns": null,
       "grid_template_rows": null,
       "height": null,
       "justify_content": null,
       "justify_items": null,
       "left": null,
       "margin": null,
       "max_height": null,
       "max_width": null,
       "min_height": null,
       "min_width": null,
       "object_fit": null,
       "object_position": null,
       "order": null,
       "overflow": null,
       "overflow_x": null,
       "overflow_y": null,
       "padding": null,
       "right": null,
       "top": null,
       "visibility": null,
       "width": null
      }
     },
     "a7d0fb1ba607483f801ed1c723e8be6f": {
      "model_module": "@jupyter-widgets/controls",
      "model_module_version": "1.5.0",
      "model_name": "FloatProgressModel",
      "state": {
       "_dom_classes": [],
       "_model_module": "@jupyter-widgets/controls",
       "_model_module_version": "1.5.0",
       "_model_name": "FloatProgressModel",
       "_view_count": null,
       "_view_module": "@jupyter-widgets/controls",
       "_view_module_version": "1.5.0",
       "_view_name": "ProgressView",
       "bar_style": "success",
       "description": "",
       "description_tooltip": null,
       "layout": "IPY_MODEL_c499f4495b1d4fa691ac5643c200ff45",
       "max": 388,
       "min": 0,
       "orientation": "horizontal",
       "style": "IPY_MODEL_ac1a120974b54922b5ce7bd07b575e4a",
       "value": 388
      }
     },
     "a882cd9d4c3f4ae78de2ad70210ceeb5": {
      "model_module": "@jupyter-widgets/base",
      "model_module_version": "1.2.0",
      "model_name": "LayoutModel",
      "state": {
       "_model_module": "@jupyter-widgets/base",
       "_model_module_version": "1.2.0",
       "_model_name": "LayoutModel",
       "_view_count": null,
       "_view_module": "@jupyter-widgets/base",
       "_view_module_version": "1.2.0",
       "_view_name": "LayoutView",
       "align_content": null,
       "align_items": null,
       "align_self": null,
       "border": null,
       "bottom": null,
       "display": null,
       "flex": null,
       "flex_flow": null,
       "grid_area": null,
       "grid_auto_columns": null,
       "grid_auto_flow": null,
       "grid_auto_rows": null,
       "grid_column": null,
       "grid_gap": null,
       "grid_row": null,
       "grid_template_areas": null,
       "grid_template_columns": null,
       "grid_template_rows": null,
       "height": null,
       "justify_content": null,
       "justify_items": null,
       "left": null,
       "margin": null,
       "max_height": null,
       "max_width": null,
       "min_height": null,
       "min_width": null,
       "object_fit": null,
       "object_position": null,
       "order": null,
       "overflow": null,
       "overflow_x": null,
       "overflow_y": null,
       "padding": null,
       "right": null,
       "top": null,
       "visibility": null,
       "width": null
      }
     },
     "aa4b6042fc2143f9be0179fa651b0571": {
      "model_module": "@jupyter-widgets/base",
      "model_module_version": "1.2.0",
      "model_name": "LayoutModel",
      "state": {
       "_model_module": "@jupyter-widgets/base",
       "_model_module_version": "1.2.0",
       "_model_name": "LayoutModel",
       "_view_count": null,
       "_view_module": "@jupyter-widgets/base",
       "_view_module_version": "1.2.0",
       "_view_name": "LayoutView",
       "align_content": null,
       "align_items": null,
       "align_self": null,
       "border": null,
       "bottom": null,
       "display": null,
       "flex": null,
       "flex_flow": null,
       "grid_area": null,
       "grid_auto_columns": null,
       "grid_auto_flow": null,
       "grid_auto_rows": null,
       "grid_column": null,
       "grid_gap": null,
       "grid_row": null,
       "grid_template_areas": null,
       "grid_template_columns": null,
       "grid_template_rows": null,
       "height": null,
       "justify_content": null,
       "justify_items": null,
       "left": null,
       "margin": null,
       "max_height": null,
       "max_width": null,
       "min_height": null,
       "min_width": null,
       "object_fit": null,
       "object_position": null,
       "order": null,
       "overflow": null,
       "overflow_x": null,
       "overflow_y": null,
       "padding": null,
       "right": null,
       "top": null,
       "visibility": null,
       "width": null
      }
     },
     "ac1a120974b54922b5ce7bd07b575e4a": {
      "model_module": "@jupyter-widgets/controls",
      "model_module_version": "1.5.0",
      "model_name": "ProgressStyleModel",
      "state": {
       "_model_module": "@jupyter-widgets/controls",
       "_model_module_version": "1.5.0",
       "_model_name": "ProgressStyleModel",
       "_view_count": null,
       "_view_module": "@jupyter-widgets/base",
       "_view_module_version": "1.2.0",
       "_view_name": "StyleView",
       "bar_color": null,
       "description_width": ""
      }
     },
     "aed2df8377f743b9901d3ecc8156ca38": {
      "model_module": "@jupyter-widgets/base",
      "model_module_version": "1.2.0",
      "model_name": "LayoutModel",
      "state": {
       "_model_module": "@jupyter-widgets/base",
       "_model_module_version": "1.2.0",
       "_model_name": "LayoutModel",
       "_view_count": null,
       "_view_module": "@jupyter-widgets/base",
       "_view_module_version": "1.2.0",
       "_view_name": "LayoutView",
       "align_content": null,
       "align_items": null,
       "align_self": null,
       "border": null,
       "bottom": null,
       "display": null,
       "flex": null,
       "flex_flow": null,
       "grid_area": null,
       "grid_auto_columns": null,
       "grid_auto_flow": null,
       "grid_auto_rows": null,
       "grid_column": null,
       "grid_gap": null,
       "grid_row": null,
       "grid_template_areas": null,
       "grid_template_columns": null,
       "grid_template_rows": null,
       "height": null,
       "justify_content": null,
       "justify_items": null,
       "left": null,
       "margin": null,
       "max_height": null,
       "max_width": null,
       "min_height": null,
       "min_width": null,
       "object_fit": null,
       "object_position": null,
       "order": null,
       "overflow": null,
       "overflow_x": null,
       "overflow_y": null,
       "padding": null,
       "right": null,
       "top": null,
       "visibility": null,
       "width": null
      }
     },
     "b13bd4b18ff74afe82900882d968435d": {
      "model_module": "@jupyter-widgets/base",
      "model_module_version": "1.2.0",
      "model_name": "LayoutModel",
      "state": {
       "_model_module": "@jupyter-widgets/base",
       "_model_module_version": "1.2.0",
       "_model_name": "LayoutModel",
       "_view_count": null,
       "_view_module": "@jupyter-widgets/base",
       "_view_module_version": "1.2.0",
       "_view_name": "LayoutView",
       "align_content": null,
       "align_items": null,
       "align_self": null,
       "border": null,
       "bottom": null,
       "display": null,
       "flex": null,
       "flex_flow": null,
       "grid_area": null,
       "grid_auto_columns": null,
       "grid_auto_flow": null,
       "grid_auto_rows": null,
       "grid_column": null,
       "grid_gap": null,
       "grid_row": null,
       "grid_template_areas": null,
       "grid_template_columns": null,
       "grid_template_rows": null,
       "height": null,
       "justify_content": null,
       "justify_items": null,
       "left": null,
       "margin": null,
       "max_height": null,
       "max_width": null,
       "min_height": null,
       "min_width": null,
       "object_fit": null,
       "object_position": null,
       "order": null,
       "overflow": null,
       "overflow_x": null,
       "overflow_y": null,
       "padding": null,
       "right": null,
       "top": null,
       "visibility": null,
       "width": null
      }
     },
     "b173eb710250440e8721536f24d9a6fa": {
      "model_module": "@jupyter-widgets/controls",
      "model_module_version": "1.5.0",
      "model_name": "HTMLModel",
      "state": {
       "_dom_classes": [],
       "_model_module": "@jupyter-widgets/controls",
       "_model_module_version": "1.5.0",
       "_model_name": "HTMLModel",
       "_view_count": null,
       "_view_module": "@jupyter-widgets/controls",
       "_view_module_version": "1.5.0",
       "_view_name": "HTMLView",
       "description": "",
       "description_tooltip": null,
       "layout": "IPY_MODEL_f499266385104f60aba24e15d371b29f",
       "placeholder": "​",
       "style": "IPY_MODEL_eebed0945c334f84a905d94c87877f33",
       "value": " 1.81k/1.81k [00:00&lt;00:00, 67.0kB/s]"
      }
     },
     "b32e2576102b463cbfc8c64cfb2f2ce4": {
      "model_module": "@jupyter-widgets/base",
      "model_module_version": "1.2.0",
      "model_name": "LayoutModel",
      "state": {
       "_model_module": "@jupyter-widgets/base",
       "_model_module_version": "1.2.0",
       "_model_name": "LayoutModel",
       "_view_count": null,
       "_view_module": "@jupyter-widgets/base",
       "_view_module_version": "1.2.0",
       "_view_name": "LayoutView",
       "align_content": null,
       "align_items": null,
       "align_self": null,
       "border": null,
       "bottom": null,
       "display": null,
       "flex": null,
       "flex_flow": null,
       "grid_area": null,
       "grid_auto_columns": null,
       "grid_auto_flow": null,
       "grid_auto_rows": null,
       "grid_column": null,
       "grid_gap": null,
       "grid_row": null,
       "grid_template_areas": null,
       "grid_template_columns": null,
       "grid_template_rows": null,
       "height": null,
       "justify_content": null,
       "justify_items": null,
       "left": null,
       "margin": null,
       "max_height": null,
       "max_width": null,
       "min_height": null,
       "min_width": null,
       "object_fit": null,
       "object_position": null,
       "order": null,
       "overflow": null,
       "overflow_x": null,
       "overflow_y": null,
       "padding": null,
       "right": null,
       "top": null,
       "visibility": null,
       "width": null
      }
     },
     "b42d4176a1e34a3a98dd65373e8d2e30": {
      "model_module": "@jupyter-widgets/controls",
      "model_module_version": "1.5.0",
      "model_name": "HTMLModel",
      "state": {
       "_dom_classes": [],
       "_model_module": "@jupyter-widgets/controls",
       "_model_module_version": "1.5.0",
       "_model_name": "HTMLModel",
       "_view_count": null,
       "_view_module": "@jupyter-widgets/controls",
       "_view_module_version": "1.5.0",
       "_view_name": "HTMLView",
       "description": "",
       "description_tooltip": null,
       "layout": "IPY_MODEL_de08489f344146c681f463b620e9e342",
       "placeholder": "​",
       "style": "IPY_MODEL_6610dff6fc7b49c99c34b23837d0a27c",
       "value": "Downloading (…)cial_tokens_map.json: 100%"
      }
     },
     "b4b598ab671d429293d9772790c6c02a": {
      "model_module": "@jupyter-widgets/controls",
      "model_module_version": "1.5.0",
      "model_name": "HTMLModel",
      "state": {
       "_dom_classes": [],
       "_model_module": "@jupyter-widgets/controls",
       "_model_module_version": "1.5.0",
       "_model_name": "HTMLModel",
       "_view_count": null,
       "_view_module": "@jupyter-widgets/controls",
       "_view_module_version": "1.5.0",
       "_view_name": "HTMLView",
       "description": "",
       "description_tooltip": null,
       "layout": "IPY_MODEL_02aad007643342c28e37dd95286361fa",
       "placeholder": "​",
       "style": "IPY_MODEL_69e11be655954dd5a10075c70310b4db",
       "value": " 213k/213k [00:00&lt;00:00, 5.23MB/s]"
      }
     },
     "bbd29a75b0d7479191b4014fad73f9e6": {
      "model_module": "@jupyter-widgets/controls",
      "model_module_version": "1.5.0",
      "model_name": "HTMLModel",
      "state": {
       "_dom_classes": [],
       "_model_module": "@jupyter-widgets/controls",
       "_model_module_version": "1.5.0",
       "_model_name": "HTMLModel",
       "_view_count": null,
       "_view_module": "@jupyter-widgets/controls",
       "_view_module_version": "1.5.0",
       "_view_name": "HTMLView",
       "description": "",
       "description_tooltip": null,
       "layout": "IPY_MODEL_7e45937b92b347d4adb08d9ac9fd040f",
       "placeholder": "​",
       "style": "IPY_MODEL_0e6772fab66b4fcb900c0cec3579d6e5",
       "value": " 433M/433M [01:26&lt;00:00, 3.36MB/s]"
      }
     },
     "bc0f737776c44b3fb0c5afd273d0ae5c": {
      "model_module": "@jupyter-widgets/controls",
      "model_module_version": "1.5.0",
      "model_name": "HTMLModel",
      "state": {
       "_dom_classes": [],
       "_model_module": "@jupyter-widgets/controls",
       "_model_module_version": "1.5.0",
       "_model_name": "HTMLModel",
       "_view_count": null,
       "_view_module": "@jupyter-widgets/controls",
       "_view_module_version": "1.5.0",
       "_view_name": "HTMLView",
       "description": "",
       "description_tooltip": null,
       "layout": "IPY_MODEL_1f1a5c28f93443949ec579755809dd0c",
       "placeholder": "​",
       "style": "IPY_MODEL_2ad5062494d44c9baf7c5a2f2da3306d",
       "value": " 433M/433M [00:20&lt;00:00, 23.5MB/s]"
      }
     },
     "bd08f61650c2467d953a54df561c715a": {
      "model_module": "@jupyter-widgets/controls",
      "model_module_version": "1.5.0",
      "model_name": "HBoxModel",
      "state": {
       "_dom_classes": [],
       "_model_module": "@jupyter-widgets/controls",
       "_model_module_version": "1.5.0",
       "_model_name": "HBoxModel",
       "_view_count": null,
       "_view_module": "@jupyter-widgets/controls",
       "_view_module_version": "1.5.0",
       "_view_name": "HBoxView",
       "box_style": "",
       "children": [
        "IPY_MODEL_0e6bfa158f884334853370efaf3e74b0",
        "IPY_MODEL_c88ac31aa8a741fc87537e978ee35f1b",
        "IPY_MODEL_b4b598ab671d429293d9772790c6c02a"
       ],
       "layout": "IPY_MODEL_f8ded775e3c44a27ad342b8d541c0c50"
      }
     },
     "c0235f3acf6240c6a9902d7750003714": {
      "model_module": "@jupyter-widgets/base",
      "model_module_version": "1.2.0",
      "model_name": "LayoutModel",
      "state": {
       "_model_module": "@jupyter-widgets/base",
       "_model_module_version": "1.2.0",
       "_model_name": "LayoutModel",
       "_view_count": null,
       "_view_module": "@jupyter-widgets/base",
       "_view_module_version": "1.2.0",
       "_view_name": "LayoutView",
       "align_content": null,
       "align_items": null,
       "align_self": null,
       "border": null,
       "bottom": null,
       "display": null,
       "flex": null,
       "flex_flow": null,
       "grid_area": null,
       "grid_auto_columns": null,
       "grid_auto_flow": null,
       "grid_auto_rows": null,
       "grid_column": null,
       "grid_gap": null,
       "grid_row": null,
       "grid_template_areas": null,
       "grid_template_columns": null,
       "grid_template_rows": null,
       "height": null,
       "justify_content": null,
       "justify_items": null,
       "left": null,
       "margin": null,
       "max_height": null,
       "max_width": null,
       "min_height": null,
       "min_width": null,
       "object_fit": null,
       "object_position": null,
       "order": null,
       "overflow": null,
       "overflow_x": null,
       "overflow_y": null,
       "padding": null,
       "right": null,
       "top": null,
       "visibility": null,
       "width": null
      }
     },
     "c0dbaf58d3fd41c19e3a81d016ed2c51": {
      "model_module": "@jupyter-widgets/controls",
      "model_module_version": "1.5.0",
      "model_name": "DescriptionStyleModel",
      "state": {
       "_model_module": "@jupyter-widgets/controls",
       "_model_module_version": "1.5.0",
       "_model_name": "DescriptionStyleModel",
       "_view_count": null,
       "_view_module": "@jupyter-widgets/base",
       "_view_module_version": "1.2.0",
       "_view_name": "StyleView",
       "description_width": ""
      }
     },
     "c15c7fc735f3409ab9f5b16888b651a6": {
      "model_module": "@jupyter-widgets/controls",
      "model_module_version": "1.5.0",
      "model_name": "FloatProgressModel",
      "state": {
       "_dom_classes": [],
       "_model_module": "@jupyter-widgets/controls",
       "_model_module_version": "1.5.0",
       "_model_name": "FloatProgressModel",
       "_view_count": null,
       "_view_module": "@jupyter-widgets/controls",
       "_view_module_version": "1.5.0",
       "_view_name": "ProgressView",
       "bar_style": "success",
       "description": "",
       "description_tooltip": null,
       "layout": "IPY_MODEL_2da71071bf2c49f8935aaedc5d8c148c",
       "max": 433355117,
       "min": 0,
       "orientation": "horizontal",
       "style": "IPY_MODEL_1821a639fc40467c9505023823333ef8",
       "value": 433355117
      }
     },
     "c2a74444e9614f4d9701461fcc7e11ad": {
      "model_module": "@jupyter-widgets/base",
      "model_module_version": "1.2.0",
      "model_name": "LayoutModel",
      "state": {
       "_model_module": "@jupyter-widgets/base",
       "_model_module_version": "1.2.0",
       "_model_name": "LayoutModel",
       "_view_count": null,
       "_view_module": "@jupyter-widgets/base",
       "_view_module_version": "1.2.0",
       "_view_name": "LayoutView",
       "align_content": null,
       "align_items": null,
       "align_self": null,
       "border": null,
       "bottom": null,
       "display": null,
       "flex": null,
       "flex_flow": null,
       "grid_area": null,
       "grid_auto_columns": null,
       "grid_auto_flow": null,
       "grid_auto_rows": null,
       "grid_column": null,
       "grid_gap": null,
       "grid_row": null,
       "grid_template_areas": null,
       "grid_template_columns": null,
       "grid_template_rows": null,
       "height": null,
       "justify_content": null,
       "justify_items": null,
       "left": null,
       "margin": null,
       "max_height": null,
       "max_width": null,
       "min_height": null,
       "min_width": null,
       "object_fit": null,
       "object_position": null,
       "order": null,
       "overflow": null,
       "overflow_x": null,
       "overflow_y": null,
       "padding": null,
       "right": null,
       "top": null,
       "visibility": null,
       "width": null
      }
     },
     "c3f28f605fd245f48e102977704c5af1": {
      "model_module": "@jupyter-widgets/base",
      "model_module_version": "1.2.0",
      "model_name": "LayoutModel",
      "state": {
       "_model_module": "@jupyter-widgets/base",
       "_model_module_version": "1.2.0",
       "_model_name": "LayoutModel",
       "_view_count": null,
       "_view_module": "@jupyter-widgets/base",
       "_view_module_version": "1.2.0",
       "_view_name": "LayoutView",
       "align_content": null,
       "align_items": null,
       "align_self": null,
       "border": null,
       "bottom": null,
       "display": null,
       "flex": null,
       "flex_flow": null,
       "grid_area": null,
       "grid_auto_columns": null,
       "grid_auto_flow": null,
       "grid_auto_rows": null,
       "grid_column": null,
       "grid_gap": null,
       "grid_row": null,
       "grid_template_areas": null,
       "grid_template_columns": null,
       "grid_template_rows": null,
       "height": null,
       "justify_content": null,
       "justify_items": null,
       "left": null,
       "margin": null,
       "max_height": null,
       "max_width": null,
       "min_height": null,
       "min_width": null,
       "object_fit": null,
       "object_position": null,
       "order": null,
       "overflow": null,
       "overflow_x": null,
       "overflow_y": null,
       "padding": null,
       "right": null,
       "top": null,
       "visibility": null,
       "width": null
      }
     },
     "c499f4495b1d4fa691ac5643c200ff45": {
      "model_module": "@jupyter-widgets/base",
      "model_module_version": "1.2.0",
      "model_name": "LayoutModel",
      "state": {
       "_model_module": "@jupyter-widgets/base",
       "_model_module_version": "1.2.0",
       "_model_name": "LayoutModel",
       "_view_count": null,
       "_view_module": "@jupyter-widgets/base",
       "_view_module_version": "1.2.0",
       "_view_name": "LayoutView",
       "align_content": null,
       "align_items": null,
       "align_self": null,
       "border": null,
       "bottom": null,
       "display": null,
       "flex": null,
       "flex_flow": null,
       "grid_area": null,
       "grid_auto_columns": null,
       "grid_auto_flow": null,
       "grid_auto_rows": null,
       "grid_column": null,
       "grid_gap": null,
       "grid_row": null,
       "grid_template_areas": null,
       "grid_template_columns": null,
       "grid_template_rows": null,
       "height": null,
       "justify_content": null,
       "justify_items": null,
       "left": null,
       "margin": null,
       "max_height": null,
       "max_width": null,
       "min_height": null,
       "min_width": null,
       "object_fit": null,
       "object_position": null,
       "order": null,
       "overflow": null,
       "overflow_x": null,
       "overflow_y": null,
       "padding": null,
       "right": null,
       "top": null,
       "visibility": null,
       "width": null
      }
     },
     "c4edf16b636f4dbabc74f7d99be65beb": {
      "model_module": "@jupyter-widgets/base",
      "model_module_version": "1.2.0",
      "model_name": "LayoutModel",
      "state": {
       "_model_module": "@jupyter-widgets/base",
       "_model_module_version": "1.2.0",
       "_model_name": "LayoutModel",
       "_view_count": null,
       "_view_module": "@jupyter-widgets/base",
       "_view_module_version": "1.2.0",
       "_view_name": "LayoutView",
       "align_content": null,
       "align_items": null,
       "align_self": null,
       "border": null,
       "bottom": null,
       "display": null,
       "flex": null,
       "flex_flow": null,
       "grid_area": null,
       "grid_auto_columns": null,
       "grid_auto_flow": null,
       "grid_auto_rows": null,
       "grid_column": null,
       "grid_gap": null,
       "grid_row": null,
       "grid_template_areas": null,
       "grid_template_columns": null,
       "grid_template_rows": null,
       "height": null,
       "justify_content": null,
       "justify_items": null,
       "left": null,
       "margin": null,
       "max_height": null,
       "max_width": null,
       "min_height": null,
       "min_width": null,
       "object_fit": null,
       "object_position": null,
       "order": null,
       "overflow": null,
       "overflow_x": null,
       "overflow_y": null,
       "padding": null,
       "right": null,
       "top": null,
       "visibility": null,
       "width": null
      }
     },
     "c5bfdb544e57473883b191aa4e4498a3": {
      "model_module": "@jupyter-widgets/base",
      "model_module_version": "1.2.0",
      "model_name": "LayoutModel",
      "state": {
       "_model_module": "@jupyter-widgets/base",
       "_model_module_version": "1.2.0",
       "_model_name": "LayoutModel",
       "_view_count": null,
       "_view_module": "@jupyter-widgets/base",
       "_view_module_version": "1.2.0",
       "_view_name": "LayoutView",
       "align_content": null,
       "align_items": null,
       "align_self": null,
       "border": null,
       "bottom": null,
       "display": null,
       "flex": null,
       "flex_flow": null,
       "grid_area": null,
       "grid_auto_columns": null,
       "grid_auto_flow": null,
       "grid_auto_rows": null,
       "grid_column": null,
       "grid_gap": null,
       "grid_row": null,
       "grid_template_areas": null,
       "grid_template_columns": null,
       "grid_template_rows": null,
       "height": null,
       "justify_content": null,
       "justify_items": null,
       "left": null,
       "margin": null,
       "max_height": null,
       "max_width": null,
       "min_height": null,
       "min_width": null,
       "object_fit": null,
       "object_position": null,
       "order": null,
       "overflow": null,
       "overflow_x": null,
       "overflow_y": null,
       "padding": null,
       "right": null,
       "top": null,
       "visibility": null,
       "width": null
      }
     },
     "c88ac31aa8a741fc87537e978ee35f1b": {
      "model_module": "@jupyter-widgets/controls",
      "model_module_version": "1.5.0",
      "model_name": "FloatProgressModel",
      "state": {
       "_dom_classes": [],
       "_model_module": "@jupyter-widgets/controls",
       "_model_module_version": "1.5.0",
       "_model_name": "FloatProgressModel",
       "_view_count": null,
       "_view_module": "@jupyter-widgets/controls",
       "_view_module_version": "1.5.0",
       "_view_name": "ProgressView",
       "bar_style": "success",
       "description": "",
       "description_tooltip": null,
       "layout": "IPY_MODEL_c0235f3acf6240c6a9902d7750003714",
       "max": 213450,
       "min": 0,
       "orientation": "horizontal",
       "style": "IPY_MODEL_40a4fbcaa63e4356a54d7c2a338d39b6",
       "value": 213450
      }
     },
     "c9fa1e18500044c7abb7a8971714afa2": {
      "model_module": "@jupyter-widgets/controls",
      "model_module_version": "1.5.0",
      "model_name": "DescriptionStyleModel",
      "state": {
       "_model_module": "@jupyter-widgets/controls",
       "_model_module_version": "1.5.0",
       "_model_name": "DescriptionStyleModel",
       "_view_count": null,
       "_view_module": "@jupyter-widgets/base",
       "_view_module_version": "1.2.0",
       "_view_name": "StyleView",
       "description_width": ""
      }
     },
     "cac0ffe0871f4c4a81177e277b89ca8c": {
      "model_module": "@jupyter-widgets/controls",
      "model_module_version": "1.5.0",
      "model_name": "HTMLModel",
      "state": {
       "_dom_classes": [],
       "_model_module": "@jupyter-widgets/controls",
       "_model_module_version": "1.5.0",
       "_model_name": "HTMLModel",
       "_view_count": null,
       "_view_module": "@jupyter-widgets/controls",
       "_view_module_version": "1.5.0",
       "_view_name": "HTMLView",
       "description": "",
       "description_tooltip": null,
       "layout": "IPY_MODEL_60da39aa60e74abda27337a55b909209",
       "placeholder": "​",
       "style": "IPY_MODEL_2fcc3ee72c6f4e8ea512a552d364fab1",
       "value": "Downloading (…)okenizer_config.json: 100%"
      }
     },
     "d00aac80aca440a78cc82f0d25f4b479": {
      "model_module": "@jupyter-widgets/base",
      "model_module_version": "1.2.0",
      "model_name": "LayoutModel",
      "state": {
       "_model_module": "@jupyter-widgets/base",
       "_model_module_version": "1.2.0",
       "_model_name": "LayoutModel",
       "_view_count": null,
       "_view_module": "@jupyter-widgets/base",
       "_view_module_version": "1.2.0",
       "_view_name": "LayoutView",
       "align_content": null,
       "align_items": null,
       "align_self": null,
       "border": null,
       "bottom": null,
       "display": null,
       "flex": null,
       "flex_flow": null,
       "grid_area": null,
       "grid_auto_columns": null,
       "grid_auto_flow": null,
       "grid_auto_rows": null,
       "grid_column": null,
       "grid_gap": null,
       "grid_row": null,
       "grid_template_areas": null,
       "grid_template_columns": null,
       "grid_template_rows": null,
       "height": null,
       "justify_content": null,
       "justify_items": null,
       "left": null,
       "margin": null,
       "max_height": null,
       "max_width": null,
       "min_height": null,
       "min_width": null,
       "object_fit": null,
       "object_position": null,
       "order": null,
       "overflow": null,
       "overflow_x": null,
       "overflow_y": null,
       "padding": null,
       "right": null,
       "top": null,
       "visibility": null,
       "width": null
      }
     },
     "d079023fdac74d40af4a77aac8067a74": {
      "model_module": "@jupyter-widgets/controls",
      "model_module_version": "1.5.0",
      "model_name": "HBoxModel",
      "state": {
       "_dom_classes": [],
       "_model_module": "@jupyter-widgets/controls",
       "_model_module_version": "1.5.0",
       "_model_name": "HBoxModel",
       "_view_count": null,
       "_view_module": "@jupyter-widgets/controls",
       "_view_module_version": "1.5.0",
       "_view_name": "HBoxView",
       "box_style": "",
       "children": [
        "IPY_MODEL_71ee99e4beaf469f9dca391f41c53f55",
        "IPY_MODEL_95c5272cc849405e8c690fc432dcf98f",
        "IPY_MODEL_da6c8cfabac94ac6a48a28565d02fae3"
       ],
       "layout": "IPY_MODEL_0957a96777d543918dedf2d82a0ceef7"
      }
     },
     "d14087ade59d460dad2d07f48f4ed265": {
      "model_module": "@jupyter-widgets/controls",
      "model_module_version": "1.5.0",
      "model_name": "DescriptionStyleModel",
      "state": {
       "_model_module": "@jupyter-widgets/controls",
       "_model_module_version": "1.5.0",
       "_model_name": "DescriptionStyleModel",
       "_view_count": null,
       "_view_module": "@jupyter-widgets/base",
       "_view_module_version": "1.2.0",
       "_view_name": "StyleView",
       "description_width": ""
      }
     },
     "d944f9b35b4e47eb8a7f7767badf464a": {
      "model_module": "@jupyter-widgets/controls",
      "model_module_version": "1.5.0",
      "model_name": "FloatProgressModel",
      "state": {
       "_dom_classes": [],
       "_model_module": "@jupyter-widgets/controls",
       "_model_module_version": "1.5.0",
       "_model_name": "FloatProgressModel",
       "_view_count": null,
       "_view_module": "@jupyter-widgets/controls",
       "_view_module_version": "1.5.0",
       "_view_name": "ProgressView",
       "bar_style": "success",
       "description": "",
       "description_tooltip": null,
       "layout": "IPY_MODEL_69cd8a6742624995a90c8313ea127ee1",
       "max": 433355117,
       "min": 0,
       "orientation": "horizontal",
       "style": "IPY_MODEL_318d6666d9014867bac333dfafdb893b",
       "value": 433355117
      }
     },
     "da1e26317c2e47deb63fdfefcc238ed2": {
      "model_module": "@jupyter-widgets/base",
      "model_module_version": "1.2.0",
      "model_name": "LayoutModel",
      "state": {
       "_model_module": "@jupyter-widgets/base",
       "_model_module_version": "1.2.0",
       "_model_name": "LayoutModel",
       "_view_count": null,
       "_view_module": "@jupyter-widgets/base",
       "_view_module_version": "1.2.0",
       "_view_name": "LayoutView",
       "align_content": null,
       "align_items": null,
       "align_self": null,
       "border": null,
       "bottom": null,
       "display": null,
       "flex": null,
       "flex_flow": null,
       "grid_area": null,
       "grid_auto_columns": null,
       "grid_auto_flow": null,
       "grid_auto_rows": null,
       "grid_column": null,
       "grid_gap": null,
       "grid_row": null,
       "grid_template_areas": null,
       "grid_template_columns": null,
       "grid_template_rows": null,
       "height": null,
       "justify_content": null,
       "justify_items": null,
       "left": null,
       "margin": null,
       "max_height": null,
       "max_width": null,
       "min_height": null,
       "min_width": null,
       "object_fit": null,
       "object_position": null,
       "order": null,
       "overflow": null,
       "overflow_x": null,
       "overflow_y": null,
       "padding": null,
       "right": null,
       "top": null,
       "visibility": null,
       "width": null
      }
     },
     "da38c856dfef46f18391debe754bf237": {
      "model_module": "@jupyter-widgets/controls",
      "model_module_version": "1.5.0",
      "model_name": "VBoxModel",
      "state": {
       "_dom_classes": [],
       "_model_module": "@jupyter-widgets/controls",
       "_model_module_version": "1.5.0",
       "_model_name": "VBoxModel",
       "_view_count": null,
       "_view_module": "@jupyter-widgets/controls",
       "_view_module_version": "1.5.0",
       "_view_name": "VBoxView",
       "box_style": "",
       "children": [
        "IPY_MODEL_e22b00defe284a32be7f7d7d29bc802f",
        "IPY_MODEL_7cfe617361764d2badab069cf74a54c0"
       ],
       "layout": "IPY_MODEL_a64246f237c44029b2b293cec0454cd4"
      }
     },
     "da6c8cfabac94ac6a48a28565d02fae3": {
      "model_module": "@jupyter-widgets/controls",
      "model_module_version": "1.5.0",
      "model_name": "HTMLModel",
      "state": {
       "_dom_classes": [],
       "_model_module": "@jupyter-widgets/controls",
       "_model_module_version": "1.5.0",
       "_model_name": "HTMLModel",
       "_view_count": null,
       "_view_module": "@jupyter-widgets/controls",
       "_view_module_version": "1.5.0",
       "_view_name": "HTMLView",
       "description": "",
       "description_tooltip": null,
       "layout": "IPY_MODEL_5894287ac53140279461951026d6087d",
       "placeholder": "​",
       "style": "IPY_MODEL_0f18589e503346b1a0a0634ffd9c384f",
       "value": " 213k/213k [00:00&lt;00:00, 5.46MB/s]"
      }
     },
     "dd61cd80a8834e5e9d674efdbb467683": {
      "model_module": "@jupyter-widgets/controls",
      "model_module_version": "1.5.0",
      "model_name": "HBoxModel",
      "state": {
       "_dom_classes": [],
       "_model_module": "@jupyter-widgets/controls",
       "_model_module_version": "1.5.0",
       "_model_name": "HBoxModel",
       "_view_count": null,
       "_view_module": "@jupyter-widgets/controls",
       "_view_module_version": "1.5.0",
       "_view_name": "HBoxView",
       "box_style": "",
       "children": [
        "IPY_MODEL_8a9a8f2fa7df4199ba76c8dde7d0ab4b",
        "IPY_MODEL_7ac5fef101e447449cb927396e65c32a",
        "IPY_MODEL_f1e6a7f683ef4cd4884aa14fdc1c71ef"
       ],
       "layout": "IPY_MODEL_914724a6ef6e4c90ab3fc281e22a48bb"
      }
     },
     "dd7ef694a60a49a29c2143434d226965": {
      "model_module": "@jupyter-widgets/controls",
      "model_module_version": "1.5.0",
      "model_name": "DescriptionStyleModel",
      "state": {
       "_model_module": "@jupyter-widgets/controls",
       "_model_module_version": "1.5.0",
       "_model_name": "DescriptionStyleModel",
       "_view_count": null,
       "_view_module": "@jupyter-widgets/base",
       "_view_module_version": "1.2.0",
       "_view_name": "StyleView",
       "description_width": ""
      }
     },
     "de08489f344146c681f463b620e9e342": {
      "model_module": "@jupyter-widgets/base",
      "model_module_version": "1.2.0",
      "model_name": "LayoutModel",
      "state": {
       "_model_module": "@jupyter-widgets/base",
       "_model_module_version": "1.2.0",
       "_model_name": "LayoutModel",
       "_view_count": null,
       "_view_module": "@jupyter-widgets/base",
       "_view_module_version": "1.2.0",
       "_view_name": "LayoutView",
       "align_content": null,
       "align_items": null,
       "align_self": null,
       "border": null,
       "bottom": null,
       "display": null,
       "flex": null,
       "flex_flow": null,
       "grid_area": null,
       "grid_auto_columns": null,
       "grid_auto_flow": null,
       "grid_auto_rows": null,
       "grid_column": null,
       "grid_gap": null,
       "grid_row": null,
       "grid_template_areas": null,
       "grid_template_columns": null,
       "grid_template_rows": null,
       "height": null,
       "justify_content": null,
       "justify_items": null,
       "left": null,
       "margin": null,
       "max_height": null,
       "max_width": null,
       "min_height": null,
       "min_width": null,
       "object_fit": null,
       "object_position": null,
       "order": null,
       "overflow": null,
       "overflow_x": null,
       "overflow_y": null,
       "padding": null,
       "right": null,
       "top": null,
       "visibility": null,
       "width": null
      }
     },
     "df40e21574414a33839d4ab4c262f256": {
      "model_module": "@jupyter-widgets/base",
      "model_module_version": "1.2.0",
      "model_name": "LayoutModel",
      "state": {
       "_model_module": "@jupyter-widgets/base",
       "_model_module_version": "1.2.0",
       "_model_name": "LayoutModel",
       "_view_count": null,
       "_view_module": "@jupyter-widgets/base",
       "_view_module_version": "1.2.0",
       "_view_name": "LayoutView",
       "align_content": null,
       "align_items": null,
       "align_self": null,
       "border": null,
       "bottom": null,
       "display": null,
       "flex": null,
       "flex_flow": null,
       "grid_area": null,
       "grid_auto_columns": null,
       "grid_auto_flow": null,
       "grid_auto_rows": null,
       "grid_column": null,
       "grid_gap": null,
       "grid_row": null,
       "grid_template_areas": null,
       "grid_template_columns": null,
       "grid_template_rows": null,
       "height": null,
       "justify_content": null,
       "justify_items": null,
       "left": null,
       "margin": null,
       "max_height": null,
       "max_width": null,
       "min_height": null,
       "min_width": null,
       "object_fit": null,
       "object_position": null,
       "order": null,
       "overflow": null,
       "overflow_x": null,
       "overflow_y": null,
       "padding": null,
       "right": null,
       "top": null,
       "visibility": null,
       "width": null
      }
     },
     "e22b00defe284a32be7f7d7d29bc802f": {
      "model_module": "@jupyter-widgets/controls",
      "model_module_version": "1.5.0",
      "model_name": "LabelModel",
      "state": {
       "_dom_classes": [],
       "_model_module": "@jupyter-widgets/controls",
       "_model_module_version": "1.5.0",
       "_model_name": "LabelModel",
       "_view_count": null,
       "_view_module": "@jupyter-widgets/controls",
       "_view_module_version": "1.5.0",
       "_view_name": "LabelView",
       "description": "",
       "description_tooltip": null,
       "layout": "IPY_MODEL_b32e2576102b463cbfc8c64cfb2f2ce4",
       "placeholder": "​",
       "style": "IPY_MODEL_6cbcacc047844f0eaebc85cb47a2d02a",
       "value": ""
      }
     },
     "e261a7d466fa4366b7ee0831472ee9a2": {
      "model_module": "@jupyter-widgets/controls",
      "model_module_version": "1.5.0",
      "model_name": "ProgressStyleModel",
      "state": {
       "_model_module": "@jupyter-widgets/controls",
       "_model_module_version": "1.5.0",
       "_model_name": "ProgressStyleModel",
       "_view_count": null,
       "_view_module": "@jupyter-widgets/base",
       "_view_module_version": "1.2.0",
       "_view_name": "StyleView",
       "bar_color": null,
       "description_width": ""
      }
     },
     "ec67ea5223874517950e2429e966abcc": {
      "model_module": "@jupyter-widgets/base",
      "model_module_version": "1.2.0",
      "model_name": "LayoutModel",
      "state": {
       "_model_module": "@jupyter-widgets/base",
       "_model_module_version": "1.2.0",
       "_model_name": "LayoutModel",
       "_view_count": null,
       "_view_module": "@jupyter-widgets/base",
       "_view_module_version": "1.2.0",
       "_view_name": "LayoutView",
       "align_content": null,
       "align_items": null,
       "align_self": null,
       "border": null,
       "bottom": null,
       "display": null,
       "flex": null,
       "flex_flow": null,
       "grid_area": null,
       "grid_auto_columns": null,
       "grid_auto_flow": null,
       "grid_auto_rows": null,
       "grid_column": null,
       "grid_gap": null,
       "grid_row": null,
       "grid_template_areas": null,
       "grid_template_columns": null,
       "grid_template_rows": null,
       "height": null,
       "justify_content": null,
       "justify_items": null,
       "left": null,
       "margin": null,
       "max_height": null,
       "max_width": null,
       "min_height": null,
       "min_width": null,
       "object_fit": null,
       "object_position": null,
       "order": null,
       "overflow": null,
       "overflow_x": null,
       "overflow_y": null,
       "padding": null,
       "right": null,
       "top": null,
       "visibility": null,
       "width": null
      }
     },
     "eebed0945c334f84a905d94c87877f33": {
      "model_module": "@jupyter-widgets/controls",
      "model_module_version": "1.5.0",
      "model_name": "DescriptionStyleModel",
      "state": {
       "_model_module": "@jupyter-widgets/controls",
       "_model_module_version": "1.5.0",
       "_model_name": "DescriptionStyleModel",
       "_view_count": null,
       "_view_module": "@jupyter-widgets/base",
       "_view_module_version": "1.2.0",
       "_view_name": "StyleView",
       "description_width": ""
      }
     },
     "f1e6a7f683ef4cd4884aa14fdc1c71ef": {
      "model_module": "@jupyter-widgets/controls",
      "model_module_version": "1.5.0",
      "model_name": "HTMLModel",
      "state": {
       "_dom_classes": [],
       "_model_module": "@jupyter-widgets/controls",
       "_model_module_version": "1.5.0",
       "_model_name": "HTMLModel",
       "_view_count": null,
       "_view_module": "@jupyter-widgets/controls",
       "_view_module_version": "1.5.0",
       "_view_name": "HTMLView",
       "description": "",
       "description_tooltip": null,
       "layout": "IPY_MODEL_1341ab4ec99042b38bc207d8f17e6c52",
       "placeholder": "​",
       "style": "IPY_MODEL_2f4669e0fa5142bcba7e92c13ff77d53",
       "value": " 436M/436M [00:20&lt;00:00, 22.8MB/s]"
      }
     },
     "f371805efd3d4f9793a587b3de40ec73": {
      "model_module": "@jupyter-widgets/base",
      "model_module_version": "1.2.0",
      "model_name": "LayoutModel",
      "state": {
       "_model_module": "@jupyter-widgets/base",
       "_model_module_version": "1.2.0",
       "_model_name": "LayoutModel",
       "_view_count": null,
       "_view_module": "@jupyter-widgets/base",
       "_view_module_version": "1.2.0",
       "_view_name": "LayoutView",
       "align_content": null,
       "align_items": null,
       "align_self": null,
       "border": null,
       "bottom": null,
       "display": null,
       "flex": null,
       "flex_flow": null,
       "grid_area": null,
       "grid_auto_columns": null,
       "grid_auto_flow": null,
       "grid_auto_rows": null,
       "grid_column": null,
       "grid_gap": null,
       "grid_row": null,
       "grid_template_areas": null,
       "grid_template_columns": null,
       "grid_template_rows": null,
       "height": null,
       "justify_content": null,
       "justify_items": null,
       "left": null,
       "margin": null,
       "max_height": null,
       "max_width": null,
       "min_height": null,
       "min_width": null,
       "object_fit": null,
       "object_position": null,
       "order": null,
       "overflow": null,
       "overflow_x": null,
       "overflow_y": null,
       "padding": null,
       "right": null,
       "top": null,
       "visibility": null,
       "width": null
      }
     },
     "f499266385104f60aba24e15d371b29f": {
      "model_module": "@jupyter-widgets/base",
      "model_module_version": "1.2.0",
      "model_name": "LayoutModel",
      "state": {
       "_model_module": "@jupyter-widgets/base",
       "_model_module_version": "1.2.0",
       "_model_name": "LayoutModel",
       "_view_count": null,
       "_view_module": "@jupyter-widgets/base",
       "_view_module_version": "1.2.0",
       "_view_name": "LayoutView",
       "align_content": null,
       "align_items": null,
       "align_self": null,
       "border": null,
       "bottom": null,
       "display": null,
       "flex": null,
       "flex_flow": null,
       "grid_area": null,
       "grid_auto_columns": null,
       "grid_auto_flow": null,
       "grid_auto_rows": null,
       "grid_column": null,
       "grid_gap": null,
       "grid_row": null,
       "grid_template_areas": null,
       "grid_template_columns": null,
       "grid_template_rows": null,
       "height": null,
       "justify_content": null,
       "justify_items": null,
       "left": null,
       "margin": null,
       "max_height": null,
       "max_width": null,
       "min_height": null,
       "min_width": null,
       "object_fit": null,
       "object_position": null,
       "order": null,
       "overflow": null,
       "overflow_x": null,
       "overflow_y": null,
       "padding": null,
       "right": null,
       "top": null,
       "visibility": null,
       "width": null
      }
     },
     "f8ded775e3c44a27ad342b8d541c0c50": {
      "model_module": "@jupyter-widgets/base",
      "model_module_version": "1.2.0",
      "model_name": "LayoutModel",
      "state": {
       "_model_module": "@jupyter-widgets/base",
       "_model_module_version": "1.2.0",
       "_model_name": "LayoutModel",
       "_view_count": null,
       "_view_module": "@jupyter-widgets/base",
       "_view_module_version": "1.2.0",
       "_view_name": "LayoutView",
       "align_content": null,
       "align_items": null,
       "align_self": null,
       "border": null,
       "bottom": null,
       "display": null,
       "flex": null,
       "flex_flow": null,
       "grid_area": null,
       "grid_auto_columns": null,
       "grid_auto_flow": null,
       "grid_auto_rows": null,
       "grid_column": null,
       "grid_gap": null,
       "grid_row": null,
       "grid_template_areas": null,
       "grid_template_columns": null,
       "grid_template_rows": null,
       "height": null,
       "justify_content": null,
       "justify_items": null,
       "left": null,
       "margin": null,
       "max_height": null,
       "max_width": null,
       "min_height": null,
       "min_width": null,
       "object_fit": null,
       "object_position": null,
       "order": null,
       "overflow": null,
       "overflow_x": null,
       "overflow_y": null,
       "padding": null,
       "right": null,
       "top": null,
       "visibility": null,
       "width": null
      }
     },
     "fb3f14faab594b5f9b6d8f376bd852f1": {
      "model_module": "@jupyter-widgets/controls",
      "model_module_version": "1.5.0",
      "model_name": "ProgressStyleModel",
      "state": {
       "_model_module": "@jupyter-widgets/controls",
       "_model_module_version": "1.5.0",
       "_model_name": "ProgressStyleModel",
       "_view_count": null,
       "_view_module": "@jupyter-widgets/base",
       "_view_module_version": "1.2.0",
       "_view_name": "StyleView",
       "bar_color": null,
       "description_width": ""
      }
     },
     "fd111ac08fe541d8b0361a86cd6fc960": {
      "model_module": "@jupyter-widgets/controls",
      "model_module_version": "1.5.0",
      "model_name": "DescriptionStyleModel",
      "state": {
       "_model_module": "@jupyter-widgets/controls",
       "_model_module_version": "1.5.0",
       "_model_name": "DescriptionStyleModel",
       "_view_count": null,
       "_view_module": "@jupyter-widgets/base",
       "_view_module_version": "1.2.0",
       "_view_name": "StyleView",
       "description_width": ""
      }
     },
     "ffe6a867733d4638be095b35d0cee91a": {
      "model_module": "@jupyter-widgets/controls",
      "model_module_version": "1.5.0",
      "model_name": "HTMLModel",
      "state": {
       "_dom_classes": [],
       "_model_module": "@jupyter-widgets/controls",
       "_model_module_version": "1.5.0",
       "_model_name": "HTMLModel",
       "_view_count": null,
       "_view_module": "@jupyter-widgets/controls",
       "_view_module_version": "1.5.0",
       "_view_name": "HTMLView",
       "description": "",
       "description_tooltip": null,
       "layout": "IPY_MODEL_0d4363f150404f98a927eb2ba17e2abc",
       "placeholder": "​",
       "style": "IPY_MODEL_c0dbaf58d3fd41c19e3a81d016ed2c51",
       "value": " 1.11k/1.11k [00:00&lt;00:00, 41.3kB/s]"
      }
     }
    },
    "version_major": 2,
    "version_minor": 0
   }
  }
 },
 "nbformat": 4,
 "nbformat_minor": 5
}
